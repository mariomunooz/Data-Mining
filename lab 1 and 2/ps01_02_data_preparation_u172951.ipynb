{
  "cells": [
    {
      "cell_type": "markdown",
      "metadata": {
        "id": "LhO39YVn36oB"
      },
      "source": [
        "# Practice Session 01+02: Data preparation"
      ]
    },
    {
      "cell_type": "markdown",
      "metadata": {
        "id": "4D2TMB0336oK"
      },
      "source": [
        "Data scientists [spend a big chunk of their time preparing data](https://blog.ldodds.com/2020/01/31/do-data-scientists-spend-80-of-their-time-cleaning-data-turns-out-no/) and this is one of the first steps in any data mining project. This step is normally called **data preparation**.\n",
        "\n",
        "The processes of getting an initial understanding of a dataset and preparing it usually go hand-in-hand, and it is critical to perform them well to obtain valid results later. Plus, you can save time and effort by learning how to do proper data preparation.\n",
        "\n",
        "In this session, we will assume you just received a new dataset and need to do some initial steps with it:\n",
        "\n",
        "1) Exploratory Data Analysis\n",
        "\n",
        "* Calculate basis statistics as mean, median, variance, maximum and minimum\n",
        "* Look at distributions, identify outliers\n",
        "* Calculate correlations between variables\n",
        "\n",
        "2) Feature engineering:\n",
        "\n",
        "* Deal with missing values\n",
        "* Standardize all numerical columns\n",
        "* Convert categorical columns to dummy binary variables\n",
        "* Date and period management\n",
        "* Feature generation\n",
        "\n",
        "*Tip*: This process has several steps. It is tempting to maintain a single variable throughout the entire cleaning process, and do something like `x = x.step1()` then `x = x.step2()`. This will create problems for you because if you go back and re-execute a cell it might fail to operate on already transformed data. A better approach in cases like this where you do not have memory problems, is to do `x1 = x.step1()`, `x2 = x1.step2()` and so on, i.e., create a new variable after each transformation or set of transformations.\n",
        "\n",
        "<font size=\"-1\" color=\"gray\">(Remove this cell when delivering.)</font>"
      ]
    },
    {
      "cell_type": "markdown",
      "metadata": {
        "id": "9Q8l7U1p36oR"
      },
      "source": [
        "Author: <font color=\"blue\">Mario Muñoz Serrano</font>\n",
        "\n",
        "E-mail: <font color=\"blue\">mario.munoz01@estudiant.upf.edu</font>\n",
        "\n",
        "Date: <font color=\"blue\">29/09/2022</font>"
      ]
    },
    {
      "cell_type": "markdown",
      "metadata": {
        "id": "-2HSU24R36oU"
      },
      "source": [
        "# 0. The dataset\n",
        "\n",
        "The dataset, contained in `device_db.csv` is a 10000 registers of mobile device purchases around 2019. **Each record in the dataset describes a customer that buys a new mobile telephone**. The attributes are defined as follows:\n",
        " \n",
        "0. PURCHASED_DEVICE: the mobile phone bought by the customer\n",
        "1. DEVICE_VALUE: the cost of the mobile phone bought by the customer\n",
        "2. LAST_DEVICE_DATE: the date of the previous mobile device purchase\n",
        "3. DATA\\_TRAFFIC\\_MONTH_(1..6): The Mbps of data traffic in the month (-1...-6) used by the customer previous to the mobile device purchase\n",
        "4. VOICE\\_TRAFFIC\\_MONTH_(1..6): The minutes of voice traffic in the month (-1...-6) used by the customer previous to the mobile device purchase\n",
        "5. BILLING\\_MONTH\\_(1..6): Billing (USD) in the month (-1...-6) paid by the customer previous to the mobile device purchase\n",
        "6. DEVICE\\_COST\\_MONTH_(1..6): Monthly cost (USD) associated to the mobile device finance in the month (-1...-6) paid by the customer previous to the mobile device purchase: proportion of owner-occupied units built prior to 1940\n",
        "7. LINE\\_ACTIVATION\\_DATE: Date of the activation of the mobile line by the customer\n",
        "8. MONTHS\\_LAST\\_DEVICE: Number of months of the previous mobile device\n",
        "9. DURATION\\_LINE: Number of months since the customer contracted the mobile line\n",
        "10. PREVIOUS\\_DEVICE\\_MODEL: Model of the previous mobile phone\n",
        "11. PREVIOUS\\_DEVICE\\_MANUF: Manufacturer of the previous mobile phone\n",
        "12. PREVIOUS\\_DEVICE\\_BRAND: Brand of the previous mobile phone\n",
        "\n",
        "This dataset will be used in next practices as recommendation engines.\n",
        "\n",
        "<font size=\"-1\" color=\"gray\">(Remove this cell when delivering.)</font>"
      ]
    },
    {
      "cell_type": "markdown",
      "metadata": {
        "id": "tSzpxv4x36oY"
      },
      "source": [
        "# 1. Exploratory data analysis "
      ]
    },
    {
      "cell_type": "markdown",
      "metadata": {
        "id": "7EdScH5g36ob"
      },
      "source": [
        "Exploratory Data Analysis (EDA) allows to us to have an understanding of the dataset from a stadistics perspective, i.e., data distribution and correlation between variables. This is crucial to select the most relevant variables for some purpose.\n",
        "\n",
        "<font size=\"-1\" color=\"gray\">(Remove this cell when delivering.)</font>"
      ]
    },
    {
      "cell_type": "code",
      "execution_count": 2351,
      "metadata": {
        "id": "Y71WtY2S36oe"
      },
      "outputs": [],
      "source": [
        "import pandas as pd\n",
        "import numpy as np\n",
        "import seaborn as sns\n",
        "import matplotlib.pyplot as plt\n",
        "import datetime\n",
        "\n",
        "from matplotlib import pyplot\n",
        "from sklearn.preprocessing import StandardScaler\n",
        "from sklearn.preprocessing import Normalizer\n",
        "from sklearn.preprocessing import MinMaxScaler\n",
        "from numpy import array\n",
        "from numpy import argmax\n",
        "from sklearn.preprocessing import LabelEncoder\n",
        "from sklearn.preprocessing import OneHotEncoder\n",
        "from sklearn.model_selection import train_test_split\n",
        "\n",
        "from sklearn.metrics import accuracy_score, auc, roc_curve, classification_report, confusion_matrix, precision_score, recall_score, precision_recall_curve\n",
        "from sklearn.tree import DecisionTreeClassifier\n"
      ]
    },
    {
      "cell_type": "markdown",
      "metadata": {
        "id": "LqIkaH8P36oh"
      },
      "source": [
        "We open the csv file contaning the data using separator \";\" and assign to a dataframe variable (use `read_csv` from the Pandas library).\n",
        "\n",
        "<font size=\"-1\" color=\"gray\">(Remove this cell when delivering.)</font>"
      ]
    },
    {
      "cell_type": "code",
      "source": [
        "# IMPORT DATASETS FROM DRIVE\n",
        "\n",
        "from google.colab import drive\n",
        "drive.mount('/content/drive/')"
      ],
      "metadata": {
        "colab": {
          "base_uri": "https://localhost:8080/"
        },
        "id": "z-ay8Sui65Ie",
        "outputId": "f318298f-1cb5-4c93-97c5-accc54e2c435"
      },
      "execution_count": 2352,
      "outputs": [
        {
          "output_type": "stream",
          "name": "stdout",
          "text": [
            "Drive already mounted at /content/drive/; to attempt to forcibly remount, call drive.mount(\"/content/drive/\", force_remount=True).\n"
          ]
        }
      ]
    },
    {
      "cell_type": "code",
      "source": [
        "%cd \"/content/drive/MyDrive/Data Mining/data\"\n",
        "%ls"
      ],
      "metadata": {
        "colab": {
          "base_uri": "https://localhost:8080/"
        },
        "id": "ypTV9EiO7rpQ",
        "outputId": "73f4dcb7-9faf-4a0e-b9e9-76c67eca76b7"
      },
      "execution_count": 2353,
      "outputs": [
        {
          "output_type": "stream",
          "name": "stdout",
          "text": [
            "/content/drive/MyDrive/Data Mining/data\n",
            "device_db.csv\n"
          ]
        }
      ]
    },
    {
      "cell_type": "code",
      "execution_count": 2354,
      "metadata": {
        "id": "vSbSCB5936ok"
      },
      "outputs": [],
      "source": [
        "# LEAVE AS-IS\n",
        "input_dataset = pd.read_csv(\"device_db.csv\", sep=\",\")"
      ]
    },
    {
      "cell_type": "markdown",
      "metadata": {
        "id": "PGZPe24336oo"
      },
      "source": [
        "## 1.1. Data types and simple statistics"
      ]
    },
    {
      "cell_type": "code",
      "source": [
        "# create_df_info(df): performs the same than df.info() but creating info as a dataframe\n",
        "def create_df_info(df):\n",
        "  # get data types of each df column\n",
        "  info = pd.DataFrame(df.dtypes)\n",
        "  info['columns'] = info.index\n",
        "  info = info.reset_index(drop=True)\n",
        "  info.columns = ['Dtype', 'column']\n",
        "\n",
        "  # get  non null count per column\n",
        "  null_count = pd.DataFrame(df.count())\n",
        "  null_count['column'] = null_count.index\n",
        "  null_count = null_count.reset_index(drop=True)\n",
        "  null_count.columns = ['Non-Null Count', 'column']\n",
        "\n",
        "  # merge both dataframes non null count and data types\n",
        "  info = null_count.merge(info, on='column', how='left')\n",
        "  info = info[['column', 'Non-Null Count', 'Dtype']]\n",
        "\n",
        "  return info"
      ],
      "metadata": {
        "id": "VS3_io0gHa2V"
      },
      "execution_count": 2355,
      "outputs": []
    },
    {
      "cell_type": "code",
      "source": [
        "#Print Input Dataset Info\n",
        "print('INPUT DATASET COLUMNS:\\n')\n",
        "info = create_df_info(input_dataset)\n",
        "\n",
        "print(info['column'])\n",
        "print('\\nFIRST THREE ROWS OF INPUT DATASET:\\n')\n",
        "input_dataset.head(3)"
      ],
      "metadata": {
        "colab": {
          "base_uri": "https://localhost:8080/",
          "height": 1000
        },
        "id": "qCEClKRf5KxY",
        "outputId": "02f909fa-43cd-4757-bc5f-416f2de863ba"
      },
      "execution_count": 2356,
      "outputs": [
        {
          "output_type": "stream",
          "name": "stdout",
          "text": [
            "INPUT DATASET COLUMNS:\n",
            "\n",
            "0          PURCHASED_DEVICE\n",
            "1              DEVICE_VALUE\n",
            "2        LAST_DEVICE_CHANGE\n",
            "3      DATA_TRAFFIC_MONTH_1\n",
            "4      DATA_TRAFFIC_MONTH_2\n",
            "5      DATA_TRAFFIC_MONTH_3\n",
            "6      DATA_TRAFFIC_MONTH_4\n",
            "7      DATA_TRAFFIC_MONTH_5\n",
            "8      DATA_TRAFFIC_MONTH_6\n",
            "9     VOICE_TRAFFIC_MONTH_1\n",
            "10    VOICE_TRAFFIC_MONTH_2\n",
            "11    VOICE_TRAFFIC_MONTH_3\n",
            "12    VOICE_TRAFFIC_MONTH_4\n",
            "13    VOICE_TRAFFIC_MONTH_5\n",
            "14    VOICE_TRAFFIC_MONTH_6\n",
            "15          BILLING_MONTH_1\n",
            "16          BILLING_MONTH_2\n",
            "17          BILLING_MONTH_3\n",
            "18          BILLING_MONTH_4\n",
            "19          BILLING_MONTH_5\n",
            "20          BILLING_MONTH_6\n",
            "21      DEVICE_COST_MONTH_1\n",
            "22      DEVICE_COST_MONTH_2\n",
            "23      DEVICE_COST_MONTH_3\n",
            "24      DEVICE_COST_MONTH_4\n",
            "25      DEVICE_COST_MONTH_5\n",
            "26      DEVICE_COST_MONTH_6\n",
            "27     LINE_ACTIVATION_DATE\n",
            "28       MONTHS_LAST_DEVICE\n",
            "29            DURATION_LINE\n",
            "30    PREVIOUS_DEVICE_MODEL\n",
            "31    PREVIOUS_DEVICE_MANUF\n",
            "32    PREVIOUS_DEVICE_BRAND\n",
            "Name: column, dtype: object\n",
            "\n",
            "FIRST THREE ROWS OF INPUT DATASET:\n",
            "\n"
          ]
        },
        {
          "output_type": "execute_result",
          "data": {
            "text/plain": [
              "                                    PURCHASED_DEVICE  DEVICE_VALUE  \\\n",
              "0  TGLG29162000_LG X210BMW SMARTPHONE PRETO PPB/P...         393.0   \n",
              "1  TGLG29162000_LG X210BMW SMARTPHONE PRETO PPB/P...         345.0   \n",
              "2     TGMO35912000_MOTOROLA XT1922 SMARTPHONE INDIGO         875.0   \n",
              "\n",
              "   LAST_DEVICE_CHANGE  DATA_TRAFFIC_MONTH_1  DATA_TRAFFIC_MONTH_2  \\\n",
              "0                 NaN             465.24673             530.80615   \n",
              "1          20170401.0             232.24121             272.25525   \n",
              "2                 NaN             484.62036             264.13843   \n",
              "\n",
              "   DATA_TRAFFIC_MONTH_3  DATA_TRAFFIC_MONTH_4  DATA_TRAFFIC_MONTH_5  \\\n",
              "0             530.80615             781.12646             398.99377   \n",
              "1             272.25525             704.88519             412.71664   \n",
              "2             264.13843             348.50073             380.44156   \n",
              "\n",
              "   DATA_TRAFFIC_MONTH_6  VOICE_TRAFFIC_MONTH_1  ...  DEVICE_COST_MONTH_3  \\\n",
              "0            1169.39610                   47.5  ...                 12.0   \n",
              "1             365.14441                    3.7  ...                  0.0   \n",
              "2             250.73566                   26.1  ...                  0.0   \n",
              "\n",
              "   DEVICE_COST_MONTH_4  DEVICE_COST_MONTH_5  DEVICE_COST_MONTH_6  \\\n",
              "0                 12.0                 12.0                 12.0   \n",
              "1                  0.0                  0.0                  0.0   \n",
              "2                  0.0                  0.0                  0.0   \n",
              "\n",
              "   LINE_ACTIVATION_DATE  MONTHS_LAST_DEVICE  DURATION_LINE  \\\n",
              "0            20041220.0                 NaN          172.0   \n",
              "1            20170405.0                20.0           20.0   \n",
              "2            20040412.0                 NaN          176.0   \n",
              "\n",
              "    PREVIOUS_DEVICE_MODEL                    PREVIOUS_DEVICE_MANUF  \\\n",
              "0            Moto G4 Plus  Motorola Mobility LLC, a Lenovo Company   \n",
              "1  Samsung Galaxy J1 Mini                            Samsung Korea   \n",
              "2     Moto E (2ª Geração)  Motorola Mobility LLC, a Lenovo Company   \n",
              "\n",
              "   PREVIOUS_DEVICE_BRAND  \n",
              "0               Motorola  \n",
              "1                Samsung  \n",
              "2               Motorola  \n",
              "\n",
              "[3 rows x 33 columns]"
            ],
            "text/html": [
              "\n",
              "  <div id=\"df-a4b8ee8e-d938-4381-a96c-df8486938089\">\n",
              "    <div class=\"colab-df-container\">\n",
              "      <div>\n",
              "<style scoped>\n",
              "    .dataframe tbody tr th:only-of-type {\n",
              "        vertical-align: middle;\n",
              "    }\n",
              "\n",
              "    .dataframe tbody tr th {\n",
              "        vertical-align: top;\n",
              "    }\n",
              "\n",
              "    .dataframe thead th {\n",
              "        text-align: right;\n",
              "    }\n",
              "</style>\n",
              "<table border=\"1\" class=\"dataframe\">\n",
              "  <thead>\n",
              "    <tr style=\"text-align: right;\">\n",
              "      <th></th>\n",
              "      <th>PURCHASED_DEVICE</th>\n",
              "      <th>DEVICE_VALUE</th>\n",
              "      <th>LAST_DEVICE_CHANGE</th>\n",
              "      <th>DATA_TRAFFIC_MONTH_1</th>\n",
              "      <th>DATA_TRAFFIC_MONTH_2</th>\n",
              "      <th>DATA_TRAFFIC_MONTH_3</th>\n",
              "      <th>DATA_TRAFFIC_MONTH_4</th>\n",
              "      <th>DATA_TRAFFIC_MONTH_5</th>\n",
              "      <th>DATA_TRAFFIC_MONTH_6</th>\n",
              "      <th>VOICE_TRAFFIC_MONTH_1</th>\n",
              "      <th>...</th>\n",
              "      <th>DEVICE_COST_MONTH_3</th>\n",
              "      <th>DEVICE_COST_MONTH_4</th>\n",
              "      <th>DEVICE_COST_MONTH_5</th>\n",
              "      <th>DEVICE_COST_MONTH_6</th>\n",
              "      <th>LINE_ACTIVATION_DATE</th>\n",
              "      <th>MONTHS_LAST_DEVICE</th>\n",
              "      <th>DURATION_LINE</th>\n",
              "      <th>PREVIOUS_DEVICE_MODEL</th>\n",
              "      <th>PREVIOUS_DEVICE_MANUF</th>\n",
              "      <th>PREVIOUS_DEVICE_BRAND</th>\n",
              "    </tr>\n",
              "  </thead>\n",
              "  <tbody>\n",
              "    <tr>\n",
              "      <th>0</th>\n",
              "      <td>TGLG29162000_LG X210BMW SMARTPHONE PRETO PPB/P...</td>\n",
              "      <td>393.0</td>\n",
              "      <td>NaN</td>\n",
              "      <td>465.24673</td>\n",
              "      <td>530.80615</td>\n",
              "      <td>530.80615</td>\n",
              "      <td>781.12646</td>\n",
              "      <td>398.99377</td>\n",
              "      <td>1169.39610</td>\n",
              "      <td>47.5</td>\n",
              "      <td>...</td>\n",
              "      <td>12.0</td>\n",
              "      <td>12.0</td>\n",
              "      <td>12.0</td>\n",
              "      <td>12.0</td>\n",
              "      <td>20041220.0</td>\n",
              "      <td>NaN</td>\n",
              "      <td>172.0</td>\n",
              "      <td>Moto G4 Plus</td>\n",
              "      <td>Motorola Mobility LLC, a Lenovo Company</td>\n",
              "      <td>Motorola</td>\n",
              "    </tr>\n",
              "    <tr>\n",
              "      <th>1</th>\n",
              "      <td>TGLG29162000_LG X210BMW SMARTPHONE PRETO PPB/P...</td>\n",
              "      <td>345.0</td>\n",
              "      <td>20170401.0</td>\n",
              "      <td>232.24121</td>\n",
              "      <td>272.25525</td>\n",
              "      <td>272.25525</td>\n",
              "      <td>704.88519</td>\n",
              "      <td>412.71664</td>\n",
              "      <td>365.14441</td>\n",
              "      <td>3.7</td>\n",
              "      <td>...</td>\n",
              "      <td>0.0</td>\n",
              "      <td>0.0</td>\n",
              "      <td>0.0</td>\n",
              "      <td>0.0</td>\n",
              "      <td>20170405.0</td>\n",
              "      <td>20.0</td>\n",
              "      <td>20.0</td>\n",
              "      <td>Samsung Galaxy J1 Mini</td>\n",
              "      <td>Samsung Korea</td>\n",
              "      <td>Samsung</td>\n",
              "    </tr>\n",
              "    <tr>\n",
              "      <th>2</th>\n",
              "      <td>TGMO35912000_MOTOROLA XT1922 SMARTPHONE INDIGO</td>\n",
              "      <td>875.0</td>\n",
              "      <td>NaN</td>\n",
              "      <td>484.62036</td>\n",
              "      <td>264.13843</td>\n",
              "      <td>264.13843</td>\n",
              "      <td>348.50073</td>\n",
              "      <td>380.44156</td>\n",
              "      <td>250.73566</td>\n",
              "      <td>26.1</td>\n",
              "      <td>...</td>\n",
              "      <td>0.0</td>\n",
              "      <td>0.0</td>\n",
              "      <td>0.0</td>\n",
              "      <td>0.0</td>\n",
              "      <td>20040412.0</td>\n",
              "      <td>NaN</td>\n",
              "      <td>176.0</td>\n",
              "      <td>Moto E (2ª Geração)</td>\n",
              "      <td>Motorola Mobility LLC, a Lenovo Company</td>\n",
              "      <td>Motorola</td>\n",
              "    </tr>\n",
              "  </tbody>\n",
              "</table>\n",
              "<p>3 rows × 33 columns</p>\n",
              "</div>\n",
              "      <button class=\"colab-df-convert\" onclick=\"convertToInteractive('df-a4b8ee8e-d938-4381-a96c-df8486938089')\"\n",
              "              title=\"Convert this dataframe to an interactive table.\"\n",
              "              style=\"display:none;\">\n",
              "        \n",
              "  <svg xmlns=\"http://www.w3.org/2000/svg\" height=\"24px\"viewBox=\"0 0 24 24\"\n",
              "       width=\"24px\">\n",
              "    <path d=\"M0 0h24v24H0V0z\" fill=\"none\"/>\n",
              "    <path d=\"M18.56 5.44l.94 2.06.94-2.06 2.06-.94-2.06-.94-.94-2.06-.94 2.06-2.06.94zm-11 1L8.5 8.5l.94-2.06 2.06-.94-2.06-.94L8.5 2.5l-.94 2.06-2.06.94zm10 10l.94 2.06.94-2.06 2.06-.94-2.06-.94-.94-2.06-.94 2.06-2.06.94z\"/><path d=\"M17.41 7.96l-1.37-1.37c-.4-.4-.92-.59-1.43-.59-.52 0-1.04.2-1.43.59L10.3 9.45l-7.72 7.72c-.78.78-.78 2.05 0 2.83L4 21.41c.39.39.9.59 1.41.59.51 0 1.02-.2 1.41-.59l7.78-7.78 2.81-2.81c.8-.78.8-2.07 0-2.86zM5.41 20L4 18.59l7.72-7.72 1.47 1.35L5.41 20z\"/>\n",
              "  </svg>\n",
              "      </button>\n",
              "      \n",
              "  <style>\n",
              "    .colab-df-container {\n",
              "      display:flex;\n",
              "      flex-wrap:wrap;\n",
              "      gap: 12px;\n",
              "    }\n",
              "\n",
              "    .colab-df-convert {\n",
              "      background-color: #E8F0FE;\n",
              "      border: none;\n",
              "      border-radius: 50%;\n",
              "      cursor: pointer;\n",
              "      display: none;\n",
              "      fill: #1967D2;\n",
              "      height: 32px;\n",
              "      padding: 0 0 0 0;\n",
              "      width: 32px;\n",
              "    }\n",
              "\n",
              "    .colab-df-convert:hover {\n",
              "      background-color: #E2EBFA;\n",
              "      box-shadow: 0px 1px 2px rgba(60, 64, 67, 0.3), 0px 1px 3px 1px rgba(60, 64, 67, 0.15);\n",
              "      fill: #174EA6;\n",
              "    }\n",
              "\n",
              "    [theme=dark] .colab-df-convert {\n",
              "      background-color: #3B4455;\n",
              "      fill: #D2E3FC;\n",
              "    }\n",
              "\n",
              "    [theme=dark] .colab-df-convert:hover {\n",
              "      background-color: #434B5C;\n",
              "      box-shadow: 0px 1px 3px 1px rgba(0, 0, 0, 0.15);\n",
              "      filter: drop-shadow(0px 1px 2px rgba(0, 0, 0, 0.3));\n",
              "      fill: #FFFFFF;\n",
              "    }\n",
              "  </style>\n",
              "\n",
              "      <script>\n",
              "        const buttonEl =\n",
              "          document.querySelector('#df-a4b8ee8e-d938-4381-a96c-df8486938089 button.colab-df-convert');\n",
              "        buttonEl.style.display =\n",
              "          google.colab.kernel.accessAllowed ? 'block' : 'none';\n",
              "\n",
              "        async function convertToInteractive(key) {\n",
              "          const element = document.querySelector('#df-a4b8ee8e-d938-4381-a96c-df8486938089');\n",
              "          const dataTable =\n",
              "            await google.colab.kernel.invokeFunction('convertToInteractive',\n",
              "                                                     [key], {});\n",
              "          if (!dataTable) return;\n",
              "\n",
              "          const docLinkHtml = 'Like what you see? Visit the ' +\n",
              "            '<a target=\"_blank\" href=https://colab.research.google.com/notebooks/data_table.ipynb>data table notebook</a>'\n",
              "            + ' to learn more about interactive tables.';\n",
              "          element.innerHTML = '';\n",
              "          dataTable['output_type'] = 'display_data';\n",
              "          await google.colab.output.renderOutput(dataTable, element);\n",
              "          const docLink = document.createElement('div');\n",
              "          docLink.innerHTML = docLinkHtml;\n",
              "          element.appendChild(docLink);\n",
              "        }\n",
              "      </script>\n",
              "    </div>\n",
              "  </div>\n",
              "  "
            ]
          },
          "metadata": {},
          "execution_count": 2356
        }
      ]
    },
    {
      "cell_type": "code",
      "source": [
        "column_type_df = info.drop('Non-Null Count', axis=1)\n",
        "display(column_type_df)"
      ],
      "metadata": {
        "colab": {
          "base_uri": "https://localhost:8080/",
          "height": 1000
        },
        "id": "ZanyLiIxIZUZ",
        "outputId": "95bb0924-308b-4ebc-a347-9489c77c85cd"
      },
      "execution_count": 2357,
      "outputs": [
        {
          "output_type": "display_data",
          "data": {
            "text/plain": [
              "                   column    Dtype\n",
              "0        PURCHASED_DEVICE   object\n",
              "1            DEVICE_VALUE  float64\n",
              "2      LAST_DEVICE_CHANGE  float64\n",
              "3    DATA_TRAFFIC_MONTH_1  float64\n",
              "4    DATA_TRAFFIC_MONTH_2  float64\n",
              "5    DATA_TRAFFIC_MONTH_3  float64\n",
              "6    DATA_TRAFFIC_MONTH_4  float64\n",
              "7    DATA_TRAFFIC_MONTH_5  float64\n",
              "8    DATA_TRAFFIC_MONTH_6  float64\n",
              "9   VOICE_TRAFFIC_MONTH_1  float64\n",
              "10  VOICE_TRAFFIC_MONTH_2  float64\n",
              "11  VOICE_TRAFFIC_MONTH_3  float64\n",
              "12  VOICE_TRAFFIC_MONTH_4  float64\n",
              "13  VOICE_TRAFFIC_MONTH_5  float64\n",
              "14  VOICE_TRAFFIC_MONTH_6  float64\n",
              "15        BILLING_MONTH_1  float64\n",
              "16        BILLING_MONTH_2  float64\n",
              "17        BILLING_MONTH_3  float64\n",
              "18        BILLING_MONTH_4  float64\n",
              "19        BILLING_MONTH_5  float64\n",
              "20        BILLING_MONTH_6  float64\n",
              "21    DEVICE_COST_MONTH_1  float64\n",
              "22    DEVICE_COST_MONTH_2  float64\n",
              "23    DEVICE_COST_MONTH_3  float64\n",
              "24    DEVICE_COST_MONTH_4  float64\n",
              "25    DEVICE_COST_MONTH_5  float64\n",
              "26    DEVICE_COST_MONTH_6  float64\n",
              "27   LINE_ACTIVATION_DATE  float64\n",
              "28     MONTHS_LAST_DEVICE  float64\n",
              "29          DURATION_LINE  float64\n",
              "30  PREVIOUS_DEVICE_MODEL   object\n",
              "31  PREVIOUS_DEVICE_MANUF   object\n",
              "32  PREVIOUS_DEVICE_BRAND   object"
            ],
            "text/html": [
              "\n",
              "  <div id=\"df-ed1543ef-834f-4827-925f-b78c86e769f2\">\n",
              "    <div class=\"colab-df-container\">\n",
              "      <div>\n",
              "<style scoped>\n",
              "    .dataframe tbody tr th:only-of-type {\n",
              "        vertical-align: middle;\n",
              "    }\n",
              "\n",
              "    .dataframe tbody tr th {\n",
              "        vertical-align: top;\n",
              "    }\n",
              "\n",
              "    .dataframe thead th {\n",
              "        text-align: right;\n",
              "    }\n",
              "</style>\n",
              "<table border=\"1\" class=\"dataframe\">\n",
              "  <thead>\n",
              "    <tr style=\"text-align: right;\">\n",
              "      <th></th>\n",
              "      <th>column</th>\n",
              "      <th>Dtype</th>\n",
              "    </tr>\n",
              "  </thead>\n",
              "  <tbody>\n",
              "    <tr>\n",
              "      <th>0</th>\n",
              "      <td>PURCHASED_DEVICE</td>\n",
              "      <td>object</td>\n",
              "    </tr>\n",
              "    <tr>\n",
              "      <th>1</th>\n",
              "      <td>DEVICE_VALUE</td>\n",
              "      <td>float64</td>\n",
              "    </tr>\n",
              "    <tr>\n",
              "      <th>2</th>\n",
              "      <td>LAST_DEVICE_CHANGE</td>\n",
              "      <td>float64</td>\n",
              "    </tr>\n",
              "    <tr>\n",
              "      <th>3</th>\n",
              "      <td>DATA_TRAFFIC_MONTH_1</td>\n",
              "      <td>float64</td>\n",
              "    </tr>\n",
              "    <tr>\n",
              "      <th>4</th>\n",
              "      <td>DATA_TRAFFIC_MONTH_2</td>\n",
              "      <td>float64</td>\n",
              "    </tr>\n",
              "    <tr>\n",
              "      <th>5</th>\n",
              "      <td>DATA_TRAFFIC_MONTH_3</td>\n",
              "      <td>float64</td>\n",
              "    </tr>\n",
              "    <tr>\n",
              "      <th>6</th>\n",
              "      <td>DATA_TRAFFIC_MONTH_4</td>\n",
              "      <td>float64</td>\n",
              "    </tr>\n",
              "    <tr>\n",
              "      <th>7</th>\n",
              "      <td>DATA_TRAFFIC_MONTH_5</td>\n",
              "      <td>float64</td>\n",
              "    </tr>\n",
              "    <tr>\n",
              "      <th>8</th>\n",
              "      <td>DATA_TRAFFIC_MONTH_6</td>\n",
              "      <td>float64</td>\n",
              "    </tr>\n",
              "    <tr>\n",
              "      <th>9</th>\n",
              "      <td>VOICE_TRAFFIC_MONTH_1</td>\n",
              "      <td>float64</td>\n",
              "    </tr>\n",
              "    <tr>\n",
              "      <th>10</th>\n",
              "      <td>VOICE_TRAFFIC_MONTH_2</td>\n",
              "      <td>float64</td>\n",
              "    </tr>\n",
              "    <tr>\n",
              "      <th>11</th>\n",
              "      <td>VOICE_TRAFFIC_MONTH_3</td>\n",
              "      <td>float64</td>\n",
              "    </tr>\n",
              "    <tr>\n",
              "      <th>12</th>\n",
              "      <td>VOICE_TRAFFIC_MONTH_4</td>\n",
              "      <td>float64</td>\n",
              "    </tr>\n",
              "    <tr>\n",
              "      <th>13</th>\n",
              "      <td>VOICE_TRAFFIC_MONTH_5</td>\n",
              "      <td>float64</td>\n",
              "    </tr>\n",
              "    <tr>\n",
              "      <th>14</th>\n",
              "      <td>VOICE_TRAFFIC_MONTH_6</td>\n",
              "      <td>float64</td>\n",
              "    </tr>\n",
              "    <tr>\n",
              "      <th>15</th>\n",
              "      <td>BILLING_MONTH_1</td>\n",
              "      <td>float64</td>\n",
              "    </tr>\n",
              "    <tr>\n",
              "      <th>16</th>\n",
              "      <td>BILLING_MONTH_2</td>\n",
              "      <td>float64</td>\n",
              "    </tr>\n",
              "    <tr>\n",
              "      <th>17</th>\n",
              "      <td>BILLING_MONTH_3</td>\n",
              "      <td>float64</td>\n",
              "    </tr>\n",
              "    <tr>\n",
              "      <th>18</th>\n",
              "      <td>BILLING_MONTH_4</td>\n",
              "      <td>float64</td>\n",
              "    </tr>\n",
              "    <tr>\n",
              "      <th>19</th>\n",
              "      <td>BILLING_MONTH_5</td>\n",
              "      <td>float64</td>\n",
              "    </tr>\n",
              "    <tr>\n",
              "      <th>20</th>\n",
              "      <td>BILLING_MONTH_6</td>\n",
              "      <td>float64</td>\n",
              "    </tr>\n",
              "    <tr>\n",
              "      <th>21</th>\n",
              "      <td>DEVICE_COST_MONTH_1</td>\n",
              "      <td>float64</td>\n",
              "    </tr>\n",
              "    <tr>\n",
              "      <th>22</th>\n",
              "      <td>DEVICE_COST_MONTH_2</td>\n",
              "      <td>float64</td>\n",
              "    </tr>\n",
              "    <tr>\n",
              "      <th>23</th>\n",
              "      <td>DEVICE_COST_MONTH_3</td>\n",
              "      <td>float64</td>\n",
              "    </tr>\n",
              "    <tr>\n",
              "      <th>24</th>\n",
              "      <td>DEVICE_COST_MONTH_4</td>\n",
              "      <td>float64</td>\n",
              "    </tr>\n",
              "    <tr>\n",
              "      <th>25</th>\n",
              "      <td>DEVICE_COST_MONTH_5</td>\n",
              "      <td>float64</td>\n",
              "    </tr>\n",
              "    <tr>\n",
              "      <th>26</th>\n",
              "      <td>DEVICE_COST_MONTH_6</td>\n",
              "      <td>float64</td>\n",
              "    </tr>\n",
              "    <tr>\n",
              "      <th>27</th>\n",
              "      <td>LINE_ACTIVATION_DATE</td>\n",
              "      <td>float64</td>\n",
              "    </tr>\n",
              "    <tr>\n",
              "      <th>28</th>\n",
              "      <td>MONTHS_LAST_DEVICE</td>\n",
              "      <td>float64</td>\n",
              "    </tr>\n",
              "    <tr>\n",
              "      <th>29</th>\n",
              "      <td>DURATION_LINE</td>\n",
              "      <td>float64</td>\n",
              "    </tr>\n",
              "    <tr>\n",
              "      <th>30</th>\n",
              "      <td>PREVIOUS_DEVICE_MODEL</td>\n",
              "      <td>object</td>\n",
              "    </tr>\n",
              "    <tr>\n",
              "      <th>31</th>\n",
              "      <td>PREVIOUS_DEVICE_MANUF</td>\n",
              "      <td>object</td>\n",
              "    </tr>\n",
              "    <tr>\n",
              "      <th>32</th>\n",
              "      <td>PREVIOUS_DEVICE_BRAND</td>\n",
              "      <td>object</td>\n",
              "    </tr>\n",
              "  </tbody>\n",
              "</table>\n",
              "</div>\n",
              "      <button class=\"colab-df-convert\" onclick=\"convertToInteractive('df-ed1543ef-834f-4827-925f-b78c86e769f2')\"\n",
              "              title=\"Convert this dataframe to an interactive table.\"\n",
              "              style=\"display:none;\">\n",
              "        \n",
              "  <svg xmlns=\"http://www.w3.org/2000/svg\" height=\"24px\"viewBox=\"0 0 24 24\"\n",
              "       width=\"24px\">\n",
              "    <path d=\"M0 0h24v24H0V0z\" fill=\"none\"/>\n",
              "    <path d=\"M18.56 5.44l.94 2.06.94-2.06 2.06-.94-2.06-.94-.94-2.06-.94 2.06-2.06.94zm-11 1L8.5 8.5l.94-2.06 2.06-.94-2.06-.94L8.5 2.5l-.94 2.06-2.06.94zm10 10l.94 2.06.94-2.06 2.06-.94-2.06-.94-.94-2.06-.94 2.06-2.06.94z\"/><path d=\"M17.41 7.96l-1.37-1.37c-.4-.4-.92-.59-1.43-.59-.52 0-1.04.2-1.43.59L10.3 9.45l-7.72 7.72c-.78.78-.78 2.05 0 2.83L4 21.41c.39.39.9.59 1.41.59.51 0 1.02-.2 1.41-.59l7.78-7.78 2.81-2.81c.8-.78.8-2.07 0-2.86zM5.41 20L4 18.59l7.72-7.72 1.47 1.35L5.41 20z\"/>\n",
              "  </svg>\n",
              "      </button>\n",
              "      \n",
              "  <style>\n",
              "    .colab-df-container {\n",
              "      display:flex;\n",
              "      flex-wrap:wrap;\n",
              "      gap: 12px;\n",
              "    }\n",
              "\n",
              "    .colab-df-convert {\n",
              "      background-color: #E8F0FE;\n",
              "      border: none;\n",
              "      border-radius: 50%;\n",
              "      cursor: pointer;\n",
              "      display: none;\n",
              "      fill: #1967D2;\n",
              "      height: 32px;\n",
              "      padding: 0 0 0 0;\n",
              "      width: 32px;\n",
              "    }\n",
              "\n",
              "    .colab-df-convert:hover {\n",
              "      background-color: #E2EBFA;\n",
              "      box-shadow: 0px 1px 2px rgba(60, 64, 67, 0.3), 0px 1px 3px 1px rgba(60, 64, 67, 0.15);\n",
              "      fill: #174EA6;\n",
              "    }\n",
              "\n",
              "    [theme=dark] .colab-df-convert {\n",
              "      background-color: #3B4455;\n",
              "      fill: #D2E3FC;\n",
              "    }\n",
              "\n",
              "    [theme=dark] .colab-df-convert:hover {\n",
              "      background-color: #434B5C;\n",
              "      box-shadow: 0px 1px 3px 1px rgba(0, 0, 0, 0.15);\n",
              "      filter: drop-shadow(0px 1px 2px rgba(0, 0, 0, 0.3));\n",
              "      fill: #FFFFFF;\n",
              "    }\n",
              "  </style>\n",
              "\n",
              "      <script>\n",
              "        const buttonEl =\n",
              "          document.querySelector('#df-ed1543ef-834f-4827-925f-b78c86e769f2 button.colab-df-convert');\n",
              "        buttonEl.style.display =\n",
              "          google.colab.kernel.accessAllowed ? 'block' : 'none';\n",
              "\n",
              "        async function convertToInteractive(key) {\n",
              "          const element = document.querySelector('#df-ed1543ef-834f-4827-925f-b78c86e769f2');\n",
              "          const dataTable =\n",
              "            await google.colab.kernel.invokeFunction('convertToInteractive',\n",
              "                                                     [key], {});\n",
              "          if (!dataTable) return;\n",
              "\n",
              "          const docLinkHtml = 'Like what you see? Visit the ' +\n",
              "            '<a target=\"_blank\" href=https://colab.research.google.com/notebooks/data_table.ipynb>data table notebook</a>'\n",
              "            + ' to learn more about interactive tables.';\n",
              "          element.innerHTML = '';\n",
              "          dataTable['output_type'] = 'display_data';\n",
              "          await google.colab.output.renderOutput(dataTable, element);\n",
              "          const docLink = document.createElement('div');\n",
              "          docLink.innerHTML = docLinkHtml;\n",
              "          element.appendChild(docLink);\n",
              "        }\n",
              "      </script>\n",
              "    </div>\n",
              "  </div>\n",
              "  "
            ]
          },
          "metadata": {}
        }
      ]
    },
    {
      "cell_type": "markdown",
      "metadata": {
        "id": "Q4T21qed36ow"
      },
      "source": [
        "To obtain a series from a dataframe you can reference an attribute by name, e.g., `input_dataset.DEVICE_VALUE` returns the series of all device values.\n",
        "\n",
        "On a series, you can use functions from [numpy](https://numpy.org/doc/) such as `np.mean`, `np.nanmedian` (median ignoring the NaN), `np.std`, `np.min` and `np.max`.\n",
        "\n",
        "<font size=\"-1\" color=\"gray\">(Remove this cell when delivering.)</font>"
      ]
    },
    {
      "cell_type": "code",
      "source": [
        "def compute_stat_manually(series):\n",
        "  stats_var = {'mean': 0,\n",
        "                '50%':  0,\n",
        "                'min':  0,\n",
        "                'max':  0}\n",
        " \n",
        "  stats_var['mean'] = np.mean(series)\n",
        "  stats_var['50%']  = np.nanmedian(series)\n",
        "  stats_var['min']  = np.min(series)\n",
        "  stats_var['max']  = np.max(series)\n",
        "\n",
        "  \n",
        "  return pd.Series(stats_var)\n",
        "\n",
        "\n",
        "\n",
        "def compute_stats(dataset, mode):\n",
        "  dataset = dataset.select_dtypes(['number'])\n",
        "  stats = pd.DataFrame()\n",
        "\n",
        "  for var in list(dataset.columns):\n",
        "    if mode == 'manually':\n",
        "      stats[var] = compute_stat_manually(dataset[var])\n",
        "    else:\n",
        "      stats[var] = dataset[var].describe()\n",
        "      \n",
        "  return stats\n",
        "\n",
        "\n"
      ],
      "metadata": {
        "id": "rO3eMf5NLWUU"
      },
      "execution_count": 2358,
      "outputs": []
    },
    {
      "cell_type": "markdown",
      "metadata": {
        "id": "LN_c4BfP36ox"
      },
      "source": [
        "<font size=\"+1\" color=\"red\">Replace this cell with code to create a dataframe named `stats_df` containing one row per each column of type ``float64`` in the input data, with the name of the column and its mean, median, maximum and minimum.</font>"
      ]
    },
    {
      "cell_type": "code",
      "source": [
        "stats_describe_df = compute_stats(input_dataset, None)\n",
        "stats_df = compute_stats(input_dataset, 'manually')\n",
        "display(stats_df)"
      ],
      "metadata": {
        "colab": {
          "base_uri": "https://localhost:8080/",
          "height": 268
        },
        "id": "cnaH59GhNQgn",
        "outputId": "395c0f07-731f-4e11-f0e9-59b7611b323d"
      },
      "execution_count": 2359,
      "outputs": [
        {
          "output_type": "display_data",
          "data": {
            "text/plain": [
              "      DEVICE_VALUE  LAST_DEVICE_CHANGE  DATA_TRAFFIC_MONTH_1  \\\n",
              "mean    750.484211        2.016698e+07           3481.825663   \n",
              "50%     393.000000        2.017060e+07           1208.728050   \n",
              "min      15.000000        2.012100e+07              0.000000   \n",
              "max    9057.000000        2.019050e+07         127017.590000   \n",
              "\n",
              "      DATA_TRAFFIC_MONTH_2  DATA_TRAFFIC_MONTH_3  DATA_TRAFFIC_MONTH_4  \\\n",
              "mean           3649.957795           3653.426959           3269.440625   \n",
              "50%            1294.950800           1310.674800           1176.539300   \n",
              "min               0.000000              0.000000              0.000000   \n",
              "max          111948.840000         111948.840000          87856.414000   \n",
              "\n",
              "      DATA_TRAFFIC_MONTH_5  DATA_TRAFFIC_MONTH_6  VOICE_TRAFFIC_MONTH_1  \\\n",
              "mean           3673.368341           3427.689578             154.852210   \n",
              "50%            1287.094000           1277.116300              84.049999   \n",
              "min               0.000000              0.000000               0.000000   \n",
              "max          121834.810000          90550.609000            4220.100100   \n",
              "\n",
              "      VOICE_TRAFFIC_MONTH_2  ...  BILLING_MONTH_6  DEVICE_COST_MONTH_1  \\\n",
              "mean             142.567877  ...        102.26839            10.807785   \n",
              "50%               74.900002  ...         94.99000             0.000000   \n",
              "min                0.000000  ...          0.00000             0.000000   \n",
              "max             3132.100100  ...       1187.30000          6440.000000   \n",
              "\n",
              "      DEVICE_COST_MONTH_2  DEVICE_COST_MONTH_3  DEVICE_COST_MONTH_4  \\\n",
              "mean            10.587317             11.71326            11.554371   \n",
              "50%              0.000000              0.00000             0.000000   \n",
              "min              0.000000              0.00000             0.000000   \n",
              "max           1360.000000           2466.00000           455.000000   \n",
              "\n",
              "      DEVICE_COST_MONTH_5  DEVICE_COST_MONTH_6  LINE_ACTIVATION_DATE  \\\n",
              "mean            12.510864            12.979012          2.013605e+07   \n",
              "50%              0.000000             0.000000          2.015032e+07   \n",
              "min              0.000000             0.000000          1.992080e+07   \n",
              "max           1258.000000          1000.000000          2.019042e+07   \n",
              "\n",
              "      MONTHS_LAST_DEVICE  DURATION_LINE  \n",
              "mean           25.338323      62.368341  \n",
              "50%            22.000000      48.000000  \n",
              "min            -5.000000       0.000000  \n",
              "max            78.000000     320.000000  \n",
              "\n",
              "[4 rows x 29 columns]"
            ],
            "text/html": [
              "\n",
              "  <div id=\"df-7c42421d-738d-4180-8a1c-5cd636aee2f5\">\n",
              "    <div class=\"colab-df-container\">\n",
              "      <div>\n",
              "<style scoped>\n",
              "    .dataframe tbody tr th:only-of-type {\n",
              "        vertical-align: middle;\n",
              "    }\n",
              "\n",
              "    .dataframe tbody tr th {\n",
              "        vertical-align: top;\n",
              "    }\n",
              "\n",
              "    .dataframe thead th {\n",
              "        text-align: right;\n",
              "    }\n",
              "</style>\n",
              "<table border=\"1\" class=\"dataframe\">\n",
              "  <thead>\n",
              "    <tr style=\"text-align: right;\">\n",
              "      <th></th>\n",
              "      <th>DEVICE_VALUE</th>\n",
              "      <th>LAST_DEVICE_CHANGE</th>\n",
              "      <th>DATA_TRAFFIC_MONTH_1</th>\n",
              "      <th>DATA_TRAFFIC_MONTH_2</th>\n",
              "      <th>DATA_TRAFFIC_MONTH_3</th>\n",
              "      <th>DATA_TRAFFIC_MONTH_4</th>\n",
              "      <th>DATA_TRAFFIC_MONTH_5</th>\n",
              "      <th>DATA_TRAFFIC_MONTH_6</th>\n",
              "      <th>VOICE_TRAFFIC_MONTH_1</th>\n",
              "      <th>VOICE_TRAFFIC_MONTH_2</th>\n",
              "      <th>...</th>\n",
              "      <th>BILLING_MONTH_6</th>\n",
              "      <th>DEVICE_COST_MONTH_1</th>\n",
              "      <th>DEVICE_COST_MONTH_2</th>\n",
              "      <th>DEVICE_COST_MONTH_3</th>\n",
              "      <th>DEVICE_COST_MONTH_4</th>\n",
              "      <th>DEVICE_COST_MONTH_5</th>\n",
              "      <th>DEVICE_COST_MONTH_6</th>\n",
              "      <th>LINE_ACTIVATION_DATE</th>\n",
              "      <th>MONTHS_LAST_DEVICE</th>\n",
              "      <th>DURATION_LINE</th>\n",
              "    </tr>\n",
              "  </thead>\n",
              "  <tbody>\n",
              "    <tr>\n",
              "      <th>mean</th>\n",
              "      <td>750.484211</td>\n",
              "      <td>2.016698e+07</td>\n",
              "      <td>3481.825663</td>\n",
              "      <td>3649.957795</td>\n",
              "      <td>3653.426959</td>\n",
              "      <td>3269.440625</td>\n",
              "      <td>3673.368341</td>\n",
              "      <td>3427.689578</td>\n",
              "      <td>154.852210</td>\n",
              "      <td>142.567877</td>\n",
              "      <td>...</td>\n",
              "      <td>102.26839</td>\n",
              "      <td>10.807785</td>\n",
              "      <td>10.587317</td>\n",
              "      <td>11.71326</td>\n",
              "      <td>11.554371</td>\n",
              "      <td>12.510864</td>\n",
              "      <td>12.979012</td>\n",
              "      <td>2.013605e+07</td>\n",
              "      <td>25.338323</td>\n",
              "      <td>62.368341</td>\n",
              "    </tr>\n",
              "    <tr>\n",
              "      <th>50%</th>\n",
              "      <td>393.000000</td>\n",
              "      <td>2.017060e+07</td>\n",
              "      <td>1208.728050</td>\n",
              "      <td>1294.950800</td>\n",
              "      <td>1310.674800</td>\n",
              "      <td>1176.539300</td>\n",
              "      <td>1287.094000</td>\n",
              "      <td>1277.116300</td>\n",
              "      <td>84.049999</td>\n",
              "      <td>74.900002</td>\n",
              "      <td>...</td>\n",
              "      <td>94.99000</td>\n",
              "      <td>0.000000</td>\n",
              "      <td>0.000000</td>\n",
              "      <td>0.00000</td>\n",
              "      <td>0.000000</td>\n",
              "      <td>0.000000</td>\n",
              "      <td>0.000000</td>\n",
              "      <td>2.015032e+07</td>\n",
              "      <td>22.000000</td>\n",
              "      <td>48.000000</td>\n",
              "    </tr>\n",
              "    <tr>\n",
              "      <th>min</th>\n",
              "      <td>15.000000</td>\n",
              "      <td>2.012100e+07</td>\n",
              "      <td>0.000000</td>\n",
              "      <td>0.000000</td>\n",
              "      <td>0.000000</td>\n",
              "      <td>0.000000</td>\n",
              "      <td>0.000000</td>\n",
              "      <td>0.000000</td>\n",
              "      <td>0.000000</td>\n",
              "      <td>0.000000</td>\n",
              "      <td>...</td>\n",
              "      <td>0.00000</td>\n",
              "      <td>0.000000</td>\n",
              "      <td>0.000000</td>\n",
              "      <td>0.00000</td>\n",
              "      <td>0.000000</td>\n",
              "      <td>0.000000</td>\n",
              "      <td>0.000000</td>\n",
              "      <td>1.992080e+07</td>\n",
              "      <td>-5.000000</td>\n",
              "      <td>0.000000</td>\n",
              "    </tr>\n",
              "    <tr>\n",
              "      <th>max</th>\n",
              "      <td>9057.000000</td>\n",
              "      <td>2.019050e+07</td>\n",
              "      <td>127017.590000</td>\n",
              "      <td>111948.840000</td>\n",
              "      <td>111948.840000</td>\n",
              "      <td>87856.414000</td>\n",
              "      <td>121834.810000</td>\n",
              "      <td>90550.609000</td>\n",
              "      <td>4220.100100</td>\n",
              "      <td>3132.100100</td>\n",
              "      <td>...</td>\n",
              "      <td>1187.30000</td>\n",
              "      <td>6440.000000</td>\n",
              "      <td>1360.000000</td>\n",
              "      <td>2466.00000</td>\n",
              "      <td>455.000000</td>\n",
              "      <td>1258.000000</td>\n",
              "      <td>1000.000000</td>\n",
              "      <td>2.019042e+07</td>\n",
              "      <td>78.000000</td>\n",
              "      <td>320.000000</td>\n",
              "    </tr>\n",
              "  </tbody>\n",
              "</table>\n",
              "<p>4 rows × 29 columns</p>\n",
              "</div>\n",
              "      <button class=\"colab-df-convert\" onclick=\"convertToInteractive('df-7c42421d-738d-4180-8a1c-5cd636aee2f5')\"\n",
              "              title=\"Convert this dataframe to an interactive table.\"\n",
              "              style=\"display:none;\">\n",
              "        \n",
              "  <svg xmlns=\"http://www.w3.org/2000/svg\" height=\"24px\"viewBox=\"0 0 24 24\"\n",
              "       width=\"24px\">\n",
              "    <path d=\"M0 0h24v24H0V0z\" fill=\"none\"/>\n",
              "    <path d=\"M18.56 5.44l.94 2.06.94-2.06 2.06-.94-2.06-.94-.94-2.06-.94 2.06-2.06.94zm-11 1L8.5 8.5l.94-2.06 2.06-.94-2.06-.94L8.5 2.5l-.94 2.06-2.06.94zm10 10l.94 2.06.94-2.06 2.06-.94-2.06-.94-.94-2.06-.94 2.06-2.06.94z\"/><path d=\"M17.41 7.96l-1.37-1.37c-.4-.4-.92-.59-1.43-.59-.52 0-1.04.2-1.43.59L10.3 9.45l-7.72 7.72c-.78.78-.78 2.05 0 2.83L4 21.41c.39.39.9.59 1.41.59.51 0 1.02-.2 1.41-.59l7.78-7.78 2.81-2.81c.8-.78.8-2.07 0-2.86zM5.41 20L4 18.59l7.72-7.72 1.47 1.35L5.41 20z\"/>\n",
              "  </svg>\n",
              "      </button>\n",
              "      \n",
              "  <style>\n",
              "    .colab-df-container {\n",
              "      display:flex;\n",
              "      flex-wrap:wrap;\n",
              "      gap: 12px;\n",
              "    }\n",
              "\n",
              "    .colab-df-convert {\n",
              "      background-color: #E8F0FE;\n",
              "      border: none;\n",
              "      border-radius: 50%;\n",
              "      cursor: pointer;\n",
              "      display: none;\n",
              "      fill: #1967D2;\n",
              "      height: 32px;\n",
              "      padding: 0 0 0 0;\n",
              "      width: 32px;\n",
              "    }\n",
              "\n",
              "    .colab-df-convert:hover {\n",
              "      background-color: #E2EBFA;\n",
              "      box-shadow: 0px 1px 2px rgba(60, 64, 67, 0.3), 0px 1px 3px 1px rgba(60, 64, 67, 0.15);\n",
              "      fill: #174EA6;\n",
              "    }\n",
              "\n",
              "    [theme=dark] .colab-df-convert {\n",
              "      background-color: #3B4455;\n",
              "      fill: #D2E3FC;\n",
              "    }\n",
              "\n",
              "    [theme=dark] .colab-df-convert:hover {\n",
              "      background-color: #434B5C;\n",
              "      box-shadow: 0px 1px 3px 1px rgba(0, 0, 0, 0.15);\n",
              "      filter: drop-shadow(0px 1px 2px rgba(0, 0, 0, 0.3));\n",
              "      fill: #FFFFFF;\n",
              "    }\n",
              "  </style>\n",
              "\n",
              "      <script>\n",
              "        const buttonEl =\n",
              "          document.querySelector('#df-7c42421d-738d-4180-8a1c-5cd636aee2f5 button.colab-df-convert');\n",
              "        buttonEl.style.display =\n",
              "          google.colab.kernel.accessAllowed ? 'block' : 'none';\n",
              "\n",
              "        async function convertToInteractive(key) {\n",
              "          const element = document.querySelector('#df-7c42421d-738d-4180-8a1c-5cd636aee2f5');\n",
              "          const dataTable =\n",
              "            await google.colab.kernel.invokeFunction('convertToInteractive',\n",
              "                                                     [key], {});\n",
              "          if (!dataTable) return;\n",
              "\n",
              "          const docLinkHtml = 'Like what you see? Visit the ' +\n",
              "            '<a target=\"_blank\" href=https://colab.research.google.com/notebooks/data_table.ipynb>data table notebook</a>'\n",
              "            + ' to learn more about interactive tables.';\n",
              "          element.innerHTML = '';\n",
              "          dataTable['output_type'] = 'display_data';\n",
              "          await google.colab.output.renderOutput(dataTable, element);\n",
              "          const docLink = document.createElement('div');\n",
              "          docLink.innerHTML = docLinkHtml;\n",
              "          element.appendChild(docLink);\n",
              "        }\n",
              "      </script>\n",
              "    </div>\n",
              "  </div>\n",
              "  "
            ]
          },
          "metadata": {}
        }
      ]
    },
    {
      "cell_type": "markdown",
      "metadata": {
        "id": "WMFEQ01b36oy"
      },
      "source": [
        "<font size=\"+1\" color=\"red\">Replace this cell with code to print each column name and then use the `describe` function to print statistics for that column. Include a blank line after each description.</font>"
      ]
    },
    {
      "cell_type": "code",
      "source": [
        "for var in list(stats_describe_df.columns):\n",
        "  print(var)\n",
        "  print(stats_describe_df[var])\n",
        "  print('\\n')"
      ],
      "metadata": {
        "colab": {
          "base_uri": "https://localhost:8080/"
        },
        "id": "j116vPRyV_Wa",
        "outputId": "f2305e36-5e25-437f-aa5f-eaf82b458054"
      },
      "execution_count": 2360,
      "outputs": [
        {
          "output_type": "stream",
          "name": "stdout",
          "text": [
            "DEVICE_VALUE\n",
            "count    9690.000000\n",
            "mean      750.484211\n",
            "std       979.710272\n",
            "min        15.000000\n",
            "25%       297.000000\n",
            "50%       393.000000\n",
            "75%       609.000000\n",
            "max      9057.000000\n",
            "Name: DEVICE_VALUE, dtype: float64\n",
            "\n",
            "\n",
            "LAST_DEVICE_CHANGE\n",
            "count    7.682000e+03\n",
            "mean     2.016698e+07\n",
            "std      1.092577e+04\n",
            "min      2.012100e+07\n",
            "25%      2.016080e+07\n",
            "50%      2.017060e+07\n",
            "75%      2.017100e+07\n",
            "max      2.019050e+07\n",
            "Name: LAST_DEVICE_CHANGE, dtype: float64\n",
            "\n",
            "\n",
            "DATA_TRAFFIC_MONTH_1\n",
            "count      8868.000000\n",
            "mean       3481.825663\n",
            "std        6364.542706\n",
            "min           0.000000\n",
            "25%          51.923114\n",
            "50%        1208.728050\n",
            "75%        4249.164900\n",
            "max      127017.590000\n",
            "Name: DATA_TRAFFIC_MONTH_1, dtype: float64\n",
            "\n",
            "\n",
            "DATA_TRAFFIC_MONTH_2\n",
            "count      8841.000000\n",
            "mean       3649.957795\n",
            "std        6444.357603\n",
            "min           0.000000\n",
            "25%          46.542538\n",
            "50%        1294.950800\n",
            "75%        4546.064900\n",
            "max      111948.840000\n",
            "Name: DATA_TRAFFIC_MONTH_2, dtype: float64\n",
            "\n",
            "\n",
            "DATA_TRAFFIC_MONTH_3\n",
            "count      8846.000000\n",
            "mean       3653.426959\n",
            "std        6382.603999\n",
            "min           0.000000\n",
            "25%          44.900850\n",
            "50%        1310.674800\n",
            "75%        4579.454700\n",
            "max      111948.840000\n",
            "Name: DATA_TRAFFIC_MONTH_3, dtype: float64\n",
            "\n",
            "\n",
            "DATA_TRAFFIC_MONTH_4\n",
            "count     8817.000000\n",
            "mean      3269.440625\n",
            "std       5675.546606\n",
            "min          0.000000\n",
            "25%         35.689415\n",
            "50%       1176.539300\n",
            "75%       3983.978000\n",
            "max      87856.414000\n",
            "Name: DATA_TRAFFIC_MONTH_4, dtype: float64\n",
            "\n",
            "\n",
            "DATA_TRAFFIC_MONTH_5\n",
            "count      8866.000000\n",
            "mean       3673.368341\n",
            "std        6589.399406\n",
            "min           0.000000\n",
            "25%          45.358936\n",
            "50%        1287.094000\n",
            "75%        4541.869250\n",
            "max      121834.810000\n",
            "Name: DATA_TRAFFIC_MONTH_5, dtype: float64\n",
            "\n",
            "\n",
            "DATA_TRAFFIC_MONTH_6\n",
            "count     8535.000000\n",
            "mean      3427.689578\n",
            "std       5885.423022\n",
            "min          0.000000\n",
            "25%         75.256077\n",
            "50%       1277.116300\n",
            "75%       4278.348650\n",
            "max      90550.609000\n",
            "Name: DATA_TRAFFIC_MONTH_6, dtype: float64\n",
            "\n",
            "\n",
            "VOICE_TRAFFIC_MONTH_1\n",
            "count    8868.000000\n",
            "mean      154.852210\n",
            "std       218.250590\n",
            "min         0.000000\n",
            "25%        26.700001\n",
            "50%        84.049999\n",
            "75%       199.225000\n",
            "max      4220.100100\n",
            "Name: VOICE_TRAFFIC_MONTH_1, dtype: float64\n",
            "\n",
            "\n",
            "VOICE_TRAFFIC_MONTH_2\n",
            "count    8841.000000\n",
            "mean      142.567877\n",
            "std       200.574371\n",
            "min         0.000000\n",
            "25%        20.000000\n",
            "50%        74.900002\n",
            "75%       186.200000\n",
            "max      3132.100100\n",
            "Name: VOICE_TRAFFIC_MONTH_2, dtype: float64\n",
            "\n",
            "\n",
            "VOICE_TRAFFIC_MONTH_3\n",
            "count    8846.000000\n",
            "mean      141.712458\n",
            "std       198.543836\n",
            "min         0.000000\n",
            "25%        19.625000\n",
            "50%        74.400002\n",
            "75%       183.899990\n",
            "max      2992.500000\n",
            "Name: VOICE_TRAFFIC_MONTH_3, dtype: float64\n",
            "\n",
            "\n",
            "VOICE_TRAFFIC_MONTH_4\n",
            "count    8817.000000\n",
            "mean      143.149235\n",
            "std       200.507045\n",
            "min         0.000000\n",
            "25%        20.000000\n",
            "50%        75.099998\n",
            "75%       187.600010\n",
            "max      3163.300000\n",
            "Name: VOICE_TRAFFIC_MONTH_4, dtype: float64\n",
            "\n",
            "\n",
            "VOICE_TRAFFIC_MONTH_5\n",
            "count    8866.000000\n",
            "mean      154.277318\n",
            "std       210.539309\n",
            "min         0.000000\n",
            "25%        21.900000\n",
            "50%        82.850003\n",
            "75%       200.050005\n",
            "max      3429.100100\n",
            "Name: VOICE_TRAFFIC_MONTH_5, dtype: float64\n",
            "\n",
            "\n",
            "VOICE_TRAFFIC_MONTH_6\n",
            "count    8535.000000\n",
            "mean       84.033322\n",
            "std       161.343949\n",
            "min         0.000000\n",
            "25%         0.000000\n",
            "50%         6.200000\n",
            "75%       105.750000\n",
            "max      2129.500000\n",
            "Name: VOICE_TRAFFIC_MONTH_6, dtype: float64\n",
            "\n",
            "\n",
            "BILLING_MONTH_1\n",
            "count    9999.000000\n",
            "mean      102.344564\n",
            "std        67.787155\n",
            "min      -128.010000\n",
            "25%        66.000000\n",
            "50%        94.990000\n",
            "75%       121.470000\n",
            "max      1569.100000\n",
            "Name: BILLING_MONTH_1, dtype: float64\n",
            "\n",
            "\n",
            "BILLING_MONTH_2\n",
            "count    9998.000000\n",
            "mean      104.975211\n",
            "std        76.948838\n",
            "min         0.000000\n",
            "25%        68.000000\n",
            "50%        96.430000\n",
            "75%       123.237500\n",
            "max      2032.120000\n",
            "Name: BILLING_MONTH_2, dtype: float64\n",
            "\n",
            "\n",
            "BILLING_MONTH_3\n",
            "count    9992.000000\n",
            "mean      102.676769\n",
            "std        66.625398\n",
            "min         0.000000\n",
            "25%        67.990000\n",
            "50%        96.245000\n",
            "75%       122.077500\n",
            "max      1741.210000\n",
            "Name: BILLING_MONTH_3, dtype: float64\n",
            "\n",
            "\n",
            "BILLING_MONTH_4\n",
            "count    9989.000000\n",
            "mean      101.994275\n",
            "std        64.393336\n",
            "min         0.000000\n",
            "25%        67.190000\n",
            "50%        94.890000\n",
            "75%       121.440000\n",
            "max      1084.820000\n",
            "Name: BILLING_MONTH_4, dtype: float64\n",
            "\n",
            "\n",
            "BILLING_MONTH_5\n",
            "count    9987.000000\n",
            "mean      102.208095\n",
            "std        64.019370\n",
            "min         0.000000\n",
            "25%        66.990000\n",
            "50%        95.290000\n",
            "75%       121.850000\n",
            "max       911.720000\n",
            "Name: BILLING_MONTH_5, dtype: float64\n",
            "\n",
            "\n",
            "BILLING_MONTH_6\n",
            "count    9979.000000\n",
            "mean      102.268390\n",
            "std        65.459494\n",
            "min         0.000000\n",
            "25%        66.940000\n",
            "50%        94.990000\n",
            "75%       121.140000\n",
            "max      1187.300000\n",
            "Name: BILLING_MONTH_6, dtype: float64\n",
            "\n",
            "\n",
            "DEVICE_COST_MONTH_1\n",
            "count    9999.000000\n",
            "mean       10.807785\n",
            "std        75.834602\n",
            "min         0.000000\n",
            "25%         0.000000\n",
            "50%         0.000000\n",
            "75%         0.620000\n",
            "max      6440.000000\n",
            "Name: DEVICE_COST_MONTH_1, dtype: float64\n",
            "\n",
            "\n",
            "DEVICE_COST_MONTH_2\n",
            "count    9998.000000\n",
            "mean       10.587317\n",
            "std        36.995965\n",
            "min         0.000000\n",
            "25%         0.000000\n",
            "50%         0.000000\n",
            "75%         0.620000\n",
            "max      1360.000000\n",
            "Name: DEVICE_COST_MONTH_2, dtype: float64\n",
            "\n",
            "\n",
            "DEVICE_COST_MONTH_3\n",
            "count    9992.00000\n",
            "mean       11.71326\n",
            "std        44.43260\n",
            "min         0.00000\n",
            "25%         0.00000\n",
            "50%         0.00000\n",
            "75%         7.00000\n",
            "max      2466.00000\n",
            "Name: DEVICE_COST_MONTH_3, dtype: float64\n",
            "\n",
            "\n",
            "DEVICE_COST_MONTH_4\n",
            "count    9989.000000\n",
            "mean       11.554371\n",
            "std        34.175962\n",
            "min         0.000000\n",
            "25%         0.000000\n",
            "50%         0.000000\n",
            "75%         9.000000\n",
            "max       455.000000\n",
            "Name: DEVICE_COST_MONTH_4, dtype: float64\n",
            "\n",
            "\n",
            "DEVICE_COST_MONTH_5\n",
            "count    9987.000000\n",
            "mean       12.510864\n",
            "std        38.875688\n",
            "min         0.000000\n",
            "25%         0.000000\n",
            "50%         0.000000\n",
            "75%         9.310000\n",
            "max      1258.000000\n",
            "Name: DEVICE_COST_MONTH_5, dtype: float64\n",
            "\n",
            "\n",
            "DEVICE_COST_MONTH_6\n",
            "count    9979.000000\n",
            "mean       12.979012\n",
            "std        39.528025\n",
            "min         0.000000\n",
            "25%         0.000000\n",
            "50%         0.000000\n",
            "75%        11.660000\n",
            "max      1000.000000\n",
            "Name: DEVICE_COST_MONTH_6, dtype: float64\n",
            "\n",
            "\n",
            "LINE_ACTIVATION_DATE\n",
            "count    9.179000e+03\n",
            "mean     2.013605e+07\n",
            "std      4.346958e+04\n",
            "min      1.992080e+07\n",
            "25%      2.012033e+07\n",
            "50%      2.015032e+07\n",
            "75%      2.017063e+07\n",
            "max      2.019042e+07\n",
            "Name: LINE_ACTIVATION_DATE, dtype: float64\n",
            "\n",
            "\n",
            "MONTHS_LAST_DEVICE\n",
            "count    7682.000000\n",
            "mean       25.338323\n",
            "std        12.817354\n",
            "min        -5.000000\n",
            "25%        17.000000\n",
            "50%        22.000000\n",
            "75%        31.000000\n",
            "max        78.000000\n",
            "Name: MONTHS_LAST_DEVICE, dtype: float64\n",
            "\n",
            "\n",
            "DURATION_LINE\n",
            "count    9179.000000\n",
            "mean       62.368341\n",
            "std        52.072895\n",
            "min         0.000000\n",
            "25%        21.000000\n",
            "50%        48.000000\n",
            "75%        84.000000\n",
            "max       320.000000\n",
            "Name: DURATION_LINE, dtype: float64\n",
            "\n",
            "\n"
          ]
        }
      ]
    },
    {
      "cell_type": "markdown",
      "metadata": {
        "id": "sgYtbywO36o1"
      },
      "source": [
        "<font size=\"+1\" color=\"red\">Replace this cell with a brief commentary comparing the previous results for **BILLING_MONTH_1** (bill in the first month) with the ones from the **.describe()** function.</font>\n",
        "\n",
        "<font size=\"+1\" color=\"red\">There are at least two differences, indicate them.</font>"
      ]
    },
    {
      "cell_type": "code",
      "source": [
        "print('STATS COMPUTED USING DESCRIBE')\n",
        "print(stats_describe_df['BILLING_MONTH_1'], end='\\n\\n')\n",
        "print('STATS COMPUTED MANUALLY')\n",
        "print(stats_df['BILLING_MONTH_1'])"
      ],
      "metadata": {
        "colab": {
          "base_uri": "https://localhost:8080/"
        },
        "id": "pNR2JS7tdRR9",
        "outputId": "a2a9f370-6eff-45ec-bc33-8cafdbbdf03b"
      },
      "execution_count": 2361,
      "outputs": [
        {
          "output_type": "stream",
          "name": "stdout",
          "text": [
            "STATS COMPUTED USING DESCRIBE\n",
            "count    9999.000000\n",
            "mean      102.344564\n",
            "std        67.787155\n",
            "min      -128.010000\n",
            "25%        66.000000\n",
            "50%        94.990000\n",
            "75%       121.470000\n",
            "max      1569.100000\n",
            "Name: BILLING_MONTH_1, dtype: float64\n",
            "\n",
            "STATS COMPUTED MANUALLY\n",
            "mean     102.344564\n",
            "50%       94.990000\n",
            "min     -128.010000\n",
            "max     1569.100000\n",
            "Name: BILLING_MONTH_1, dtype: float64\n"
          ]
        }
      ]
    },
    {
      "cell_type": "markdown",
      "metadata": {
        "id": "MR-Ihc1s36o2"
      },
      "source": [
        "## 1.2. Inventory of device models"
      ]
    },
    {
      "cell_type": "markdown",
      "metadata": {
        "id": "6TrjyFII36o3"
      },
      "source": [
        "In exploratory data analysis, it is very useful to do an **inventory** or **census** of the possible values of a variable. For us, a census will be a frequency table in which you show the possible values of a variable, and their frequency, in decreasing order of frequency.\n",
        "\n",
        "\n",
        "\n",
        "<font size=\"-1\" color=\"gray\">(Remove this cell when delivering.)</font>"
      ]
    },
    {
      "cell_type": "markdown",
      "metadata": {
        "id": "iYS-Ufym36o4"
      },
      "source": [
        "<font size=\"+1\" color=\"red\">Replace this cell with code to display a census of PREVIOUS_DEVICE_MODEL and PREVIOUS_DEVICE_BRAND. You should create and display a dataframe in each case.</font>"
      ]
    },
    {
      "cell_type": "code",
      "source": [
        "consensus_prev_dev_model = input_dataset['PREVIOUS_DEVICE_MODEL'].value_counts()\n",
        "consensus_prev_dev_brand = input_dataset['PREVIOUS_DEVICE_BRAND'].value_counts()"
      ],
      "metadata": {
        "id": "BZXrJ3Q6kAbv"
      },
      "execution_count": 2362,
      "outputs": []
    },
    {
      "cell_type": "code",
      "source": [
        "display(consensus_prev_dev_model)"
      ],
      "metadata": {
        "colab": {
          "base_uri": "https://localhost:8080/",
          "height": 225
        },
        "id": "sLTTYyHGlsYI",
        "outputId": "a91755e0-065b-4dc2-c9fe-16d908dd3a90"
      },
      "execution_count": 2363,
      "outputs": [
        {
          "output_type": "display_data",
          "data": {
            "text/plain": [
              "iPhone 7                   425\n",
              "iPhone 6                   250\n",
              "Samsung Galaxy J5          243\n",
              "iPhone 6S                  212\n",
              "Samsung Galaxy J1 Mini     204\n",
              "                          ... \n",
              "LG Optimus L3 II             1\n",
              "Lenovo S930,Lenovo S939      1\n",
              "Samsung Corby II             1\n",
              "SGH-U600                     1\n",
              "Nokia 1100                   1\n",
              "Name: PREVIOUS_DEVICE_MODEL, Length: 580, dtype: int64"
            ]
          },
          "metadata": {}
        }
      ]
    },
    {
      "cell_type": "code",
      "source": [
        "display(consensus_prev_dev_brand)"
      ],
      "metadata": {
        "colab": {
          "base_uri": "https://localhost:8080/",
          "height": 121
        },
        "id": "FEMZLfjFlkwj",
        "outputId": "b8f99e8f-c706-4956-8c7a-cdce9f92e602"
      },
      "execution_count": 2364,
      "outputs": [
        {
          "output_type": "display_data",
          "data": {
            "text/plain": [
              "Samsung     1877\n",
              "Outros      1592\n",
              "Apple       1548\n",
              "Motorola     638\n",
              "LG           514\n",
              "Name: PREVIOUS_DEVICE_BRAND, dtype: int64"
            ]
          },
          "metadata": {}
        }
      ]
    },
    {
      "cell_type": "markdown",
      "metadata": {
        "id": "qWkM64jU36o5"
      },
      "source": [
        "<font size=\"+1\" color=\"red\">The most common device model and the most common device brand do not match, why do you think it is so? Replace this cell with an explanation.</font>"
      ]
    },
    {
      "cell_type": "markdown",
      "source": [
        "The most common device model and the most common device brand do not match, because samsung has more common models than apple."
      ],
      "metadata": {
        "id": "brNJ7yz6l1TQ"
      }
    },
    {
      "cell_type": "markdown",
      "metadata": {
        "id": "rDgI23aT36o7"
      },
      "source": [
        "# 2. Feature engineering"
      ]
    },
    {
      "cell_type": "markdown",
      "metadata": {
        "id": "MPj88Kri36o8"
      },
      "source": [
        "Feature engineering is the process of extracting valuable features from the data. This requires pre-processing, combining, normalizing, and performing other operations on the values of some features.\n",
        "\n",
        "<font size=\"-1\" color=\"gray\">(Remove this cell when delivering.)</font>"
      ]
    },
    {
      "cell_type": "markdown",
      "metadata": {
        "id": "ywyBKUUf36o9"
      },
      "source": [
        "## 2.1. Missing values management"
      ]
    },
    {
      "cell_type": "markdown",
      "metadata": {
        "id": "LDnOr_Wq36o_"
      },
      "source": [
        "**Not A Number** (NaN) is a generic term to refer to *something that should be a number, but is not*. Usually, the value is either missing completely (\"null\") or contains the wrong type of object, such as a string or a concept such as infinity.\n",
        "\n",
        "To find which columns contain NaN values, you can use the [isna()](https://pandas.pydata.org/pandas-docs/stable/reference/api/pandas.DataFrame.isna.html) function, as explained, e.g., [here](https://medium.com/dunder-data/finding-the-percentage-of-missing-values-in-a-pandas-dataframe-a04fa00f84ab). \n",
        "\n",
        "<font size=\"-1\" color=\"gray\">(Remove this cell when delivering.)</font>"
      ]
    },
    {
      "cell_type": "markdown",
      "metadata": {
        "id": "9kFmBBOX36o_"
      },
      "source": [
        "<font size=\"+1\" color=\"red\">Replace this cell with your code to print which columns contain at least one NaN value, and how many NaN values are in that column. You should create a dataframe `nan_counter` and diaplay it.</font>"
      ]
    },
    {
      "cell_type": "code",
      "source": [
        "nan_counter = info\n",
        "nan_counter['Null count'] = len(input_dataset.index) - nan_counter['Non-Null Count']\n",
        "nan_counter = info.drop(['Dtype', 'Non-Null Count'], axis=1)\n",
        "display(nan_counter)"
      ],
      "metadata": {
        "colab": {
          "base_uri": "https://localhost:8080/",
          "height": 1000
        },
        "id": "TsEW_uJYm2FI",
        "outputId": "b5020a6d-9119-42fd-c1b1-eb2990969af1"
      },
      "execution_count": 2365,
      "outputs": [
        {
          "output_type": "display_data",
          "data": {
            "text/plain": [
              "                   column  Null count\n",
              "0        PURCHASED_DEVICE         147\n",
              "1            DEVICE_VALUE         310\n",
              "2      LAST_DEVICE_CHANGE        2318\n",
              "3    DATA_TRAFFIC_MONTH_1        1132\n",
              "4    DATA_TRAFFIC_MONTH_2        1159\n",
              "5    DATA_TRAFFIC_MONTH_3        1154\n",
              "6    DATA_TRAFFIC_MONTH_4        1183\n",
              "7    DATA_TRAFFIC_MONTH_5        1134\n",
              "8    DATA_TRAFFIC_MONTH_6        1465\n",
              "9   VOICE_TRAFFIC_MONTH_1        1132\n",
              "10  VOICE_TRAFFIC_MONTH_2        1159\n",
              "11  VOICE_TRAFFIC_MONTH_3        1154\n",
              "12  VOICE_TRAFFIC_MONTH_4        1183\n",
              "13  VOICE_TRAFFIC_MONTH_5        1134\n",
              "14  VOICE_TRAFFIC_MONTH_6        1465\n",
              "15        BILLING_MONTH_1           1\n",
              "16        BILLING_MONTH_2           2\n",
              "17        BILLING_MONTH_3           8\n",
              "18        BILLING_MONTH_4          11\n",
              "19        BILLING_MONTH_5          13\n",
              "20        BILLING_MONTH_6          21\n",
              "21    DEVICE_COST_MONTH_1           1\n",
              "22    DEVICE_COST_MONTH_2           2\n",
              "23    DEVICE_COST_MONTH_3           8\n",
              "24    DEVICE_COST_MONTH_4          11\n",
              "25    DEVICE_COST_MONTH_5          13\n",
              "26    DEVICE_COST_MONTH_6          21\n",
              "27   LINE_ACTIVATION_DATE         821\n",
              "28     MONTHS_LAST_DEVICE        2318\n",
              "29          DURATION_LINE         821\n",
              "30  PREVIOUS_DEVICE_MODEL        3831\n",
              "31  PREVIOUS_DEVICE_MANUF        3831\n",
              "32  PREVIOUS_DEVICE_BRAND        3831"
            ],
            "text/html": [
              "\n",
              "  <div id=\"df-625c41b9-1688-457f-ab4f-020d21ee7c36\">\n",
              "    <div class=\"colab-df-container\">\n",
              "      <div>\n",
              "<style scoped>\n",
              "    .dataframe tbody tr th:only-of-type {\n",
              "        vertical-align: middle;\n",
              "    }\n",
              "\n",
              "    .dataframe tbody tr th {\n",
              "        vertical-align: top;\n",
              "    }\n",
              "\n",
              "    .dataframe thead th {\n",
              "        text-align: right;\n",
              "    }\n",
              "</style>\n",
              "<table border=\"1\" class=\"dataframe\">\n",
              "  <thead>\n",
              "    <tr style=\"text-align: right;\">\n",
              "      <th></th>\n",
              "      <th>column</th>\n",
              "      <th>Null count</th>\n",
              "    </tr>\n",
              "  </thead>\n",
              "  <tbody>\n",
              "    <tr>\n",
              "      <th>0</th>\n",
              "      <td>PURCHASED_DEVICE</td>\n",
              "      <td>147</td>\n",
              "    </tr>\n",
              "    <tr>\n",
              "      <th>1</th>\n",
              "      <td>DEVICE_VALUE</td>\n",
              "      <td>310</td>\n",
              "    </tr>\n",
              "    <tr>\n",
              "      <th>2</th>\n",
              "      <td>LAST_DEVICE_CHANGE</td>\n",
              "      <td>2318</td>\n",
              "    </tr>\n",
              "    <tr>\n",
              "      <th>3</th>\n",
              "      <td>DATA_TRAFFIC_MONTH_1</td>\n",
              "      <td>1132</td>\n",
              "    </tr>\n",
              "    <tr>\n",
              "      <th>4</th>\n",
              "      <td>DATA_TRAFFIC_MONTH_2</td>\n",
              "      <td>1159</td>\n",
              "    </tr>\n",
              "    <tr>\n",
              "      <th>5</th>\n",
              "      <td>DATA_TRAFFIC_MONTH_3</td>\n",
              "      <td>1154</td>\n",
              "    </tr>\n",
              "    <tr>\n",
              "      <th>6</th>\n",
              "      <td>DATA_TRAFFIC_MONTH_4</td>\n",
              "      <td>1183</td>\n",
              "    </tr>\n",
              "    <tr>\n",
              "      <th>7</th>\n",
              "      <td>DATA_TRAFFIC_MONTH_5</td>\n",
              "      <td>1134</td>\n",
              "    </tr>\n",
              "    <tr>\n",
              "      <th>8</th>\n",
              "      <td>DATA_TRAFFIC_MONTH_6</td>\n",
              "      <td>1465</td>\n",
              "    </tr>\n",
              "    <tr>\n",
              "      <th>9</th>\n",
              "      <td>VOICE_TRAFFIC_MONTH_1</td>\n",
              "      <td>1132</td>\n",
              "    </tr>\n",
              "    <tr>\n",
              "      <th>10</th>\n",
              "      <td>VOICE_TRAFFIC_MONTH_2</td>\n",
              "      <td>1159</td>\n",
              "    </tr>\n",
              "    <tr>\n",
              "      <th>11</th>\n",
              "      <td>VOICE_TRAFFIC_MONTH_3</td>\n",
              "      <td>1154</td>\n",
              "    </tr>\n",
              "    <tr>\n",
              "      <th>12</th>\n",
              "      <td>VOICE_TRAFFIC_MONTH_4</td>\n",
              "      <td>1183</td>\n",
              "    </tr>\n",
              "    <tr>\n",
              "      <th>13</th>\n",
              "      <td>VOICE_TRAFFIC_MONTH_5</td>\n",
              "      <td>1134</td>\n",
              "    </tr>\n",
              "    <tr>\n",
              "      <th>14</th>\n",
              "      <td>VOICE_TRAFFIC_MONTH_6</td>\n",
              "      <td>1465</td>\n",
              "    </tr>\n",
              "    <tr>\n",
              "      <th>15</th>\n",
              "      <td>BILLING_MONTH_1</td>\n",
              "      <td>1</td>\n",
              "    </tr>\n",
              "    <tr>\n",
              "      <th>16</th>\n",
              "      <td>BILLING_MONTH_2</td>\n",
              "      <td>2</td>\n",
              "    </tr>\n",
              "    <tr>\n",
              "      <th>17</th>\n",
              "      <td>BILLING_MONTH_3</td>\n",
              "      <td>8</td>\n",
              "    </tr>\n",
              "    <tr>\n",
              "      <th>18</th>\n",
              "      <td>BILLING_MONTH_4</td>\n",
              "      <td>11</td>\n",
              "    </tr>\n",
              "    <tr>\n",
              "      <th>19</th>\n",
              "      <td>BILLING_MONTH_5</td>\n",
              "      <td>13</td>\n",
              "    </tr>\n",
              "    <tr>\n",
              "      <th>20</th>\n",
              "      <td>BILLING_MONTH_6</td>\n",
              "      <td>21</td>\n",
              "    </tr>\n",
              "    <tr>\n",
              "      <th>21</th>\n",
              "      <td>DEVICE_COST_MONTH_1</td>\n",
              "      <td>1</td>\n",
              "    </tr>\n",
              "    <tr>\n",
              "      <th>22</th>\n",
              "      <td>DEVICE_COST_MONTH_2</td>\n",
              "      <td>2</td>\n",
              "    </tr>\n",
              "    <tr>\n",
              "      <th>23</th>\n",
              "      <td>DEVICE_COST_MONTH_3</td>\n",
              "      <td>8</td>\n",
              "    </tr>\n",
              "    <tr>\n",
              "      <th>24</th>\n",
              "      <td>DEVICE_COST_MONTH_4</td>\n",
              "      <td>11</td>\n",
              "    </tr>\n",
              "    <tr>\n",
              "      <th>25</th>\n",
              "      <td>DEVICE_COST_MONTH_5</td>\n",
              "      <td>13</td>\n",
              "    </tr>\n",
              "    <tr>\n",
              "      <th>26</th>\n",
              "      <td>DEVICE_COST_MONTH_6</td>\n",
              "      <td>21</td>\n",
              "    </tr>\n",
              "    <tr>\n",
              "      <th>27</th>\n",
              "      <td>LINE_ACTIVATION_DATE</td>\n",
              "      <td>821</td>\n",
              "    </tr>\n",
              "    <tr>\n",
              "      <th>28</th>\n",
              "      <td>MONTHS_LAST_DEVICE</td>\n",
              "      <td>2318</td>\n",
              "    </tr>\n",
              "    <tr>\n",
              "      <th>29</th>\n",
              "      <td>DURATION_LINE</td>\n",
              "      <td>821</td>\n",
              "    </tr>\n",
              "    <tr>\n",
              "      <th>30</th>\n",
              "      <td>PREVIOUS_DEVICE_MODEL</td>\n",
              "      <td>3831</td>\n",
              "    </tr>\n",
              "    <tr>\n",
              "      <th>31</th>\n",
              "      <td>PREVIOUS_DEVICE_MANUF</td>\n",
              "      <td>3831</td>\n",
              "    </tr>\n",
              "    <tr>\n",
              "      <th>32</th>\n",
              "      <td>PREVIOUS_DEVICE_BRAND</td>\n",
              "      <td>3831</td>\n",
              "    </tr>\n",
              "  </tbody>\n",
              "</table>\n",
              "</div>\n",
              "      <button class=\"colab-df-convert\" onclick=\"convertToInteractive('df-625c41b9-1688-457f-ab4f-020d21ee7c36')\"\n",
              "              title=\"Convert this dataframe to an interactive table.\"\n",
              "              style=\"display:none;\">\n",
              "        \n",
              "  <svg xmlns=\"http://www.w3.org/2000/svg\" height=\"24px\"viewBox=\"0 0 24 24\"\n",
              "       width=\"24px\">\n",
              "    <path d=\"M0 0h24v24H0V0z\" fill=\"none\"/>\n",
              "    <path d=\"M18.56 5.44l.94 2.06.94-2.06 2.06-.94-2.06-.94-.94-2.06-.94 2.06-2.06.94zm-11 1L8.5 8.5l.94-2.06 2.06-.94-2.06-.94L8.5 2.5l-.94 2.06-2.06.94zm10 10l.94 2.06.94-2.06 2.06-.94-2.06-.94-.94-2.06-.94 2.06-2.06.94z\"/><path d=\"M17.41 7.96l-1.37-1.37c-.4-.4-.92-.59-1.43-.59-.52 0-1.04.2-1.43.59L10.3 9.45l-7.72 7.72c-.78.78-.78 2.05 0 2.83L4 21.41c.39.39.9.59 1.41.59.51 0 1.02-.2 1.41-.59l7.78-7.78 2.81-2.81c.8-.78.8-2.07 0-2.86zM5.41 20L4 18.59l7.72-7.72 1.47 1.35L5.41 20z\"/>\n",
              "  </svg>\n",
              "      </button>\n",
              "      \n",
              "  <style>\n",
              "    .colab-df-container {\n",
              "      display:flex;\n",
              "      flex-wrap:wrap;\n",
              "      gap: 12px;\n",
              "    }\n",
              "\n",
              "    .colab-df-convert {\n",
              "      background-color: #E8F0FE;\n",
              "      border: none;\n",
              "      border-radius: 50%;\n",
              "      cursor: pointer;\n",
              "      display: none;\n",
              "      fill: #1967D2;\n",
              "      height: 32px;\n",
              "      padding: 0 0 0 0;\n",
              "      width: 32px;\n",
              "    }\n",
              "\n",
              "    .colab-df-convert:hover {\n",
              "      background-color: #E2EBFA;\n",
              "      box-shadow: 0px 1px 2px rgba(60, 64, 67, 0.3), 0px 1px 3px 1px rgba(60, 64, 67, 0.15);\n",
              "      fill: #174EA6;\n",
              "    }\n",
              "\n",
              "    [theme=dark] .colab-df-convert {\n",
              "      background-color: #3B4455;\n",
              "      fill: #D2E3FC;\n",
              "    }\n",
              "\n",
              "    [theme=dark] .colab-df-convert:hover {\n",
              "      background-color: #434B5C;\n",
              "      box-shadow: 0px 1px 3px 1px rgba(0, 0, 0, 0.15);\n",
              "      filter: drop-shadow(0px 1px 2px rgba(0, 0, 0, 0.3));\n",
              "      fill: #FFFFFF;\n",
              "    }\n",
              "  </style>\n",
              "\n",
              "      <script>\n",
              "        const buttonEl =\n",
              "          document.querySelector('#df-625c41b9-1688-457f-ab4f-020d21ee7c36 button.colab-df-convert');\n",
              "        buttonEl.style.display =\n",
              "          google.colab.kernel.accessAllowed ? 'block' : 'none';\n",
              "\n",
              "        async function convertToInteractive(key) {\n",
              "          const element = document.querySelector('#df-625c41b9-1688-457f-ab4f-020d21ee7c36');\n",
              "          const dataTable =\n",
              "            await google.colab.kernel.invokeFunction('convertToInteractive',\n",
              "                                                     [key], {});\n",
              "          if (!dataTable) return;\n",
              "\n",
              "          const docLinkHtml = 'Like what you see? Visit the ' +\n",
              "            '<a target=\"_blank\" href=https://colab.research.google.com/notebooks/data_table.ipynb>data table notebook</a>'\n",
              "            + ' to learn more about interactive tables.';\n",
              "          element.innerHTML = '';\n",
              "          dataTable['output_type'] = 'display_data';\n",
              "          await google.colab.output.renderOutput(dataTable, element);\n",
              "          const docLink = document.createElement('div');\n",
              "          docLink.innerHTML = docLinkHtml;\n",
              "          element.appendChild(docLink);\n",
              "        }\n",
              "      </script>\n",
              "    </div>\n",
              "  </div>\n",
              "  "
            ]
          },
          "metadata": {}
        }
      ]
    },
    {
      "cell_type": "markdown",
      "metadata": {
        "id": "7JpcZHB136pB"
      },
      "source": [
        "The way **NaNs** are managed varies according to the meaning of each variable. In some occasions, registers should be removed, filled with other columns or calculated (imputed).\n",
        "\n",
        "* To delete rows containing a null value, we can use [dropna](https://pandas.pydata.org/pandas-docs/stable/reference/api/pandas.DataFrame.dropna.html)\n",
        "* To replace null values, we can use [fillna](https://pandas.pydata.org/pandas-docs/stable/reference/api/pandas.DataFrame.fillna.html)\n",
        "\n",
        "Please note that these steps should be applied sequentially, i.e., the output of one step should be fed into the next step. You can do, for instance: `df02 = df01.operation(...)` followed by `df03 = df02.operation(...)` and so on.\n",
        "\n",
        "<font size=\"-1\" color=\"gray\">(Remove this cell when delivering.)</font>"
      ]
    },
    {
      "cell_type": "markdown",
      "metadata": {
        "id": "Gt2WdJ_D36pC"
      },
      "source": [
        "<font size=\"+1\" color=\"red\">If there is no **PURCHASED\\_DEVICE**, **DEVICE\\_VALUE**, **PREVIOUS\\_DEVICE\\_MODEL**, or **PREVIOUS\\_DEVICE\\_BRAND**, the row is useless to us. Replace this cell with code to remove those rows.</font>"
      ]
    },
    {
      "cell_type": "code",
      "source": [
        "clean_dataset1 = input_dataset.dropna(axis=0, subset=['PURCHASED_DEVICE', 'DEVICE_VALUE', 'PREVIOUS_DEVICE_MODEL', 'PREVIOUS_DEVICE_BRAND'])"
      ],
      "metadata": {
        "id": "p7cuJLLxuSLH"
      },
      "execution_count": 2366,
      "outputs": []
    },
    {
      "cell_type": "code",
      "source": [
        "def clean_dataset_step2(dataset):\n",
        "  variables = ['DATA_TRAFFIC_MONTH_', 'VOICE_TRAFFIC_MONTH_', 'BILLING_MONTH_', 'DEVICE_COST_MONTH_']\n",
        "\n",
        "  for var in variables:\n",
        "    for i in range(1,7):\n",
        "      dataset[f'{var}{i}'].fillna(0, inplace=True)\n",
        "\n",
        "  return dataset"
      ],
      "metadata": {
        "id": "kSJU9NmJ3xy4"
      },
      "execution_count": 2367,
      "outputs": []
    },
    {
      "cell_type": "markdown",
      "metadata": {
        "id": "2TQyBxxq36pD"
      },
      "source": [
        "<font size=\"+1\" color=\"red\">Any NaN value in **DATA\\_TRAFFIC\\_MONTH\\_(1..6)**, **VOICE\\_TRAFFIC\\_MONTH_(1..6)**, **BILLING\\_MONTH_(1..6)**, or **DEVICE\\_COST\\_MONTH\\_(1..6)** should be assumed to be 0. Replace this cell with code to do that imputation.</font>"
      ]
    },
    {
      "cell_type": "code",
      "source": [
        "clean_dataset2 = clean_dataset1\n",
        "clean_dataset2 = clean_dataset_step2(clean_dataset2)"
      ],
      "metadata": {
        "colab": {
          "base_uri": "https://localhost:8080/"
        },
        "id": "WiroJe2L1nz8",
        "outputId": "1b3a4d33-a59a-44e7-ae61-0f74b1470238"
      },
      "execution_count": 2368,
      "outputs": [
        {
          "output_type": "stream",
          "name": "stderr",
          "text": [
            "/usr/local/lib/python3.7/dist-packages/pandas/core/generic.py:6392: SettingWithCopyWarning: \n",
            "A value is trying to be set on a copy of a slice from a DataFrame\n",
            "\n",
            "See the caveats in the documentation: https://pandas.pydata.org/pandas-docs/stable/user_guide/indexing.html#returning-a-view-versus-a-copy\n",
            "  return self._update_inplace(result)\n"
          ]
        }
      ]
    },
    {
      "cell_type": "markdown",
      "metadata": {
        "id": "973fdnJh36pE"
      },
      "source": [
        "<font size=\"+1\" color=\"red\">If there is no **LINE\\_ACTIVATION\\_DATE**, we will assume it is equal to **LAST\\_DEVICE\\_CHANGE**. Replace this cell with code to do that imputation.</font>"
      ]
    },
    {
      "cell_type": "code",
      "source": [
        "clean_dataset3 = clean_dataset2\n",
        "clean_dataset3['LINE_ACTIVATION_DATE'].fillna(clean_dataset3['LAST_DEVICE_CHANGE'], inplace=True)\n"
      ],
      "metadata": {
        "id": "3a8Cdds2aB4z"
      },
      "execution_count": 2369,
      "outputs": []
    },
    {
      "cell_type": "markdown",
      "metadata": {
        "id": "cai20r0m36pE"
      },
      "source": [
        "<font size=\"+1\" color=\"red\">Replace this cell with code to print the header and the first five rows after this processing</font>"
      ]
    },
    {
      "cell_type": "code",
      "source": [
        "#Print Clean Dataset 3 Info\n",
        "print('CLEAN DATASET COLUMNS:\\n')\n",
        "info3 = create_df_info(clean_dataset3)\n",
        "\n",
        "print(info3['column'])\n",
        "print('\\nFIRST FIVE ROWS OF CLEAN DATASET:\\n')\n",
        "display(clean_dataset3.head(5))"
      ],
      "metadata": {
        "colab": {
          "base_uri": "https://localhost:8080/",
          "height": 1000
        },
        "id": "V7PGmMe8cq7F",
        "outputId": "4ce6b4f9-1796-40ba-bad9-037c82b8a9f2"
      },
      "execution_count": 2370,
      "outputs": [
        {
          "output_type": "stream",
          "name": "stdout",
          "text": [
            "CLEAN DATASET COLUMNS:\n",
            "\n",
            "0          PURCHASED_DEVICE\n",
            "1              DEVICE_VALUE\n",
            "2        LAST_DEVICE_CHANGE\n",
            "3      DATA_TRAFFIC_MONTH_1\n",
            "4      DATA_TRAFFIC_MONTH_2\n",
            "5      DATA_TRAFFIC_MONTH_3\n",
            "6      DATA_TRAFFIC_MONTH_4\n",
            "7      DATA_TRAFFIC_MONTH_5\n",
            "8      DATA_TRAFFIC_MONTH_6\n",
            "9     VOICE_TRAFFIC_MONTH_1\n",
            "10    VOICE_TRAFFIC_MONTH_2\n",
            "11    VOICE_TRAFFIC_MONTH_3\n",
            "12    VOICE_TRAFFIC_MONTH_4\n",
            "13    VOICE_TRAFFIC_MONTH_5\n",
            "14    VOICE_TRAFFIC_MONTH_6\n",
            "15          BILLING_MONTH_1\n",
            "16          BILLING_MONTH_2\n",
            "17          BILLING_MONTH_3\n",
            "18          BILLING_MONTH_4\n",
            "19          BILLING_MONTH_5\n",
            "20          BILLING_MONTH_6\n",
            "21      DEVICE_COST_MONTH_1\n",
            "22      DEVICE_COST_MONTH_2\n",
            "23      DEVICE_COST_MONTH_3\n",
            "24      DEVICE_COST_MONTH_4\n",
            "25      DEVICE_COST_MONTH_5\n",
            "26      DEVICE_COST_MONTH_6\n",
            "27     LINE_ACTIVATION_DATE\n",
            "28       MONTHS_LAST_DEVICE\n",
            "29            DURATION_LINE\n",
            "30    PREVIOUS_DEVICE_MODEL\n",
            "31    PREVIOUS_DEVICE_MANUF\n",
            "32    PREVIOUS_DEVICE_BRAND\n",
            "Name: column, dtype: object\n",
            "\n",
            "FIRST FIVE ROWS OF CLEAN DATASET:\n",
            "\n"
          ]
        },
        {
          "output_type": "display_data",
          "data": {
            "text/plain": [
              "                                    PURCHASED_DEVICE  DEVICE_VALUE  \\\n",
              "0  TGLG29162000_LG X210BMW SMARTPHONE PRETO PPB/P...         393.0   \n",
              "1  TGLG29162000_LG X210BMW SMARTPHONE PRETO PPB/P...         345.0   \n",
              "2     TGMO35912000_MOTOROLA XT1922 SMARTPHONE INDIGO         875.0   \n",
              "3  TGLG29162000_LG X210BMW SMARTPHONE PRETO PPB/P...         345.0   \n",
              "4     TGMO35912000_MOTOROLA XT1922 SMARTPHONE INDIGO         609.0   \n",
              "\n",
              "   LAST_DEVICE_CHANGE  DATA_TRAFFIC_MONTH_1  DATA_TRAFFIC_MONTH_2  \\\n",
              "0                 NaN             465.24673             530.80615   \n",
              "1          20170401.0             232.24121             272.25525   \n",
              "2                 NaN             484.62036             264.13843   \n",
              "3          20171001.0            4255.46040             836.11707   \n",
              "4          20190101.0            5014.10300            2659.05150   \n",
              "\n",
              "   DATA_TRAFFIC_MONTH_3  DATA_TRAFFIC_MONTH_4  DATA_TRAFFIC_MONTH_5  \\\n",
              "0             530.80615             781.12646             398.99377   \n",
              "1             272.25525             704.88519             412.71664   \n",
              "2             264.13843             348.50073             380.44156   \n",
              "3             836.11707             691.55640             146.76660   \n",
              "4            2659.05150            2435.03930            2053.97950   \n",
              "\n",
              "   DATA_TRAFFIC_MONTH_6  VOICE_TRAFFIC_MONTH_1  ...  DEVICE_COST_MONTH_3  \\\n",
              "0            1169.39610               47.50000  ...                 12.0   \n",
              "1             365.14441                3.70000  ...                  0.0   \n",
              "2             250.73566               26.10000  ...                  0.0   \n",
              "3             302.49249              175.70000  ...                  6.0   \n",
              "4            1553.11500              383.89999  ...                  0.0   \n",
              "\n",
              "   DEVICE_COST_MONTH_4  DEVICE_COST_MONTH_5  DEVICE_COST_MONTH_6  \\\n",
              "0                 12.0                 12.0                 12.0   \n",
              "1                  0.0                  0.0                  0.0   \n",
              "2                  0.0                  0.0                  0.0   \n",
              "3                  6.0                  6.0                  6.0   \n",
              "4                  0.0                  0.0                  0.0   \n",
              "\n",
              "   LINE_ACTIVATION_DATE  MONTHS_LAST_DEVICE  DURATION_LINE  \\\n",
              "0            20041220.0                 NaN          172.0   \n",
              "1            20170405.0                20.0           20.0   \n",
              "2            20040412.0                 NaN          176.0   \n",
              "3            20110825.0                14.0           88.0   \n",
              "4            20140617.0                -1.0           54.0   \n",
              "\n",
              "    PREVIOUS_DEVICE_MODEL                    PREVIOUS_DEVICE_MANUF  \\\n",
              "0            Moto G4 Plus  Motorola Mobility LLC, a Lenovo Company   \n",
              "1  Samsung Galaxy J1 Mini                            Samsung Korea   \n",
              "2     Moto E (2ª Geração)  Motorola Mobility LLC, a Lenovo Company   \n",
              "3                iPhone 6                                Apple Inc   \n",
              "4                  K10a40  Motorola Mobility LLC, a Lenovo Company   \n",
              "\n",
              "   PREVIOUS_DEVICE_BRAND  \n",
              "0               Motorola  \n",
              "1                Samsung  \n",
              "2               Motorola  \n",
              "3                  Apple  \n",
              "4                 Outros  \n",
              "\n",
              "[5 rows x 33 columns]"
            ],
            "text/html": [
              "\n",
              "  <div id=\"df-ccbe9461-344e-4d93-8107-6f16a5875abf\">\n",
              "    <div class=\"colab-df-container\">\n",
              "      <div>\n",
              "<style scoped>\n",
              "    .dataframe tbody tr th:only-of-type {\n",
              "        vertical-align: middle;\n",
              "    }\n",
              "\n",
              "    .dataframe tbody tr th {\n",
              "        vertical-align: top;\n",
              "    }\n",
              "\n",
              "    .dataframe thead th {\n",
              "        text-align: right;\n",
              "    }\n",
              "</style>\n",
              "<table border=\"1\" class=\"dataframe\">\n",
              "  <thead>\n",
              "    <tr style=\"text-align: right;\">\n",
              "      <th></th>\n",
              "      <th>PURCHASED_DEVICE</th>\n",
              "      <th>DEVICE_VALUE</th>\n",
              "      <th>LAST_DEVICE_CHANGE</th>\n",
              "      <th>DATA_TRAFFIC_MONTH_1</th>\n",
              "      <th>DATA_TRAFFIC_MONTH_2</th>\n",
              "      <th>DATA_TRAFFIC_MONTH_3</th>\n",
              "      <th>DATA_TRAFFIC_MONTH_4</th>\n",
              "      <th>DATA_TRAFFIC_MONTH_5</th>\n",
              "      <th>DATA_TRAFFIC_MONTH_6</th>\n",
              "      <th>VOICE_TRAFFIC_MONTH_1</th>\n",
              "      <th>...</th>\n",
              "      <th>DEVICE_COST_MONTH_3</th>\n",
              "      <th>DEVICE_COST_MONTH_4</th>\n",
              "      <th>DEVICE_COST_MONTH_5</th>\n",
              "      <th>DEVICE_COST_MONTH_6</th>\n",
              "      <th>LINE_ACTIVATION_DATE</th>\n",
              "      <th>MONTHS_LAST_DEVICE</th>\n",
              "      <th>DURATION_LINE</th>\n",
              "      <th>PREVIOUS_DEVICE_MODEL</th>\n",
              "      <th>PREVIOUS_DEVICE_MANUF</th>\n",
              "      <th>PREVIOUS_DEVICE_BRAND</th>\n",
              "    </tr>\n",
              "  </thead>\n",
              "  <tbody>\n",
              "    <tr>\n",
              "      <th>0</th>\n",
              "      <td>TGLG29162000_LG X210BMW SMARTPHONE PRETO PPB/P...</td>\n",
              "      <td>393.0</td>\n",
              "      <td>NaN</td>\n",
              "      <td>465.24673</td>\n",
              "      <td>530.80615</td>\n",
              "      <td>530.80615</td>\n",
              "      <td>781.12646</td>\n",
              "      <td>398.99377</td>\n",
              "      <td>1169.39610</td>\n",
              "      <td>47.50000</td>\n",
              "      <td>...</td>\n",
              "      <td>12.0</td>\n",
              "      <td>12.0</td>\n",
              "      <td>12.0</td>\n",
              "      <td>12.0</td>\n",
              "      <td>20041220.0</td>\n",
              "      <td>NaN</td>\n",
              "      <td>172.0</td>\n",
              "      <td>Moto G4 Plus</td>\n",
              "      <td>Motorola Mobility LLC, a Lenovo Company</td>\n",
              "      <td>Motorola</td>\n",
              "    </tr>\n",
              "    <tr>\n",
              "      <th>1</th>\n",
              "      <td>TGLG29162000_LG X210BMW SMARTPHONE PRETO PPB/P...</td>\n",
              "      <td>345.0</td>\n",
              "      <td>20170401.0</td>\n",
              "      <td>232.24121</td>\n",
              "      <td>272.25525</td>\n",
              "      <td>272.25525</td>\n",
              "      <td>704.88519</td>\n",
              "      <td>412.71664</td>\n",
              "      <td>365.14441</td>\n",
              "      <td>3.70000</td>\n",
              "      <td>...</td>\n",
              "      <td>0.0</td>\n",
              "      <td>0.0</td>\n",
              "      <td>0.0</td>\n",
              "      <td>0.0</td>\n",
              "      <td>20170405.0</td>\n",
              "      <td>20.0</td>\n",
              "      <td>20.0</td>\n",
              "      <td>Samsung Galaxy J1 Mini</td>\n",
              "      <td>Samsung Korea</td>\n",
              "      <td>Samsung</td>\n",
              "    </tr>\n",
              "    <tr>\n",
              "      <th>2</th>\n",
              "      <td>TGMO35912000_MOTOROLA XT1922 SMARTPHONE INDIGO</td>\n",
              "      <td>875.0</td>\n",
              "      <td>NaN</td>\n",
              "      <td>484.62036</td>\n",
              "      <td>264.13843</td>\n",
              "      <td>264.13843</td>\n",
              "      <td>348.50073</td>\n",
              "      <td>380.44156</td>\n",
              "      <td>250.73566</td>\n",
              "      <td>26.10000</td>\n",
              "      <td>...</td>\n",
              "      <td>0.0</td>\n",
              "      <td>0.0</td>\n",
              "      <td>0.0</td>\n",
              "      <td>0.0</td>\n",
              "      <td>20040412.0</td>\n",
              "      <td>NaN</td>\n",
              "      <td>176.0</td>\n",
              "      <td>Moto E (2ª Geração)</td>\n",
              "      <td>Motorola Mobility LLC, a Lenovo Company</td>\n",
              "      <td>Motorola</td>\n",
              "    </tr>\n",
              "    <tr>\n",
              "      <th>3</th>\n",
              "      <td>TGLG29162000_LG X210BMW SMARTPHONE PRETO PPB/P...</td>\n",
              "      <td>345.0</td>\n",
              "      <td>20171001.0</td>\n",
              "      <td>4255.46040</td>\n",
              "      <td>836.11707</td>\n",
              "      <td>836.11707</td>\n",
              "      <td>691.55640</td>\n",
              "      <td>146.76660</td>\n",
              "      <td>302.49249</td>\n",
              "      <td>175.70000</td>\n",
              "      <td>...</td>\n",
              "      <td>6.0</td>\n",
              "      <td>6.0</td>\n",
              "      <td>6.0</td>\n",
              "      <td>6.0</td>\n",
              "      <td>20110825.0</td>\n",
              "      <td>14.0</td>\n",
              "      <td>88.0</td>\n",
              "      <td>iPhone 6</td>\n",
              "      <td>Apple Inc</td>\n",
              "      <td>Apple</td>\n",
              "    </tr>\n",
              "    <tr>\n",
              "      <th>4</th>\n",
              "      <td>TGMO35912000_MOTOROLA XT1922 SMARTPHONE INDIGO</td>\n",
              "      <td>609.0</td>\n",
              "      <td>20190101.0</td>\n",
              "      <td>5014.10300</td>\n",
              "      <td>2659.05150</td>\n",
              "      <td>2659.05150</td>\n",
              "      <td>2435.03930</td>\n",
              "      <td>2053.97950</td>\n",
              "      <td>1553.11500</td>\n",
              "      <td>383.89999</td>\n",
              "      <td>...</td>\n",
              "      <td>0.0</td>\n",
              "      <td>0.0</td>\n",
              "      <td>0.0</td>\n",
              "      <td>0.0</td>\n",
              "      <td>20140617.0</td>\n",
              "      <td>-1.0</td>\n",
              "      <td>54.0</td>\n",
              "      <td>K10a40</td>\n",
              "      <td>Motorola Mobility LLC, a Lenovo Company</td>\n",
              "      <td>Outros</td>\n",
              "    </tr>\n",
              "  </tbody>\n",
              "</table>\n",
              "<p>5 rows × 33 columns</p>\n",
              "</div>\n",
              "      <button class=\"colab-df-convert\" onclick=\"convertToInteractive('df-ccbe9461-344e-4d93-8107-6f16a5875abf')\"\n",
              "              title=\"Convert this dataframe to an interactive table.\"\n",
              "              style=\"display:none;\">\n",
              "        \n",
              "  <svg xmlns=\"http://www.w3.org/2000/svg\" height=\"24px\"viewBox=\"0 0 24 24\"\n",
              "       width=\"24px\">\n",
              "    <path d=\"M0 0h24v24H0V0z\" fill=\"none\"/>\n",
              "    <path d=\"M18.56 5.44l.94 2.06.94-2.06 2.06-.94-2.06-.94-.94-2.06-.94 2.06-2.06.94zm-11 1L8.5 8.5l.94-2.06 2.06-.94-2.06-.94L8.5 2.5l-.94 2.06-2.06.94zm10 10l.94 2.06.94-2.06 2.06-.94-2.06-.94-.94-2.06-.94 2.06-2.06.94z\"/><path d=\"M17.41 7.96l-1.37-1.37c-.4-.4-.92-.59-1.43-.59-.52 0-1.04.2-1.43.59L10.3 9.45l-7.72 7.72c-.78.78-.78 2.05 0 2.83L4 21.41c.39.39.9.59 1.41.59.51 0 1.02-.2 1.41-.59l7.78-7.78 2.81-2.81c.8-.78.8-2.07 0-2.86zM5.41 20L4 18.59l7.72-7.72 1.47 1.35L5.41 20z\"/>\n",
              "  </svg>\n",
              "      </button>\n",
              "      \n",
              "  <style>\n",
              "    .colab-df-container {\n",
              "      display:flex;\n",
              "      flex-wrap:wrap;\n",
              "      gap: 12px;\n",
              "    }\n",
              "\n",
              "    .colab-df-convert {\n",
              "      background-color: #E8F0FE;\n",
              "      border: none;\n",
              "      border-radius: 50%;\n",
              "      cursor: pointer;\n",
              "      display: none;\n",
              "      fill: #1967D2;\n",
              "      height: 32px;\n",
              "      padding: 0 0 0 0;\n",
              "      width: 32px;\n",
              "    }\n",
              "\n",
              "    .colab-df-convert:hover {\n",
              "      background-color: #E2EBFA;\n",
              "      box-shadow: 0px 1px 2px rgba(60, 64, 67, 0.3), 0px 1px 3px 1px rgba(60, 64, 67, 0.15);\n",
              "      fill: #174EA6;\n",
              "    }\n",
              "\n",
              "    [theme=dark] .colab-df-convert {\n",
              "      background-color: #3B4455;\n",
              "      fill: #D2E3FC;\n",
              "    }\n",
              "\n",
              "    [theme=dark] .colab-df-convert:hover {\n",
              "      background-color: #434B5C;\n",
              "      box-shadow: 0px 1px 3px 1px rgba(0, 0, 0, 0.15);\n",
              "      filter: drop-shadow(0px 1px 2px rgba(0, 0, 0, 0.3));\n",
              "      fill: #FFFFFF;\n",
              "    }\n",
              "  </style>\n",
              "\n",
              "      <script>\n",
              "        const buttonEl =\n",
              "          document.querySelector('#df-ccbe9461-344e-4d93-8107-6f16a5875abf button.colab-df-convert');\n",
              "        buttonEl.style.display =\n",
              "          google.colab.kernel.accessAllowed ? 'block' : 'none';\n",
              "\n",
              "        async function convertToInteractive(key) {\n",
              "          const element = document.querySelector('#df-ccbe9461-344e-4d93-8107-6f16a5875abf');\n",
              "          const dataTable =\n",
              "            await google.colab.kernel.invokeFunction('convertToInteractive',\n",
              "                                                     [key], {});\n",
              "          if (!dataTable) return;\n",
              "\n",
              "          const docLinkHtml = 'Like what you see? Visit the ' +\n",
              "            '<a target=\"_blank\" href=https://colab.research.google.com/notebooks/data_table.ipynb>data table notebook</a>'\n",
              "            + ' to learn more about interactive tables.';\n",
              "          element.innerHTML = '';\n",
              "          dataTable['output_type'] = 'display_data';\n",
              "          await google.colab.output.renderOutput(dataTable, element);\n",
              "          const docLink = document.createElement('div');\n",
              "          docLink.innerHTML = docLinkHtml;\n",
              "          element.appendChild(docLink);\n",
              "        }\n",
              "      </script>\n",
              "    </div>\n",
              "  </div>\n",
              "  "
            ]
          },
          "metadata": {}
        }
      ]
    },
    {
      "cell_type": "markdown",
      "metadata": {
        "id": "NP6-ZZjX36pF"
      },
      "source": [
        "If `df` is a dataframe, `df.shape` contains a tuple with the number of rows and the number of columns of the data frame. You should now print something like this:\n",
        "\n",
        "```\n",
        "Rows in the original dataset: M\n",
        "Rows in the new dataset: N ((100*(M-N)/M)% less)\n",
        "```\n",
        "\n",
        "<font size=\"-1\" color=\"gray\">(Remove this cell when delivering.)</font>"
      ]
    },
    {
      "cell_type": "markdown",
      "metadata": {
        "id": "Oibmpr3_36pG"
      },
      "source": [
        "<font size=\"+1\" color=\"red\">Replace this cell with code to print the number of rows of the original dataset, the number of rows of the new dataset, and the percentage of rows that were dropped.</font>"
      ]
    },
    {
      "cell_type": "code",
      "source": [
        "M = len(input_dataset.index)\n",
        "N = len(clean_dataset3.index)\n",
        "print(f'Rows in the original dataset: {M}')\n",
        "print(f'Rows in the new dataset: {N} ({(100*(M-N)/M)}% less)')"
      ],
      "metadata": {
        "colab": {
          "base_uri": "https://localhost:8080/"
        },
        "id": "0Sa1vFPyd5HG",
        "outputId": "ef164e8f-8742-4ed2-ce19-cc181f0a96e0"
      },
      "execution_count": 2371,
      "outputs": [
        {
          "output_type": "stream",
          "name": "stdout",
          "text": [
            "Rows in the original dataset: 10000\n",
            "Rows in the new dataset: 5988 (40.12% less)\n"
          ]
        }
      ]
    },
    {
      "cell_type": "markdown",
      "metadata": {
        "id": "PNMIg5dw36pH"
      },
      "source": [
        "## 2.2. Distributions, outliers, and correlations"
      ]
    },
    {
      "cell_type": "markdown",
      "metadata": {
        "id": "kfwBDxyv36pH"
      },
      "source": [
        "We will now plot the distributions of some variables and apply some transformations.\n",
        "\n",
        "* You can use [Seaborn library](https://seaborn.pydata.org/) with `kde=False` to create a histogram.\n",
        "* You can use [pandas.DataFrame.plot](https://pandas.pydata.org/pandas-docs/stable/reference/api/pandas.DataFrame.plot.html) with `kind='box'` to create a boxplot.\n",
        "    \n",
        "<font size=\"-1\" color=\"gray\">(Remove this cell when delivering.)</font>"
      ]
    },
    {
      "cell_type": "markdown",
      "metadata": {
        "id": "xmP-Jw2h36pH"
      },
      "source": [
        "<font size=\"+1\" color=\"red\">Replace this cell with a series of cells with code to plot a histogram of **DEVICE\\_VALUE**, **VOICE\\_TRAFFIC\\_MONTH\\_1-3** (include a legend, each month should be a different color),  **BILLING\\_MONTH\\_3**, **DURATION\\_LINE**. Remember to include labels on the x axis and y axis</font>\n",
        "\n",
        "<font size=\"+1\" color=\"red\">Include after each histogram a markdown cell where you indicate if you recognize any specific distribution (normal, exponential, uniform, ...) or any characteristic of the distribution (unimodal, bimodal).</font>"
      ]
    },
    {
      "cell_type": "code",
      "source": [
        "sns.distplot(clean_dataset3['DEVICE_VALUE'], kde=False)\n",
        "plt.title('Cost of the mobile phone bought by the customer\\n', fontsize=18)\n",
        "plt.xlabel('Device Value (USD)', fontsize=16)\n",
        "plt.ylabel('Frequency', fontsize=16)"
      ],
      "metadata": {
        "colab": {
          "base_uri": "https://localhost:8080/",
          "height": 397
        },
        "id": "AT7bNi_Ff3Jk",
        "outputId": "79b55203-ba10-43b8-e1a8-53aa0ad7d545"
      },
      "execution_count": 2372,
      "outputs": [
        {
          "output_type": "stream",
          "name": "stderr",
          "text": [
            "/usr/local/lib/python3.7/dist-packages/seaborn/distributions.py:2619: FutureWarning: `distplot` is a deprecated function and will be removed in a future version. Please adapt your code to use either `displot` (a figure-level function with similar flexibility) or `histplot` (an axes-level function for histograms).\n",
            "  warnings.warn(msg, FutureWarning)\n"
          ]
        },
        {
          "output_type": "execute_result",
          "data": {
            "text/plain": [
              "Text(0, 0.5, 'Frequency')"
            ]
          },
          "metadata": {},
          "execution_count": 2372
        },
        {
          "output_type": "display_data",
          "data": {
            "text/plain": [
              "<Figure size 432x288 with 1 Axes>"
            ],
            "image/png": "[encoded data removed]"
          },
          "metadata": {
            "needs_background": "light"
          }
        }
      ]
    },
    {
      "cell_type": "code",
      "source": [
        "sns.distplot(clean_dataset3['BILLING_MONTH_3'], kde=False)\n",
        "plt.title('Billing in the month 3 paid by the customer\\nPrevious to the mobile device purchase\\n', fontsize=18)\n",
        "plt.xlabel('Billing (USD)', fontsize=16)\n",
        "plt.ylabel('Frequency', fontsize=16)"
      ],
      "metadata": {
        "colab": {
          "base_uri": "https://localhost:8080/",
          "height": 363
        },
        "id": "tyVsIORViG9k",
        "outputId": "529bbe53-fbb7-4f45-cee6-3210c5512031"
      },
      "execution_count": 2373,
      "outputs": [
        {
          "output_type": "execute_result",
          "data": {
            "text/plain": [
              "Text(0, 0.5, 'Frequency')"
            ]
          },
          "metadata": {},
          "execution_count": 2373
        },
        {
          "output_type": "display_data",
          "data": {
            "text/plain": [
              "<Figure size 432x288 with 1 Axes>"
            ],
            "image/png": "[encoded data removed]"
          },
          "metadata": {
            "needs_background": "light"
          }
        }
      ]
    },
    {
      "cell_type": "code",
      "source": [
        "sns.distplot(clean_dataset3['DURATION_LINE'], kde=False)\n",
        "plt.title('Number of months since the customer\\nContracted the mobile line\\n', fontsize=18)\n",
        "plt.xlabel('Months', fontsize=16)\n",
        "plt.ylabel('Frequency', fontsize=16)"
      ],
      "metadata": {
        "colab": {
          "base_uri": "https://localhost:8080/",
          "height": 363
        },
        "id": "-5X26mjYi2yq",
        "outputId": "9d8aec97-c1e4-46f6-8eb0-bcda96d9b96e"
      },
      "execution_count": 2374,
      "outputs": [
        {
          "output_type": "execute_result",
          "data": {
            "text/plain": [
              "Text(0, 0.5, 'Frequency')"
            ]
          },
          "metadata": {},
          "execution_count": 2374
        },
        {
          "output_type": "display_data",
          "data": {
            "text/plain": [
              "<Figure size 432x288 with 1 Axes>"
            ],
            "image/png": "[encoded data removed]"
          },
          "metadata": {
            "needs_background": "light"
          }
        }
      ]
    },
    {
      "cell_type": "code",
      "source": [
        "sns.distplot(clean_dataset3['VOICE_TRAFFIC_MONTH_1'], kde=False, color = 'red')\n",
        "sns.distplot(clean_dataset3['VOICE_TRAFFIC_MONTH_2'], kde=False, color = 'yellow')\n",
        "sns.distplot(clean_dataset3['VOICE_TRAFFIC_MONTH_3'], kde=False, color = 'blue')\n",
        "plt.title('Minutes of voice traffic in the months one, two and three\\nUsed by the customer previous to the mobile device purchase\\n', fontsize=18)\n",
        "plt.legend(labels=[\"Voice traffic month 1\",\"Voice traffic month 2\", \"Voice traffic month 3\"], title = \"Voice traffic by month\")\n",
        "plt.xlabel('Minutes of voice traffic', fontsize=16)\n",
        "plt.ylabel('Frequency', fontsize=16)\n",
        "plt.xlim(0, 1000)\n",
        "plt.show()"
      ],
      "metadata": {
        "colab": {
          "base_uri": "https://localhost:8080/",
          "height": 346
        },
        "id": "BSO6JHVKk9AZ",
        "outputId": "bd7dd3c1-a24f-4cde-d948-e69854b85969"
      },
      "execution_count": 2375,
      "outputs": [
        {
          "output_type": "display_data",
          "data": {
            "text/plain": [
              "<Figure size 432x288 with 1 Axes>"
            ],
            "image/png": "[encoded data removed]"
          },
          "metadata": {
            "needs_background": "light"
          }
        }
      ]
    },
    {
      "cell_type": "markdown",
      "metadata": {
        "id": "mFghJvxw36pJ"
      },
      "source": [
        "Variables having exponential distribution can be processed and visualized better after transforming them, usually by applying the `log(x+1)` function (we want to avoid zeros, hence the +1).\n",
        "    \n",
        "<font size=\"-1\" color=\"gray\">(Remove this cell when delivering.)</font>"
      ]
    },
    {
      "cell_type": "markdown",
      "metadata": {
        "id": "pmWJYj2C36pJ"
      },
      "source": [
        "<font size=\"+1\" color=\"red\">Replace this cell with code to apply **log(x+1)** to **VOICE\\_TRAFFIC\\_MONTH\\_1** and plot its new distribution.</font>"
      ]
    },
    {
      "cell_type": "code",
      "source": [
        "new_dis = np.log(clean_dataset3['VOICE_TRAFFIC_MONTH_1'] +1)\n",
        "sns.distplot(new_dis, kde=False)\n",
        "plt.title('Log Voice Traffic\\n', fontsize=18)\n",
        "plt.show()"
      ],
      "metadata": {
        "colab": {
          "base_uri": "https://localhost:8080/",
          "height": 321
        },
        "id": "JUK8q5VvwDpN",
        "outputId": "23db995b-df11-408e-9f98-b60c1b9b5d7a"
      },
      "execution_count": 2376,
      "outputs": [
        {
          "output_type": "display_data",
          "data": {
            "text/plain": [
              "<Figure size 432x288 with 1 Axes>"
            ],
            "image/png": "[encoded data removed]"
          },
          "metadata": {
            "needs_background": "light"
          }
        }
      ]
    },
    {
      "cell_type": "markdown",
      "metadata": {
        "id": "slq42el536pK"
      },
      "source": [
        "<font size=\"+1\" color=\"red\">Replace this cell with code to create a boxplot for variables **DATA\\_TRAFFIC\\_MONTH\\_1**, **VOICE\\_TRAFFIC\\_MONTH\\_1** and **BILLING\\_MONTH\\_1**</font>"
      ]
    },
    {
      "cell_type": "code",
      "source": [
        "data = clean_dataset3['DATA_TRAFFIC_MONTH_1']\n",
        "fig1, ax1 = pyplot.subplots()\n",
        "ax1.set_title('Traffic in the month 1 used by the customer\\nprevious to the mobile device purchase\\n')\n",
        "ax1.boxplot(data, labels = ['Data traffic (Mbps)'])\n",
        "pyplot.show()"
      ],
      "metadata": {
        "colab": {
          "base_uri": "https://localhost:8080/",
          "height": 311
        },
        "id": "jXL0HL8-zZpr",
        "outputId": "a9760538-2f3b-4a91-b872-64a869c205fe"
      },
      "execution_count": 2377,
      "outputs": [
        {
          "output_type": "display_data",
          "data": {
            "text/plain": [
              "<Figure size 432x288 with 1 Axes>"
            ],
            "image/png": "[encoded data removed]"
          },
          "metadata": {
            "needs_background": "light"
          }
        }
      ]
    },
    {
      "cell_type": "code",
      "source": [
        "data = clean_dataset3['VOICE_TRAFFIC_MONTH_1']\n",
        "fig1, ax1 = pyplot.subplots()\n",
        "ax1.set_title('Traffic in the month 1 used by the customer\\nprevious to the mobile device purchase\\n')\n",
        "ax1.boxplot(data, labels = ['Voice traffic (minutes)'])\n",
        "pyplot.show()"
      ],
      "metadata": {
        "colab": {
          "base_uri": "https://localhost:8080/",
          "height": 311
        },
        "id": "FxcHgmHdflIw",
        "outputId": "435e6369-8aa1-4ce6-fcc7-e19be77beeeb"
      },
      "execution_count": 2378,
      "outputs": [
        {
          "output_type": "display_data",
          "data": {
            "text/plain": [
              "<Figure size 432x288 with 1 Axes>"
            ],
            "image/png": "[encoded data removed]"
          },
          "metadata": {
            "needs_background": "light"
          }
        }
      ]
    },
    {
      "cell_type": "code",
      "source": [
        "data = clean_dataset3['BILLING_MONTH_1']\n",
        "fig1, ax1 = pyplot.subplots()\n",
        "ax1.set_title('Billing in the month 1 used by the customer\\nprevious to the mobile device purchase\\n')\n",
        "ax1.boxplot(data, labels = ['Billing (USD)'])\n",
        "pyplot.show()"
      ],
      "metadata": {
        "colab": {
          "base_uri": "https://localhost:8080/",
          "height": 311
        },
        "id": "cIhdSkSOfnlM",
        "outputId": "a4b0ca2b-20da-4085-c0be-a9ad5fcb3d7a"
      },
      "execution_count": 2379,
      "outputs": [
        {
          "output_type": "display_data",
          "data": {
            "text/plain": [
              "<Figure size 432x288 with 1 Axes>"
            ],
            "image/png": "[encoded data removed]"
          },
          "metadata": {
            "needs_background": "light"
          }
        }
      ]
    },
    {
      "cell_type": "markdown",
      "metadata": {
        "id": "f9DQvomY36pL"
      },
      "source": [
        "<font size=\"+1\" color=\"red\">Replace this cell with a brief commentary indicating which extreme values would you use as threshold for **outliers** in these variables, by looking at these box plots</font>"
      ]
    },
    {
      "cell_type": "markdown",
      "metadata": {
        "id": "ZRo1SD8c36pN"
      },
      "source": [
        "In this dataset, there are many dependencies between different attributes, e.g., a large voice traffic will probably be associated with a large data traffic, a more expensive bill, and possibly a more expensive device (`DEVICE_VALUE`).\n",
        "\n",
        "You can use [pandas.DataFrame.corr](https://pandas.pydata.org/pandas-docs/stable/reference/api/pandas.DataFrame.corr.html) to compute a correlation matrix, and [matplotlib.pyplot.matshow](https://matplotlib.org/3.1.1/api/_as_gen/matplotlib.pyplot.matshow.html) to show this graphically.\n",
        "\n",
        "<font size=\"-1\" color=\"gray\">(Remove this cell when delivering.)</font>"
      ]
    },
    {
      "cell_type": "markdown",
      "metadata": {
        "id": "0bjcnqgv36pN"
      },
      "source": [
        "<font size=\"+1\" color=\"red\">Replace this cell with code to calculate the correlation between all traffic attributes (i.e., voice and data), duration line, billing, device cost and device value. Display the result as a table with rows and columns corresponding to columns, and cells indicating correlations. Display the result as an image using ``matshow``</font>"
      ]
    },
    {
      "cell_type": "code",
      "source": [
        "data = [f'DATA_TRAFFIC_MONTH_{i}' for i in range(1, 7)]\n",
        "voice = [f'VOICE_TRAFFIC_MONTH_{i}' for i in range(1, 7)]\n",
        "billing = [f'BILLING_MONTH_{i}' for i in range(1, 7)]\n",
        "device = [f'DEVICE_COST_MONTH_{i}' for i in range(1, 7)]\n",
        "others = ['DURATION_LINE', 'DEVICE_VALUE']\n",
        "\n",
        "interesting_var = data + voice + billing + device + others\n",
        "\n",
        "correlation_matrix = clean_dataset3[interesting_var]\n",
        "\n",
        "correlation_matrix = correlation_matrix.corr(method='pearson')\n",
        "\n",
        "display(correlation_matrix)"
      ],
      "metadata": {
        "id": "c5LeDqr_12oj",
        "outputId": "0e9237b3-73d9-4d01-fab1-ff3275ed0e4e",
        "colab": {
          "base_uri": "https://localhost:8080/",
          "height": 958
        }
      },
      "execution_count": 2380,
      "outputs": [
        {
          "output_type": "display_data",
          "data": {
            "text/plain": [
              "                       DATA_TRAFFIC_MONTH_1  DATA_TRAFFIC_MONTH_2  \\\n",
              "DATA_TRAFFIC_MONTH_1               1.000000              0.756333   \n",
              "DATA_TRAFFIC_MONTH_2               0.756333              1.000000   \n",
              "DATA_TRAFFIC_MONTH_3               0.731075              0.974986   \n",
              "DATA_TRAFFIC_MONTH_4               0.701346              0.790132   \n",
              "DATA_TRAFFIC_MONTH_5               0.661925              0.760661   \n",
              "DATA_TRAFFIC_MONTH_6               0.623487              0.689210   \n",
              "VOICE_TRAFFIC_MONTH_1              0.091497              0.080655   \n",
              "VOICE_TRAFFIC_MONTH_2              0.071170              0.082591   \n",
              "VOICE_TRAFFIC_MONTH_3              0.072724              0.083516   \n",
              "VOICE_TRAFFIC_MONTH_4              0.067697              0.073245   \n",
              "VOICE_TRAFFIC_MONTH_5              0.081116              0.081887   \n",
              "VOICE_TRAFFIC_MONTH_6              0.047375              0.026729   \n",
              "BILLING_MONTH_1                    0.175793              0.188734   \n",
              "BILLING_MONTH_2                    0.168892              0.172244   \n",
              "BILLING_MONTH_3                    0.178029              0.169990   \n",
              "BILLING_MONTH_4                    0.197080              0.194977   \n",
              "BILLING_MONTH_5                    0.187757              0.189966   \n",
              "BILLING_MONTH_6                    0.192214              0.197687   \n",
              "DEVICE_COST_MONTH_1                0.013154              0.012789   \n",
              "DEVICE_COST_MONTH_2                0.053023              0.048059   \n",
              "DEVICE_COST_MONTH_3                0.082138              0.063214   \n",
              "DEVICE_COST_MONTH_4                0.078769              0.068586   \n",
              "DEVICE_COST_MONTH_5                0.081845              0.069624   \n",
              "DEVICE_COST_MONTH_6                0.082754              0.072095   \n",
              "DURATION_LINE                     -0.010386              0.005628   \n",
              "DEVICE_VALUE                       0.116561              0.113921   \n",
              "\n",
              "                       DATA_TRAFFIC_MONTH_3  DATA_TRAFFIC_MONTH_4  \\\n",
              "DATA_TRAFFIC_MONTH_1               0.731075              0.701346   \n",
              "DATA_TRAFFIC_MONTH_2               0.974986              0.790132   \n",
              "DATA_TRAFFIC_MONTH_3               1.000000              0.814513   \n",
              "DATA_TRAFFIC_MONTH_4               0.814513              1.000000   \n",
              "DATA_TRAFFIC_MONTH_5               0.771017              0.826757   \n",
              "DATA_TRAFFIC_MONTH_6               0.696484              0.721067   \n",
              "VOICE_TRAFFIC_MONTH_1              0.082316              0.086213   \n",
              "VOICE_TRAFFIC_MONTH_2              0.084456              0.087458   \n",
              "VOICE_TRAFFIC_MONTH_3              0.084809              0.087728   \n",
              "VOICE_TRAFFIC_MONTH_4              0.074231              0.090379   \n",
              "VOICE_TRAFFIC_MONTH_5              0.081804              0.095345   \n",
              "VOICE_TRAFFIC_MONTH_6              0.028933              0.031146   \n",
              "BILLING_MONTH_1                    0.193538              0.207411   \n",
              "BILLING_MONTH_2                    0.176303              0.189379   \n",
              "BILLING_MONTH_3                    0.174392              0.192818   \n",
              "BILLING_MONTH_4                    0.200426              0.203949   \n",
              "BILLING_MONTH_5                    0.194440              0.207142   \n",
              "BILLING_MONTH_6                    0.204056              0.219507   \n",
              "DEVICE_COST_MONTH_1                0.013616              0.012147   \n",
              "DEVICE_COST_MONTH_2                0.050280              0.048129   \n",
              "DEVICE_COST_MONTH_3                0.064950              0.067395   \n",
              "DEVICE_COST_MONTH_4                0.069882              0.065312   \n",
              "DEVICE_COST_MONTH_5                0.070833              0.068391   \n",
              "DEVICE_COST_MONTH_6                0.073042              0.071571   \n",
              "DURATION_LINE                      0.005655             -0.016521   \n",
              "DEVICE_VALUE                       0.115521              0.118570   \n",
              "\n",
              "                       DATA_TRAFFIC_MONTH_5  DATA_TRAFFIC_MONTH_6  \\\n",
              "DATA_TRAFFIC_MONTH_1               0.661925              0.623487   \n",
              "DATA_TRAFFIC_MONTH_2               0.760661              0.689210   \n",
              "DATA_TRAFFIC_MONTH_3               0.771017              0.696484   \n",
              "DATA_TRAFFIC_MONTH_4               0.826757              0.721067   \n",
              "DATA_TRAFFIC_MONTH_5               1.000000              0.803762   \n",
              "DATA_TRAFFIC_MONTH_6               0.803762              1.000000   \n",
              "VOICE_TRAFFIC_MONTH_1              0.089065              0.079204   \n",
              "VOICE_TRAFFIC_MONTH_2              0.093805              0.076069   \n",
              "VOICE_TRAFFIC_MONTH_3              0.095652              0.077673   \n",
              "VOICE_TRAFFIC_MONTH_4              0.091987              0.077759   \n",
              "VOICE_TRAFFIC_MONTH_5              0.101772              0.086217   \n",
              "VOICE_TRAFFIC_MONTH_6              0.039605              0.028395   \n",
              "BILLING_MONTH_1                    0.220135              0.198224   \n",
              "BILLING_MONTH_2                    0.198446              0.186296   \n",
              "BILLING_MONTH_3                    0.196144              0.189158   \n",
              "BILLING_MONTH_4                    0.220148              0.204711   \n",
              "BILLING_MONTH_5                    0.206180              0.190584   \n",
              "BILLING_MONTH_6                    0.223316              0.200456   \n",
              "DEVICE_COST_MONTH_1                0.007332              0.014574   \n",
              "DEVICE_COST_MONTH_2                0.034486              0.050862   \n",
              "DEVICE_COST_MONTH_3                0.072542              0.090871   \n",
              "DEVICE_COST_MONTH_4                0.056567              0.071097   \n",
              "DEVICE_COST_MONTH_5                0.058195              0.074176   \n",
              "DEVICE_COST_MONTH_6                0.061078              0.079120   \n",
              "DURATION_LINE                      0.003801              0.001765   \n",
              "DEVICE_VALUE                       0.126396              0.118783   \n",
              "\n",
              "                       VOICE_TRAFFIC_MONTH_1  VOICE_TRAFFIC_MONTH_2  \\\n",
              "DATA_TRAFFIC_MONTH_1                0.091497               0.071170   \n",
              "DATA_TRAFFIC_MONTH_2                0.080655               0.082591   \n",
              "DATA_TRAFFIC_MONTH_3                0.082316               0.084456   \n",
              "DATA_TRAFFIC_MONTH_4                0.086213               0.087458   \n",
              "DATA_TRAFFIC_MONTH_5                0.089065               0.093805   \n",
              "DATA_TRAFFIC_MONTH_6                0.079204               0.076069   \n",
              "VOICE_TRAFFIC_MONTH_1               1.000000               0.815295   \n",
              "VOICE_TRAFFIC_MONTH_2               0.815295               1.000000   \n",
              "VOICE_TRAFFIC_MONTH_3               0.799665               0.982587   \n",
              "VOICE_TRAFFIC_MONTH_4               0.737093               0.834420   \n",
              "VOICE_TRAFFIC_MONTH_5               0.727463               0.812197   \n",
              "VOICE_TRAFFIC_MONTH_6               0.437434               0.506034   \n",
              "BILLING_MONTH_1                     0.157749               0.131398   \n",
              "BILLING_MONTH_2                     0.129636               0.110403   \n",
              "BILLING_MONTH_3                     0.131957               0.124854   \n",
              "BILLING_MONTH_4                     0.125612               0.105186   \n",
              "BILLING_MONTH_5                     0.128770               0.112065   \n",
              "BILLING_MONTH_6                     0.136608               0.118259   \n",
              "DEVICE_COST_MONTH_1                -0.008698              -0.006293   \n",
              "DEVICE_COST_MONTH_2                 0.000574               0.004728   \n",
              "DEVICE_COST_MONTH_3                 0.009114              -0.003244   \n",
              "DEVICE_COST_MONTH_4                 0.003552               0.001499   \n",
              "DEVICE_COST_MONTH_5                 0.006573               0.001619   \n",
              "DEVICE_COST_MONTH_6                 0.011290               0.003926   \n",
              "DURATION_LINE                       0.017118               0.028017   \n",
              "DEVICE_VALUE                        0.023954               0.027272   \n",
              "\n",
              "                       VOICE_TRAFFIC_MONTH_3  VOICE_TRAFFIC_MONTH_4  ...  \\\n",
              "DATA_TRAFFIC_MONTH_1                0.072724               0.067697  ...   \n",
              "DATA_TRAFFIC_MONTH_2                0.083516               0.073245  ...   \n",
              "DATA_TRAFFIC_MONTH_3                0.084809               0.074231  ...   \n",
              "DATA_TRAFFIC_MONTH_4                0.087728               0.090379  ...   \n",
              "DATA_TRAFFIC_MONTH_5                0.095652               0.091987  ...   \n",
              "DATA_TRAFFIC_MONTH_6                0.077673               0.077759  ...   \n",
              "VOICE_TRAFFIC_MONTH_1               0.799665               0.737093  ...   \n",
              "VOICE_TRAFFIC_MONTH_2               0.982587               0.834420  ...   \n",
              "VOICE_TRAFFIC_MONTH_3               1.000000               0.847852  ...   \n",
              "VOICE_TRAFFIC_MONTH_4               0.847852               1.000000  ...   \n",
              "VOICE_TRAFFIC_MONTH_5               0.818942               0.880459  ...   \n",
              "VOICE_TRAFFIC_MONTH_6               0.505940               0.458455  ...   \n",
              "BILLING_MONTH_1                     0.130657               0.120536  ...   \n",
              "BILLING_MONTH_2                     0.110549               0.110628  ...   \n",
              "BILLING_MONTH_3                     0.126709               0.116441  ...   \n",
              "BILLING_MONTH_4                     0.107572               0.115993  ...   \n",
              "BILLING_MONTH_5                     0.113864               0.121765  ...   \n",
              "BILLING_MONTH_6                     0.117191               0.115676  ...   \n",
              "DEVICE_COST_MONTH_1                -0.005919              -0.006851  ...   \n",
              "DEVICE_COST_MONTH_2                 0.005817               0.005032  ...   \n",
              "DEVICE_COST_MONTH_3                -0.002401               0.005440  ...   \n",
              "DEVICE_COST_MONTH_4                 0.002626              -0.003068  ...   \n",
              "DEVICE_COST_MONTH_5                 0.002678              -0.001478  ...   \n",
              "DEVICE_COST_MONTH_6                 0.005525               0.005517  ...   \n",
              "DURATION_LINE                       0.029267               0.020981  ...   \n",
              "DEVICE_VALUE                        0.027570               0.023935  ...   \n",
              "\n",
              "                       BILLING_MONTH_5  BILLING_MONTH_6  DEVICE_COST_MONTH_1  \\\n",
              "DATA_TRAFFIC_MONTH_1          0.187757         0.192214             0.013154   \n",
              "DATA_TRAFFIC_MONTH_2          0.189966         0.197687             0.012789   \n",
              "DATA_TRAFFIC_MONTH_3          0.194440         0.204056             0.013616   \n",
              "DATA_TRAFFIC_MONTH_4          0.207142         0.219507             0.012147   \n",
              "DATA_TRAFFIC_MONTH_5          0.206180         0.223316             0.007332   \n",
              "DATA_TRAFFIC_MONTH_6          0.190584         0.200456             0.014574   \n",
              "VOICE_TRAFFIC_MONTH_1         0.128770         0.136608            -0.008698   \n",
              "VOICE_TRAFFIC_MONTH_2         0.112065         0.118259            -0.006293   \n",
              "VOICE_TRAFFIC_MONTH_3         0.113864         0.117191            -0.005919   \n",
              "VOICE_TRAFFIC_MONTH_4         0.121765         0.115676            -0.006851   \n",
              "VOICE_TRAFFIC_MONTH_5         0.130767         0.120709            -0.008941   \n",
              "VOICE_TRAFFIC_MONTH_6         0.110151         0.103814            -0.002975   \n",
              "BILLING_MONTH_1               0.775928         0.787404             0.006602   \n",
              "BILLING_MONTH_2               0.691527         0.702827             0.012934   \n",
              "BILLING_MONTH_3               0.723470         0.748637             0.008637   \n",
              "BILLING_MONTH_4               0.804434         0.794768             0.016461   \n",
              "BILLING_MONTH_5               1.000000         0.827156             0.003878   \n",
              "BILLING_MONTH_6               0.827156         1.000000             0.001730   \n",
              "DEVICE_COST_MONTH_1           0.003878         0.001730             1.000000   \n",
              "DEVICE_COST_MONTH_2           0.036311         0.043078             0.379184   \n",
              "DEVICE_COST_MONTH_3           0.064647         0.064132             0.280050   \n",
              "DEVICE_COST_MONTH_4           0.057597         0.064076             0.327582   \n",
              "DEVICE_COST_MONTH_5           0.054570         0.062270             0.316712   \n",
              "DEVICE_COST_MONTH_6           0.069228         0.072840             0.306907   \n",
              "DURATION_LINE                 0.086826         0.102717            -0.003103   \n",
              "DEVICE_VALUE                  0.099692         0.098457             0.079026   \n",
              "\n",
              "                       DEVICE_COST_MONTH_2  DEVICE_COST_MONTH_3  \\\n",
              "DATA_TRAFFIC_MONTH_1              0.053023             0.082138   \n",
              "DATA_TRAFFIC_MONTH_2              0.048059             0.063214   \n",
              "DATA_TRAFFIC_MONTH_3              0.050280             0.064950   \n",
              "DATA_TRAFFIC_MONTH_4              0.048129             0.067395   \n",
              "DATA_TRAFFIC_MONTH_5              0.034486             0.072542   \n",
              "DATA_TRAFFIC_MONTH_6              0.050862             0.090871   \n",
              "VOICE_TRAFFIC_MONTH_1             0.000574             0.009114   \n",
              "VOICE_TRAFFIC_MONTH_2             0.004728            -0.003244   \n",
              "VOICE_TRAFFIC_MONTH_3             0.005817            -0.002401   \n",
              "VOICE_TRAFFIC_MONTH_4             0.005032             0.005440   \n",
              "VOICE_TRAFFIC_MONTH_5            -0.002324             0.003602   \n",
              "VOICE_TRAFFIC_MONTH_6             0.009149             0.002265   \n",
              "BILLING_MONTH_1                   0.046294             0.065887   \n",
              "BILLING_MONTH_2                   0.046728             0.063197   \n",
              "BILLING_MONTH_3                   0.038050             0.057485   \n",
              "BILLING_MONTH_4                   0.055272             0.075233   \n",
              "BILLING_MONTH_5                   0.036311             0.064647   \n",
              "BILLING_MONTH_6                   0.043078             0.064132   \n",
              "DEVICE_COST_MONTH_1               0.379184             0.280050   \n",
              "DEVICE_COST_MONTH_2               1.000000             0.568637   \n",
              "DEVICE_COST_MONTH_3               0.568637             1.000000   \n",
              "DEVICE_COST_MONTH_4               0.829673             0.666957   \n",
              "DEVICE_COST_MONTH_5               0.801749             0.644925   \n",
              "DEVICE_COST_MONTH_6               0.776366             0.624496   \n",
              "DURATION_LINE                     0.025476             0.005583   \n",
              "DEVICE_VALUE                      0.081716             0.115822   \n",
              "\n",
              "                       DEVICE_COST_MONTH_4  DEVICE_COST_MONTH_5  \\\n",
              "DATA_TRAFFIC_MONTH_1              0.078769             0.081845   \n",
              "DATA_TRAFFIC_MONTH_2              0.068586             0.069624   \n",
              "DATA_TRAFFIC_MONTH_3              0.069882             0.070833   \n",
              "DATA_TRAFFIC_MONTH_4              0.065312             0.068391   \n",
              "DATA_TRAFFIC_MONTH_5              0.056567             0.058195   \n",
              "DATA_TRAFFIC_MONTH_6              0.071097             0.074176   \n",
              "VOICE_TRAFFIC_MONTH_1             0.003552             0.006573   \n",
              "VOICE_TRAFFIC_MONTH_2             0.001499             0.001619   \n",
              "VOICE_TRAFFIC_MONTH_3             0.002626             0.002678   \n",
              "VOICE_TRAFFIC_MONTH_4            -0.003068            -0.001478   \n",
              "VOICE_TRAFFIC_MONTH_5            -0.005502            -0.005227   \n",
              "VOICE_TRAFFIC_MONTH_6             0.011387             0.013915   \n",
              "BILLING_MONTH_1                   0.068840             0.067929   \n",
              "BILLING_MONTH_2                   0.066851             0.067531   \n",
              "BILLING_MONTH_3                   0.061549             0.061485   \n",
              "BILLING_MONTH_4                   0.082820             0.080528   \n",
              "BILLING_MONTH_5                   0.057597             0.054570   \n",
              "BILLING_MONTH_6                   0.064076             0.062270   \n",
              "DEVICE_COST_MONTH_1               0.327582             0.316712   \n",
              "DEVICE_COST_MONTH_2               0.829673             0.801749   \n",
              "DEVICE_COST_MONTH_3               0.666957             0.644925   \n",
              "DEVICE_COST_MONTH_4               1.000000             0.967134   \n",
              "DEVICE_COST_MONTH_5               0.967134             1.000000   \n",
              "DEVICE_COST_MONTH_6               0.936722             0.971234   \n",
              "DURATION_LINE                     0.030160             0.034904   \n",
              "DEVICE_VALUE                      0.106747             0.112281   \n",
              "\n",
              "                       DEVICE_COST_MONTH_6  DURATION_LINE  DEVICE_VALUE  \n",
              "DATA_TRAFFIC_MONTH_1              0.082754      -0.010386      0.116561  \n",
              "DATA_TRAFFIC_MONTH_2              0.072095       0.005628      0.113921  \n",
              "DATA_TRAFFIC_MONTH_3              0.073042       0.005655      0.115521  \n",
              "DATA_TRAFFIC_MONTH_4              0.071571      -0.016521      0.118570  \n",
              "DATA_TRAFFIC_MONTH_5              0.061078       0.003801      0.126396  \n",
              "DATA_TRAFFIC_MONTH_6              0.079120       0.001765      0.118783  \n",
              "VOICE_TRAFFIC_MONTH_1             0.011290       0.017118      0.023954  \n",
              "VOICE_TRAFFIC_MONTH_2             0.003926       0.028017      0.027272  \n",
              "VOICE_TRAFFIC_MONTH_3             0.005525       0.029267      0.027570  \n",
              "VOICE_TRAFFIC_MONTH_4             0.005517       0.020981      0.023935  \n",
              "VOICE_TRAFFIC_MONTH_5             0.002095       0.025783      0.026507  \n",
              "VOICE_TRAFFIC_MONTH_6             0.019630       0.162874      0.016482  \n",
              "BILLING_MONTH_1                   0.080569       0.097821      0.091156  \n",
              "BILLING_MONTH_2                   0.077115       0.090966      0.095780  \n",
              "BILLING_MONTH_3                   0.072667       0.097735      0.102935  \n",
              "BILLING_MONTH_4                   0.092129       0.101692      0.106505  \n",
              "BILLING_MONTH_5                   0.069228       0.086826      0.099692  \n",
              "BILLING_MONTH_6                   0.072840       0.102717      0.098457  \n",
              "DEVICE_COST_MONTH_1               0.306907      -0.003103      0.079026  \n",
              "DEVICE_COST_MONTH_2               0.776366       0.025476      0.081716  \n",
              "DEVICE_COST_MONTH_3               0.624496       0.005583      0.115822  \n",
              "DEVICE_COST_MONTH_4               0.936722       0.030160      0.106747  \n",
              "DEVICE_COST_MONTH_5               0.971234       0.034904      0.112281  \n",
              "DEVICE_COST_MONTH_6               1.000000       0.039726      0.114915  \n",
              "DURATION_LINE                     0.039726       1.000000      0.025068  \n",
              "DEVICE_VALUE                      0.114915       0.025068      1.000000  \n",
              "\n",
              "[26 rows x 26 columns]"
            ],
            "text/html": [
              "\n",
              "  <div id=\"df-d29329c6-23a3-485a-b58d-11f76e538c4b\">\n",
              "    <div class=\"colab-df-container\">\n",
              "      <div>\n",
              "<style scoped>\n",
              "    .dataframe tbody tr th:only-of-type {\n",
              "        vertical-align: middle;\n",
              "    }\n",
              "\n",
              "    .dataframe tbody tr th {\n",
              "        vertical-align: top;\n",
              "    }\n",
              "\n",
              "    .dataframe thead th {\n",
              "        text-align: right;\n",
              "    }\n",
              "</style>\n",
              "<table border=\"1\" class=\"dataframe\">\n",
              "  <thead>\n",
              "    <tr style=\"text-align: right;\">\n",
              "      <th></th>\n",
              "      <th>DATA_TRAFFIC_MONTH_1</th>\n",
              "      <th>DATA_TRAFFIC_MONTH_2</th>\n",
              "      <th>DATA_TRAFFIC_MONTH_3</th>\n",
              "      <th>DATA_TRAFFIC_MONTH_4</th>\n",
              "      <th>DATA_TRAFFIC_MONTH_5</th>\n",
              "      <th>DATA_TRAFFIC_MONTH_6</th>\n",
              "      <th>VOICE_TRAFFIC_MONTH_1</th>\n",
              "      <th>VOICE_TRAFFIC_MONTH_2</th>\n",
              "      <th>VOICE_TRAFFIC_MONTH_3</th>\n",
              "      <th>VOICE_TRAFFIC_MONTH_4</th>\n",
              "      <th>...</th>\n",
              "      <th>BILLING_MONTH_5</th>\n",
              "      <th>BILLING_MONTH_6</th>\n",
              "      <th>DEVICE_COST_MONTH_1</th>\n",
              "      <th>DEVICE_COST_MONTH_2</th>\n",
              "      <th>DEVICE_COST_MONTH_3</th>\n",
              "      <th>DEVICE_COST_MONTH_4</th>\n",
              "      <th>DEVICE_COST_MONTH_5</th>\n",
              "      <th>DEVICE_COST_MONTH_6</th>\n",
              "      <th>DURATION_LINE</th>\n",
              "      <th>DEVICE_VALUE</th>\n",
              "    </tr>\n",
              "  </thead>\n",
              "  <tbody>\n",
              "    <tr>\n",
              "      <th>DATA_TRAFFIC_MONTH_1</th>\n",
              "      <td>1.000000</td>\n",
              "      <td>0.756333</td>\n",
              "      <td>0.731075</td>\n",
              "      <td>0.701346</td>\n",
              "      <td>0.661925</td>\n",
              "      <td>0.623487</td>\n",
              "      <td>0.091497</td>\n",
              "      <td>0.071170</td>\n",
              "      <td>0.072724</td>\n",
              "      <td>0.067697</td>\n",
              "      <td>...</td>\n",
              "      <td>0.187757</td>\n",
              "      <td>0.192214</td>\n",
              "      <td>0.013154</td>\n",
              "      <td>0.053023</td>\n",
              "      <td>0.082138</td>\n",
              "      <td>0.078769</td>\n",
              "      <td>0.081845</td>\n",
              "      <td>0.082754</td>\n",
              "      <td>-0.010386</td>\n",
              "      <td>0.116561</td>\n",
              "    </tr>\n",
              "    <tr>\n",
              "      <th>DATA_TRAFFIC_MONTH_2</th>\n",
              "      <td>0.756333</td>\n",
              "      <td>1.000000</td>\n",
              "      <td>0.974986</td>\n",
              "      <td>0.790132</td>\n",
              "      <td>0.760661</td>\n",
              "      <td>0.689210</td>\n",
              "      <td>0.080655</td>\n",
              "      <td>0.082591</td>\n",
              "      <td>0.083516</td>\n",
              "      <td>0.073245</td>\n",
              "      <td>...</td>\n",
              "      <td>0.189966</td>\n",
              "      <td>0.197687</td>\n",
              "      <td>0.012789</td>\n",
              "      <td>0.048059</td>\n",
              "      <td>0.063214</td>\n",
              "      <td>0.068586</td>\n",
              "      <td>0.069624</td>\n",
              "      <td>0.072095</td>\n",
              "      <td>0.005628</td>\n",
              "      <td>0.113921</td>\n",
              "    </tr>\n",
              "    <tr>\n",
              "      <th>DATA_TRAFFIC_MONTH_3</th>\n",
              "      <td>0.731075</td>\n",
              "      <td>0.974986</td>\n",
              "      <td>1.000000</td>\n",
              "      <td>0.814513</td>\n",
              "      <td>0.771017</td>\n",
              "      <td>0.696484</td>\n",
              "      <td>0.082316</td>\n",
              "      <td>0.084456</td>\n",
              "      <td>0.084809</td>\n",
              "      <td>0.074231</td>\n",
              "      <td>...</td>\n",
              "      <td>0.194440</td>\n",
              "      <td>0.204056</td>\n",
              "      <td>0.013616</td>\n",
              "      <td>0.050280</td>\n",
              "      <td>0.064950</td>\n",
              "      <td>0.069882</td>\n",
              "      <td>0.070833</td>\n",
              "      <td>0.073042</td>\n",
              "      <td>0.005655</td>\n",
              "      <td>0.115521</td>\n",
              "    </tr>\n",
              "    <tr>\n",
              "      <th>DATA_TRAFFIC_MONTH_4</th>\n",
              "      <td>0.701346</td>\n",
              "      <td>0.790132</td>\n",
              "      <td>0.814513</td>\n",
              "      <td>1.000000</td>\n",
              "      <td>0.826757</td>\n",
              "      <td>0.721067</td>\n",
              "      <td>0.086213</td>\n",
              "      <td>0.087458</td>\n",
              "      <td>0.087728</td>\n",
              "      <td>0.090379</td>\n",
              "      <td>...</td>\n",
              "      <td>0.207142</td>\n",
              "      <td>0.219507</td>\n",
              "      <td>0.012147</td>\n",
              "      <td>0.048129</td>\n",
              "      <td>0.067395</td>\n",
              "      <td>0.065312</td>\n",
              "      <td>0.068391</td>\n",
              "      <td>0.071571</td>\n",
              "      <td>-0.016521</td>\n",
              "      <td>0.118570</td>\n",
              "    </tr>\n",
              "    <tr>\n",
              "      <th>DATA_TRAFFIC_MONTH_5</th>\n",
              "      <td>0.661925</td>\n",
              "      <td>0.760661</td>\n",
              "      <td>0.771017</td>\n",
              "      <td>0.826757</td>\n",
              "      <td>1.000000</td>\n",
              "      <td>0.803762</td>\n",
              "      <td>0.089065</td>\n",
              "      <td>0.093805</td>\n",
              "      <td>0.095652</td>\n",
              "      <td>0.091987</td>\n",
              "      <td>...</td>\n",
              "      <td>0.206180</td>\n",
              "      <td>0.223316</td>\n",
              "      <td>0.007332</td>\n",
              "      <td>0.034486</td>\n",
              "      <td>0.072542</td>\n",
              "      <td>0.056567</td>\n",
              "      <td>0.058195</td>\n",
              "      <td>0.061078</td>\n",
              "      <td>0.003801</td>\n",
              "      <td>0.126396</td>\n",
              "    </tr>\n",
              "    <tr>\n",
              "      <th>DATA_TRAFFIC_MONTH_6</th>\n",
              "      <td>0.623487</td>\n",
              "      <td>0.689210</td>\n",
              "      <td>0.696484</td>\n",
              "      <td>0.721067</td>\n",
              "      <td>0.803762</td>\n",
              "      <td>1.000000</td>\n",
              "      <td>0.079204</td>\n",
              "      <td>0.076069</td>\n",
              "      <td>0.077673</td>\n",
              "      <td>0.077759</td>\n",
              "      <td>...</td>\n",
              "      <td>0.190584</td>\n",
              "      <td>0.200456</td>\n",
              "      <td>0.014574</td>\n",
              "      <td>0.050862</td>\n",
              "      <td>0.090871</td>\n",
              "      <td>0.071097</td>\n",
              "      <td>0.074176</td>\n",
              "      <td>0.079120</td>\n",
              "      <td>0.001765</td>\n",
              "      <td>0.118783</td>\n",
              "    </tr>\n",
              "    <tr>\n",
              "      <th>VOICE_TRAFFIC_MONTH_1</th>\n",
              "      <td>0.091497</td>\n",
              "      <td>0.080655</td>\n",
              "      <td>0.082316</td>\n",
              "      <td>0.086213</td>\n",
              "      <td>0.089065</td>\n",
              "      <td>0.079204</td>\n",
              "      <td>1.000000</td>\n",
              "      <td>0.815295</td>\n",
              "      <td>0.799665</td>\n",
              "      <td>0.737093</td>\n",
              "      <td>...</td>\n",
              "      <td>0.128770</td>\n",
              "      <td>0.136608</td>\n",
              "      <td>-0.008698</td>\n",
              "      <td>0.000574</td>\n",
              "      <td>0.009114</td>\n",
              "      <td>0.003552</td>\n",
              "      <td>0.006573</td>\n",
              "      <td>0.011290</td>\n",
              "      <td>0.017118</td>\n",
              "      <td>0.023954</td>\n",
              "    </tr>\n",
              "    <tr>\n",
              "      <th>VOICE_TRAFFIC_MONTH_2</th>\n",
              "      <td>0.071170</td>\n",
              "      <td>0.082591</td>\n",
              "      <td>0.084456</td>\n",
              "      <td>0.087458</td>\n",
              "      <td>0.093805</td>\n",
              "      <td>0.076069</td>\n",
              "      <td>0.815295</td>\n",
              "      <td>1.000000</td>\n",
              "      <td>0.982587</td>\n",
              "      <td>0.834420</td>\n",
              "      <td>...</td>\n",
              "      <td>0.112065</td>\n",
              "      <td>0.118259</td>\n",
              "      <td>-0.006293</td>\n",
              "      <td>0.004728</td>\n",
              "      <td>-0.003244</td>\n",
              "      <td>0.001499</td>\n",
              "      <td>0.001619</td>\n",
              "      <td>0.003926</td>\n",
              "      <td>0.028017</td>\n",
              "      <td>0.027272</td>\n",
              "    </tr>\n",
              "    <tr>\n",
              "      <th>VOICE_TRAFFIC_MONTH_3</th>\n",
              "      <td>0.072724</td>\n",
              "      <td>0.083516</td>\n",
              "      <td>0.084809</td>\n",
              "      <td>0.087728</td>\n",
              "      <td>0.095652</td>\n",
              "      <td>0.077673</td>\n",
              "      <td>0.799665</td>\n",
              "      <td>0.982587</td>\n",
              "      <td>1.000000</td>\n",
              "      <td>0.847852</td>\n",
              "      <td>...</td>\n",
              "      <td>0.113864</td>\n",
              "      <td>0.117191</td>\n",
              "      <td>-0.005919</td>\n",
              "      <td>0.005817</td>\n",
              "      <td>-0.002401</td>\n",
              "      <td>0.002626</td>\n",
              "      <td>0.002678</td>\n",
              "      <td>0.005525</td>\n",
              "      <td>0.029267</td>\n",
              "      <td>0.027570</td>\n",
              "    </tr>\n",
              "    <tr>\n",
              "      <th>VOICE_TRAFFIC_MONTH_4</th>\n",
              "      <td>0.067697</td>\n",
              "      <td>0.073245</td>\n",
              "      <td>0.074231</td>\n",
              "      <td>0.090379</td>\n",
              "      <td>0.091987</td>\n",
              "      <td>0.077759</td>\n",
              "      <td>0.737093</td>\n",
              "      <td>0.834420</td>\n",
              "      <td>0.847852</td>\n",
              "      <td>1.000000</td>\n",
              "      <td>...</td>\n",
              "      <td>0.121765</td>\n",
              "      <td>0.115676</td>\n",
              "      <td>-0.006851</td>\n",
              "      <td>0.005032</td>\n",
              "      <td>0.005440</td>\n",
              "      <td>-0.003068</td>\n",
              "      <td>-0.001478</td>\n",
              "      <td>0.005517</td>\n",
              "      <td>0.020981</td>\n",
              "      <td>0.023935</td>\n",
              "    </tr>\n",
              "    <tr>\n",
              "      <th>VOICE_TRAFFIC_MONTH_5</th>\n",
              "      <td>0.081116</td>\n",
              "      <td>0.081887</td>\n",
              "      <td>0.081804</td>\n",
              "      <td>0.095345</td>\n",
              "      <td>0.101772</td>\n",
              "      <td>0.086217</td>\n",
              "      <td>0.727463</td>\n",
              "      <td>0.812197</td>\n",
              "      <td>0.818942</td>\n",
              "      <td>0.880459</td>\n",
              "      <td>...</td>\n",
              "      <td>0.130767</td>\n",
              "      <td>0.120709</td>\n",
              "      <td>-0.008941</td>\n",
              "      <td>-0.002324</td>\n",
              "      <td>0.003602</td>\n",
              "      <td>-0.005502</td>\n",
              "      <td>-0.005227</td>\n",
              "      <td>0.002095</td>\n",
              "      <td>0.025783</td>\n",
              "      <td>0.026507</td>\n",
              "    </tr>\n",
              "    <tr>\n",
              "      <th>VOICE_TRAFFIC_MONTH_6</th>\n",
              "      <td>0.047375</td>\n",
              "      <td>0.026729</td>\n",
              "      <td>0.028933</td>\n",
              "      <td>0.031146</td>\n",
              "      <td>0.039605</td>\n",
              "      <td>0.028395</td>\n",
              "      <td>0.437434</td>\n",
              "      <td>0.506034</td>\n",
              "      <td>0.505940</td>\n",
              "      <td>0.458455</td>\n",
              "      <td>...</td>\n",
              "      <td>0.110151</td>\n",
              "      <td>0.103814</td>\n",
              "      <td>-0.002975</td>\n",
              "      <td>0.009149</td>\n",
              "      <td>0.002265</td>\n",
              "      <td>0.011387</td>\n",
              "      <td>0.013915</td>\n",
              "      <td>0.019630</td>\n",
              "      <td>0.162874</td>\n",
              "      <td>0.016482</td>\n",
              "    </tr>\n",
              "    <tr>\n",
              "      <th>BILLING_MONTH_1</th>\n",
              "      <td>0.175793</td>\n",
              "      <td>0.188734</td>\n",
              "      <td>0.193538</td>\n",
              "      <td>0.207411</td>\n",
              "      <td>0.220135</td>\n",
              "      <td>0.198224</td>\n",
              "      <td>0.157749</td>\n",
              "      <td>0.131398</td>\n",
              "      <td>0.130657</td>\n",
              "      <td>0.120536</td>\n",
              "      <td>...</td>\n",
              "      <td>0.775928</td>\n",
              "      <td>0.787404</td>\n",
              "      <td>0.006602</td>\n",
              "      <td>0.046294</td>\n",
              "      <td>0.065887</td>\n",
              "      <td>0.068840</td>\n",
              "      <td>0.067929</td>\n",
              "      <td>0.080569</td>\n",
              "      <td>0.097821</td>\n",
              "      <td>0.091156</td>\n",
              "    </tr>\n",
              "    <tr>\n",
              "      <th>BILLING_MONTH_2</th>\n",
              "      <td>0.168892</td>\n",
              "      <td>0.172244</td>\n",
              "      <td>0.176303</td>\n",
              "      <td>0.189379</td>\n",
              "      <td>0.198446</td>\n",
              "      <td>0.186296</td>\n",
              "      <td>0.129636</td>\n",
              "      <td>0.110403</td>\n",
              "      <td>0.110549</td>\n",
              "      <td>0.110628</td>\n",
              "      <td>...</td>\n",
              "      <td>0.691527</td>\n",
              "      <td>0.702827</td>\n",
              "      <td>0.012934</td>\n",
              "      <td>0.046728</td>\n",
              "      <td>0.063197</td>\n",
              "      <td>0.066851</td>\n",
              "      <td>0.067531</td>\n",
              "      <td>0.077115</td>\n",
              "      <td>0.090966</td>\n",
              "      <td>0.095780</td>\n",
              "    </tr>\n",
              "    <tr>\n",
              "      <th>BILLING_MONTH_3</th>\n",
              "      <td>0.178029</td>\n",
              "      <td>0.169990</td>\n",
              "      <td>0.174392</td>\n",
              "      <td>0.192818</td>\n",
              "      <td>0.196144</td>\n",
              "      <td>0.189158</td>\n",
              "      <td>0.131957</td>\n",
              "      <td>0.124854</td>\n",
              "      <td>0.126709</td>\n",
              "      <td>0.116441</td>\n",
              "      <td>...</td>\n",
              "      <td>0.723470</td>\n",
              "      <td>0.748637</td>\n",
              "      <td>0.008637</td>\n",
              "      <td>0.038050</td>\n",
              "      <td>0.057485</td>\n",
              "      <td>0.061549</td>\n",
              "      <td>0.061485</td>\n",
              "      <td>0.072667</td>\n",
              "      <td>0.097735</td>\n",
              "      <td>0.102935</td>\n",
              "    </tr>\n",
              "    <tr>\n",
              "      <th>BILLING_MONTH_4</th>\n",
              "      <td>0.197080</td>\n",
              "      <td>0.194977</td>\n",
              "      <td>0.200426</td>\n",
              "      <td>0.203949</td>\n",
              "      <td>0.220148</td>\n",
              "      <td>0.204711</td>\n",
              "      <td>0.125612</td>\n",
              "      <td>0.105186</td>\n",
              "      <td>0.107572</td>\n",
              "      <td>0.115993</td>\n",
              "      <td>...</td>\n",
              "      <td>0.804434</td>\n",
              "      <td>0.794768</td>\n",
              "      <td>0.016461</td>\n",
              "      <td>0.055272</td>\n",
              "      <td>0.075233</td>\n",
              "      <td>0.082820</td>\n",
              "      <td>0.080528</td>\n",
              "      <td>0.092129</td>\n",
              "      <td>0.101692</td>\n",
              "      <td>0.106505</td>\n",
              "    </tr>\n",
              "    <tr>\n",
              "      <th>BILLING_MONTH_5</th>\n",
              "      <td>0.187757</td>\n",
              "      <td>0.189966</td>\n",
              "      <td>0.194440</td>\n",
              "      <td>0.207142</td>\n",
              "      <td>0.206180</td>\n",
              "      <td>0.190584</td>\n",
              "      <td>0.128770</td>\n",
              "      <td>0.112065</td>\n",
              "      <td>0.113864</td>\n",
              "      <td>0.121765</td>\n",
              "      <td>...</td>\n",
              "      <td>1.000000</td>\n",
              "      <td>0.827156</td>\n",
              "      <td>0.003878</td>\n",
              "      <td>0.036311</td>\n",
              "      <td>0.064647</td>\n",
              "      <td>0.057597</td>\n",
              "      <td>0.054570</td>\n",
              "      <td>0.069228</td>\n",
              "      <td>0.086826</td>\n",
              "      <td>0.099692</td>\n",
              "    </tr>\n",
              "    <tr>\n",
              "      <th>BILLING_MONTH_6</th>\n",
              "      <td>0.192214</td>\n",
              "      <td>0.197687</td>\n",
              "      <td>0.204056</td>\n",
              "      <td>0.219507</td>\n",
              "      <td>0.223316</td>\n",
              "      <td>0.200456</td>\n",
              "      <td>0.136608</td>\n",
              "      <td>0.118259</td>\n",
              "      <td>0.117191</td>\n",
              "      <td>0.115676</td>\n",
              "      <td>...</td>\n",
              "      <td>0.827156</td>\n",
              "      <td>1.000000</td>\n",
              "      <td>0.001730</td>\n",
              "      <td>0.043078</td>\n",
              "      <td>0.064132</td>\n",
              "      <td>0.064076</td>\n",
              "      <td>0.062270</td>\n",
              "      <td>0.072840</td>\n",
              "      <td>0.102717</td>\n",
              "      <td>0.098457</td>\n",
              "    </tr>\n",
              "    <tr>\n",
              "      <th>DEVICE_COST_MONTH_1</th>\n",
              "      <td>0.013154</td>\n",
              "      <td>0.012789</td>\n",
              "      <td>0.013616</td>\n",
              "      <td>0.012147</td>\n",
              "      <td>0.007332</td>\n",
              "      <td>0.014574</td>\n",
              "      <td>-0.008698</td>\n",
              "      <td>-0.006293</td>\n",
              "      <td>-0.005919</td>\n",
              "      <td>-0.006851</td>\n",
              "      <td>...</td>\n",
              "      <td>0.003878</td>\n",
              "      <td>0.001730</td>\n",
              "      <td>1.000000</td>\n",
              "      <td>0.379184</td>\n",
              "      <td>0.280050</td>\n",
              "      <td>0.327582</td>\n",
              "      <td>0.316712</td>\n",
              "      <td>0.306907</td>\n",
              "      <td>-0.003103</td>\n",
              "      <td>0.079026</td>\n",
              "    </tr>\n",
              "    <tr>\n",
              "      <th>DEVICE_COST_MONTH_2</th>\n",
              "      <td>0.053023</td>\n",
              "      <td>0.048059</td>\n",
              "      <td>0.050280</td>\n",
              "      <td>0.048129</td>\n",
              "      <td>0.034486</td>\n",
              "      <td>0.050862</td>\n",
              "      <td>0.000574</td>\n",
              "      <td>0.004728</td>\n",
              "      <td>0.005817</td>\n",
              "      <td>0.005032</td>\n",
              "      <td>...</td>\n",
              "      <td>0.036311</td>\n",
              "      <td>0.043078</td>\n",
              "      <td>0.379184</td>\n",
              "      <td>1.000000</td>\n",
              "      <td>0.568637</td>\n",
              "      <td>0.829673</td>\n",
              "      <td>0.801749</td>\n",
              "      <td>0.776366</td>\n",
              "      <td>0.025476</td>\n",
              "      <td>0.081716</td>\n",
              "    </tr>\n",
              "    <tr>\n",
              "      <th>DEVICE_COST_MONTH_3</th>\n",
              "      <td>0.082138</td>\n",
              "      <td>0.063214</td>\n",
              "      <td>0.064950</td>\n",
              "      <td>0.067395</td>\n",
              "      <td>0.072542</td>\n",
              "      <td>0.090871</td>\n",
              "      <td>0.009114</td>\n",
              "      <td>-0.003244</td>\n",
              "      <td>-0.002401</td>\n",
              "      <td>0.005440</td>\n",
              "      <td>...</td>\n",
              "      <td>0.064647</td>\n",
              "      <td>0.064132</td>\n",
              "      <td>0.280050</td>\n",
              "      <td>0.568637</td>\n",
              "      <td>1.000000</td>\n",
              "      <td>0.666957</td>\n",
              "      <td>0.644925</td>\n",
              "      <td>0.624496</td>\n",
              "      <td>0.005583</td>\n",
              "      <td>0.115822</td>\n",
              "    </tr>\n",
              "    <tr>\n",
              "      <th>DEVICE_COST_MONTH_4</th>\n",
              "      <td>0.078769</td>\n",
              "      <td>0.068586</td>\n",
              "      <td>0.069882</td>\n",
              "      <td>0.065312</td>\n",
              "      <td>0.056567</td>\n",
              "      <td>0.071097</td>\n",
              "      <td>0.003552</td>\n",
              "      <td>0.001499</td>\n",
              "      <td>0.002626</td>\n",
              "      <td>-0.003068</td>\n",
              "      <td>...</td>\n",
              "      <td>0.057597</td>\n",
              "      <td>0.064076</td>\n",
              "      <td>0.327582</td>\n",
              "      <td>0.829673</td>\n",
              "      <td>0.666957</td>\n",
              "      <td>1.000000</td>\n",
              "      <td>0.967134</td>\n",
              "      <td>0.936722</td>\n",
              "      <td>0.030160</td>\n",
              "      <td>0.106747</td>\n",
              "    </tr>\n",
              "    <tr>\n",
              "      <th>DEVICE_COST_MONTH_5</th>\n",
              "      <td>0.081845</td>\n",
              "      <td>0.069624</td>\n",
              "      <td>0.070833</td>\n",
              "      <td>0.068391</td>\n",
              "      <td>0.058195</td>\n",
              "      <td>0.074176</td>\n",
              "      <td>0.006573</td>\n",
              "      <td>0.001619</td>\n",
              "      <td>0.002678</td>\n",
              "      <td>-0.001478</td>\n",
              "      <td>...</td>\n",
              "      <td>0.054570</td>\n",
              "      <td>0.062270</td>\n",
              "      <td>0.316712</td>\n",
              "      <td>0.801749</td>\n",
              "      <td>0.644925</td>\n",
              "      <td>0.967134</td>\n",
              "      <td>1.000000</td>\n",
              "      <td>0.971234</td>\n",
              "      <td>0.034904</td>\n",
              "      <td>0.112281</td>\n",
              "    </tr>\n",
              "    <tr>\n",
              "      <th>DEVICE_COST_MONTH_6</th>\n",
              "      <td>0.082754</td>\n",
              "      <td>0.072095</td>\n",
              "      <td>0.073042</td>\n",
              "      <td>0.071571</td>\n",
              "      <td>0.061078</td>\n",
              "      <td>0.079120</td>\n",
              "      <td>0.011290</td>\n",
              "      <td>0.003926</td>\n",
              "      <td>0.005525</td>\n",
              "      <td>0.005517</td>\n",
              "      <td>...</td>\n",
              "      <td>0.069228</td>\n",
              "      <td>0.072840</td>\n",
              "      <td>0.306907</td>\n",
              "      <td>0.776366</td>\n",
              "      <td>0.624496</td>\n",
              "      <td>0.936722</td>\n",
              "      <td>0.971234</td>\n",
              "      <td>1.000000</td>\n",
              "      <td>0.039726</td>\n",
              "      <td>0.114915</td>\n",
              "    </tr>\n",
              "    <tr>\n",
              "      <th>DURATION_LINE</th>\n",
              "      <td>-0.010386</td>\n",
              "      <td>0.005628</td>\n",
              "      <td>0.005655</td>\n",
              "      <td>-0.016521</td>\n",
              "      <td>0.003801</td>\n",
              "      <td>0.001765</td>\n",
              "      <td>0.017118</td>\n",
              "      <td>0.028017</td>\n",
              "      <td>0.029267</td>\n",
              "      <td>0.020981</td>\n",
              "      <td>...</td>\n",
              "      <td>0.086826</td>\n",
              "      <td>0.102717</td>\n",
              "      <td>-0.003103</td>\n",
              "      <td>0.025476</td>\n",
              "      <td>0.005583</td>\n",
              "      <td>0.030160</td>\n",
              "      <td>0.034904</td>\n",
              "      <td>0.039726</td>\n",
              "      <td>1.000000</td>\n",
              "      <td>0.025068</td>\n",
              "    </tr>\n",
              "    <tr>\n",
              "      <th>DEVICE_VALUE</th>\n",
              "      <td>0.116561</td>\n",
              "      <td>0.113921</td>\n",
              "      <td>0.115521</td>\n",
              "      <td>0.118570</td>\n",
              "      <td>0.126396</td>\n",
              "      <td>0.118783</td>\n",
              "      <td>0.023954</td>\n",
              "      <td>0.027272</td>\n",
              "      <td>0.027570</td>\n",
              "      <td>0.023935</td>\n",
              "      <td>...</td>\n",
              "      <td>0.099692</td>\n",
              "      <td>0.098457</td>\n",
              "      <td>0.079026</td>\n",
              "      <td>0.081716</td>\n",
              "      <td>0.115822</td>\n",
              "      <td>0.106747</td>\n",
              "      <td>0.112281</td>\n",
              "      <td>0.114915</td>\n",
              "      <td>0.025068</td>\n",
              "      <td>1.000000</td>\n",
              "    </tr>\n",
              "  </tbody>\n",
              "</table>\n",
              "<p>26 rows × 26 columns</p>\n",
              "</div>\n",
              "      <button class=\"colab-df-convert\" onclick=\"convertToInteractive('df-d29329c6-23a3-485a-b58d-11f76e538c4b')\"\n",
              "              title=\"Convert this dataframe to an interactive table.\"\n",
              "              style=\"display:none;\">\n",
              "        \n",
              "  <svg xmlns=\"http://www.w3.org/2000/svg\" height=\"24px\"viewBox=\"0 0 24 24\"\n",
              "       width=\"24px\">\n",
              "    <path d=\"M0 0h24v24H0V0z\" fill=\"none\"/>\n",
              "    <path d=\"M18.56 5.44l.94 2.06.94-2.06 2.06-.94-2.06-.94-.94-2.06-.94 2.06-2.06.94zm-11 1L8.5 8.5l.94-2.06 2.06-.94-2.06-.94L8.5 2.5l-.94 2.06-2.06.94zm10 10l.94 2.06.94-2.06 2.06-.94-2.06-.94-.94-2.06-.94 2.06-2.06.94z\"/><path d=\"M17.41 7.96l-1.37-1.37c-.4-.4-.92-.59-1.43-.59-.52 0-1.04.2-1.43.59L10.3 9.45l-7.72 7.72c-.78.78-.78 2.05 0 2.83L4 21.41c.39.39.9.59 1.41.59.51 0 1.02-.2 1.41-.59l7.78-7.78 2.81-2.81c.8-.78.8-2.07 0-2.86zM5.41 20L4 18.59l7.72-7.72 1.47 1.35L5.41 20z\"/>\n",
              "  </svg>\n",
              "      </button>\n",
              "      \n",
              "  <style>\n",
              "    .colab-df-container {\n",
              "      display:flex;\n",
              "      flex-wrap:wrap;\n",
              "      gap: 12px;\n",
              "    }\n",
              "\n",
              "    .colab-df-convert {\n",
              "      background-color: #E8F0FE;\n",
              "      border: none;\n",
              "      border-radius: 50%;\n",
              "      cursor: pointer;\n",
              "      display: none;\n",
              "      fill: #1967D2;\n",
              "      height: 32px;\n",
              "      padding: 0 0 0 0;\n",
              "      width: 32px;\n",
              "    }\n",
              "\n",
              "    .colab-df-convert:hover {\n",
              "      background-color: #E2EBFA;\n",
              "      box-shadow: 0px 1px 2px rgba(60, 64, 67, 0.3), 0px 1px 3px 1px rgba(60, 64, 67, 0.15);\n",
              "      fill: #174EA6;\n",
              "    }\n",
              "\n",
              "    [theme=dark] .colab-df-convert {\n",
              "      background-color: #3B4455;\n",
              "      fill: #D2E3FC;\n",
              "    }\n",
              "\n",
              "    [theme=dark] .colab-df-convert:hover {\n",
              "      background-color: #434B5C;\n",
              "      box-shadow: 0px 1px 3px 1px rgba(0, 0, 0, 0.15);\n",
              "      filter: drop-shadow(0px 1px 2px rgba(0, 0, 0, 0.3));\n",
              "      fill: #FFFFFF;\n",
              "    }\n",
              "  </style>\n",
              "\n",
              "      <script>\n",
              "        const buttonEl =\n",
              "          document.querySelector('#df-d29329c6-23a3-485a-b58d-11f76e538c4b button.colab-df-convert');\n",
              "        buttonEl.style.display =\n",
              "          google.colab.kernel.accessAllowed ? 'block' : 'none';\n",
              "\n",
              "        async function convertToInteractive(key) {\n",
              "          const element = document.querySelector('#df-d29329c6-23a3-485a-b58d-11f76e538c4b');\n",
              "          const dataTable =\n",
              "            await google.colab.kernel.invokeFunction('convertToInteractive',\n",
              "                                                     [key], {});\n",
              "          if (!dataTable) return;\n",
              "\n",
              "          const docLinkHtml = 'Like what you see? Visit the ' +\n",
              "            '<a target=\"_blank\" href=https://colab.research.google.com/notebooks/data_table.ipynb>data table notebook</a>'\n",
              "            + ' to learn more about interactive tables.';\n",
              "          element.innerHTML = '';\n",
              "          dataTable['output_type'] = 'display_data';\n",
              "          await google.colab.output.renderOutput(dataTable, element);\n",
              "          const docLink = document.createElement('div');\n",
              "          docLink.innerHTML = docLinkHtml;\n",
              "          element.appendChild(docLink);\n",
              "        }\n",
              "      </script>\n",
              "    </div>\n",
              "  </div>\n",
              "  "
            ]
          },
          "metadata": {}
        }
      ]
    },
    {
      "cell_type": "code",
      "source": [
        "plt.matshow(correlation_matrix)\n",
        "plt.colorbar()\n",
        "plt.show()"
      ],
      "metadata": {
        "colab": {
          "base_uri": "https://localhost:8080/",
          "height": 260
        },
        "id": "ucCe4Kzzkj40",
        "outputId": "ac705959-85c8-400d-f1c0-7fd036ca0bfd"
      },
      "execution_count": 2381,
      "outputs": [
        {
          "output_type": "display_data",
          "data": {
            "text/plain": [
              "<Figure size 288x288 with 2 Axes>"
            ],
            "image/png": "[encoded data removed]"
          },
          "metadata": {
            "needs_background": "light"
          }
        }
      ]
    },
    {
      "cell_type": "markdown",
      "metadata": {
        "id": "zzM__aWb36pO"
      },
      "source": [
        "<font size=\"+1\" color=\"red\">Replace this cell with a brief commentary on the results. Is the billing more correlated, in general, with the data traffic or with the voice traffic?</font>"
      ]
    },
    {
      "cell_type": "markdown",
      "metadata": {
        "id": "6wZ5hRAW36pO"
      },
      "source": [
        "## 2.3. Date management and period calculation"
      ]
    },
    {
      "cell_type": "markdown",
      "metadata": {
        "id": "wPfxiXpQ36pO"
      },
      "source": [
        "First, we will determine the date of the `LAST_DEVICE_CHANGE` of the last device that was changed in the entire dataset (i.e., the maximum value of the `LAST_DEVICE_CHANGE` column, plus 30 days). We will refer to that date as `latest_change`.\n",
        "\n",
        "Note that `LAST_DEVICE_CHANGE` is expressed as a floating point number in the format `YYYYMMDD.0`, for instance 3 of July of 2018 would be `20180703.0`. Convert to integer first, then to string.\n",
        "\n",
        "As a string, this is formatted according to [strptime](https://www.geeksforgeeks.org/python-datetime-strptime-function/) conventions with format `%Y%m%d`.\n",
        "\n",
        "Use [datetime.datetime.strptime](https://docs.python.org/3/library/datetime.html#datetime.datetime.strptime) to convert to create object `latest_change` and print it.\n",
        "\n",
        "Next, add 30 days to that date to obtain object `now` (we will assume we are doing this processing 30 days after the latest device change). Use a `datetime.timedelta` object for that.\n",
        "\n",
        "Your output should look like this:\n",
        "\n",
        "```\n",
        "2019-05-01 00:00:00\n",
        "2019-05-31 00:00:00\n",
        "```\n",
        "\n",
        "<font size=\"-1\" color=\"gray\">(Remove this cell when delivering.)</font>"
      ]
    },
    {
      "cell_type": "markdown",
      "metadata": {
        "id": "B5ENAvUd36pP"
      },
      "source": [
        "<font size=\"+1\" color=\"red\">Replace this cell with code to create and print `latest_change` and `now`.</font>"
      ]
    },
    {
      "cell_type": "code",
      "source": [
        "latest_change = clean_dataset3['LAST_DEVICE_CHANGE'].max()\n",
        "latest_change = datetime.datetime.strptime(str(int(latest_change)), '%Y%m%d')\n",
        "now = latest_change + datetime.timedelta(days=30)\n",
        "print(latest_change)\n",
        "print(now)\n",
        "\n"
      ],
      "metadata": {
        "colab": {
          "base_uri": "https://localhost:8080/"
        },
        "id": "vKVYElKenasR",
        "outputId": "2a3e264a-0949-4003-ca71-2cb5beb3f748"
      },
      "execution_count": 2382,
      "outputs": [
        {
          "output_type": "stream",
          "name": "stdout",
          "text": [
            "2019-05-01 00:00:00\n",
            "2019-05-31 00:00:00\n"
          ]
        }
      ]
    },
    {
      "cell_type": "markdown",
      "metadata": {
        "id": "V5VaFcSV36pQ"
      },
      "source": [
        "Now, obtain the series corresponding to the last device change, you can do it by using [pandas.to_datetime](https://pandas.pydata.org/pandas-docs/stable/reference/api/pandas.to_datetime.html) as if you were using `strptime`:\n",
        "\n",
        "```\n",
        "series_converted = pd.to_datetime(dataframe[column_name], format='%Y%m%d')\n",
        "```\n",
        "\n",
        "Now compute the difference between the now and the series_converted. \n",
        "\n",
        "Divide that difference by `30 * datetime.timedelta(days=1)` to obtain the difference in periods of 30 days (approximately one month).\n",
        "\n",
        "Replace the `MONTHS_LAST_DEVICE` column with those differences. You may need to [fill the NaN with zeroes](https://pandas.pydata.org/docs/reference/api/pandas.DataFrame.fillna.html), and [convert to type](https://pandas.pydata.org/docs/reference/api/pandas.DataFrame.astype.html) `int`.\n",
        "\n",
        "\n",
        "<font size=\"-1\" color=\"gray\">(Remove this cell when delivering.)</font>"
      ]
    },
    {
      "cell_type": "markdown",
      "metadata": {
        "id": "xpixYJub36pQ"
      },
      "source": [
        "<font size=\"+1\" color=\"red\">Replace this cell with code that replaces the **MONTHS_LAST_DEVICE** column to be equal to the difference, in periods of 30 days, between **LAST_DEVICE_CHANGE** and the `now` variable.</font>"
      ]
    },
    {
      "cell_type": "code",
      "source": [
        "clean_dataset4 = clean_dataset3.reset_index(drop=True)\n",
        "prev = clean_dataset4['LAST_DEVICE_CHANGE']\n",
        "clean_dataset4['LAST_DEVICE_CHANGE'] = clean_dataset4['LAST_DEVICE_CHANGE'].fillna(0).astype(int)\n",
        "clean_dataset4['LAST_DEVICE_CHANGE'] = clean_dataset4['LAST_DEVICE_CHANGE'].astype(str)\n",
        "\n",
        "series_converted = pd.to_datetime(clean_dataset4['LAST_DEVICE_CHANGE'], format='%Y%m%d', errors='coerce')"
      ],
      "metadata": {
        "id": "UdFogjAXrYOH"
      },
      "execution_count": 2383,
      "outputs": []
    },
    {
      "cell_type": "code",
      "source": [
        "for i in range(len(series_converted)):\n",
        "  if not pd.isnull(series_converted[i]):\n",
        "    date = series_converted[i].to_pydatetime()\n",
        "    difference = (now - date)\n",
        "\n",
        "    months_diff = difference.total_seconds()/ (30*24*60*60)\n",
        "    clean_dataset4['MONTHS_LAST_DEVICE'].iloc[i] = months_diff\n",
        "    \n",
        "  else:\n",
        "    clean_dataset4['MONTHS_LAST_DEVICE'].iloc[i] = np.nan"
      ],
      "metadata": {
        "colab": {
          "base_uri": "https://localhost:8080/"
        },
        "id": "Ls43t6-KSMUH",
        "outputId": "03aedcee-0f81-43fd-e2ac-f78b40d99b4b"
      },
      "execution_count": 2384,
      "outputs": [
        {
          "output_type": "stream",
          "name": "stderr",
          "text": [
            "/usr/local/lib/python3.7/dist-packages/pandas/core/indexing.py:1732: SettingWithCopyWarning: \n",
            "A value is trying to be set on a copy of a slice from a DataFrame\n",
            "\n",
            "See the caveats in the documentation: https://pandas.pydata.org/pandas-docs/stable/user_guide/indexing.html#returning-a-view-versus-a-copy\n",
            "  self._setitem_single_block(indexer, value, name)\n"
          ]
        }
      ]
    },
    {
      "cell_type": "markdown",
      "metadata": {
        "id": "gvyaJWl536pR"
      },
      "source": [
        "<font size=\"+1\" color=\"red\">Replace this cell with code to update the **DURATION_LINE** value to be the difference, in days, between **LINE_ACTIVATION_DATE** and the `now` variable.\n",
        "    \n",
        "Indicate the average of **DURATION_LINE** -- what is that in years, approximately?</font>"
      ]
    },
    {
      "cell_type": "code",
      "source": [
        "series = clean_dataset4['LINE_ACTIVATION_DATE'].fillna(0).astype(int)\n",
        "series = series .astype(str)\n",
        "series = pd.to_datetime(series, format='%Y%m%d', errors='coerce')\n",
        "\n",
        "for i in range(len(clean_dataset4.index)):\n",
        "  date = series.iloc[i].to_pydatetime()\n",
        "  clean_dataset4['DURATION_LINE']  = (now - date)"
      ],
      "metadata": {
        "id": "FufUrNh6WA0J"
      },
      "execution_count": 2385,
      "outputs": []
    },
    {
      "cell_type": "code",
      "source": [
        "average_duration_line = clean_dataset4['DURATION_LINE'].mean()\n",
        "average_duration_line = average_duration_line.total_seconds()/ (365*24*60*60)\n",
        "print(f'Average duration line: {round(average_duration_line, 2)} years')"
      ],
      "metadata": {
        "colab": {
          "base_uri": "https://localhost:8080/"
        },
        "id": "WhAqobzdi2NI",
        "outputId": "42ebf10b-5dc3-43f2-b4b9-0d96ecdb03bd"
      },
      "execution_count": 2386,
      "outputs": [
        {
          "output_type": "stream",
          "name": "stdout",
          "text": [
            "Average duration line: 8.3 years\n"
          ]
        }
      ]
    },
    {
      "cell_type": "markdown",
      "metadata": {
        "id": "memePa0336pS"
      },
      "source": [
        "\n",
        "## 2.4. Standarization and scaling of numerical variables"
      ]
    },
    {
      "cell_type": "markdown",
      "metadata": {
        "id": "TJ0WItwC36pT"
      },
      "source": [
        "Scaling a series involves changing the values. Standardization involves ensuring that the mean is 0 and the standard deviation is 1, while min-max scaling requires that the maximum is 1, the minimum is 0, and all remaining values are linearly interpolated.\n",
        "\n",
        "You can use [StandardScaler()](https://scikit-learn.org/stable/modules/generated/sklearn.preprocessing.StandardScaler.html) to standarize a variable, and [MinMaxScaler()](https://scikit-learn.org/stable/modules/generated/sklearn.preprocessing.MinMaxScaler.html) to perform min-max scaling.\n",
        "\n",
        "The following example shows how to use these:\n",
        "\n",
        "```python\n",
        "test_data = [{'x': -1.0}, {'x': 2.0}, {'x': 3.0}, {'x': 6.0}]\n",
        "test_df = pd.DataFrame(test_data)\n",
        "display(test_df)\n",
        "\n",
        "test_df['x_standardized'] = StandardScaler().fit_transform(test_df[['x']])\n",
        "test_df['x_minmaxscaled'] = MinMaxScaler().fit_transform(test_df[['x']])\n",
        "display(test_df)\n",
        "```\n",
        "\n",
        "<font size=\"-1\" color=\"gray\">(Remove this cell when delivering.)</font>"
      ]
    },
    {
      "cell_type": "markdown",
      "metadata": {
        "id": "xH55ce2836pV"
      },
      "source": [
        "<font size=\"+1\" color=\"red\">Replace this cell with code to standardize and min-max scale the **DATA_TRAFFIC_MONTH_1**, **VOICE_TRAFFIC_MONTH_1**, **BILLING_MONTH_1** and **DEVICE_COST_MONTH_1** columns. Save the results in new colums with the same name followed by **_STAND** and **_MINMAX** (e.g., DATA\\_TRAFFIC\\_MONTH\\_1\\_STAND, DATA\\_TRAFFIC\\_MONTH\\_1\\_MINMAX). Plot a histogram for each new variable.</font>\n",
        "\n"
      ]
    },
    {
      "cell_type": "code",
      "source": [
        "clean_dataset5 = clean_dataset4\n",
        "\n",
        "rescale_cols = ['DATA_TRAFFIC_MONTH_1', 'VOICE_TRAFFIC_MONTH_1', 'BILLING_MONTH_1', 'DEVICE_COST_MONTH_1']\n",
        "\n",
        "for col in rescale_cols:\n",
        "  stkey = f'{col}_STAND'\n",
        "  minmaxkey = f'{col}_MINMAX'\n",
        "\n",
        "  clean_dataset5[stkey]  = StandardScaler().fit_transform(clean_dataset5[[col]])\n",
        "  clean_dataset5[minmaxkey] = MinMaxScaler().fit_transform(clean_dataset5[[col]])\n",
        "\n",
        "\n",
        "\n",
        "  print(f'{col} STANDARIZED AND SCALED HISTOGRAMS\\n')\n",
        "  plt.figure()\n",
        "  plt.hist(clean_dataset5[stkey], color= ['blue'])\n",
        "  plt.title(stkey + ' HISTOGRAM')\n",
        "  plt.legend('month 1\\n')\n",
        "  plt.show()\n",
        "  print('\\n')\n",
        "  plt.figure()\n",
        "  plt.hist(clean_dataset5[minmaxkey], color= ['red'])\n",
        "  plt.title(minmaxkey + ' HISTOGRAM')\n",
        "  plt.legend('month 1\\n')\n",
        "  plt.show()\n",
        "  print('--------------------------------------------------\\n\\n')"
      ],
      "metadata": {
        "colab": {
          "base_uri": "https://localhost:8080/",
          "height": 1000
        },
        "id": "eTEmZaJimKCJ",
        "outputId": "db93f0d7-4ed2-482f-8962-cbab33c02ca2"
      },
      "execution_count": 2387,
      "outputs": [
        {
          "output_type": "stream",
          "name": "stdout",
          "text": [
            "DATA_TRAFFIC_MONTH_1 STANDARIZED AND SCALED HISTOGRAMS\n",
            "\n"
          ]
        },
        {
          "output_type": "display_data",
          "data": {
            "text/plain": [
              "<Figure size 432x288 with 1 Axes>"
            ],
            "image/png": "[encoded data removed]"
          },
          "metadata": {
            "needs_background": "light"
          }
        },
        {
          "output_type": "stream",
          "name": "stdout",
          "text": [
            "\n",
            "\n"
          ]
        },
        {
          "output_type": "display_data",
          "data": {
            "text/plain": [
              "<Figure size 432x288 with 1 Axes>"
            ],
            "image/png": "[encoded data removed]"
          },
          "metadata": {
            "needs_background": "light"
          }
        },
        {
          "output_type": "stream",
          "name": "stdout",
          "text": [
            "--------------------------------------------------\n",
            "\n",
            "\n",
            "VOICE_TRAFFIC_MONTH_1 STANDARIZED AND SCALED HISTOGRAMS\n",
            "\n"
          ]
        },
        {
          "output_type": "display_data",
          "data": {
            "text/plain": [
              "<Figure size 432x288 with 1 Axes>"
            ],
            "image/png": "[encoded data removed]"
          },
          "metadata": {
            "needs_background": "light"
          }
        },
        {
          "output_type": "stream",
          "name": "stdout",
          "text": [
            "\n",
            "\n"
          ]
        },
        {
          "output_type": "display_data",
          "data": {
            "text/plain": [
              "<Figure size 432x288 with 1 Axes>"
            ],
            "image/png": "[encoded data removed]"
          },
          "metadata": {
            "needs_background": "light"
          }
        },
        {
          "output_type": "stream",
          "name": "stdout",
          "text": [
            "--------------------------------------------------\n",
            "\n",
            "\n",
            "BILLING_MONTH_1 STANDARIZED AND SCALED HISTOGRAMS\n",
            "\n"
          ]
        },
        {
          "output_type": "display_data",
          "data": {
            "text/plain": [
              "<Figure size 432x288 with 1 Axes>"
            ],
            "image/png": "[encoded data removed]"
          },
          "metadata": {
            "needs_background": "light"
          }
        },
        {
          "output_type": "stream",
          "name": "stdout",
          "text": [
            "\n",
            "\n"
          ]
        },
        {
          "output_type": "display_data",
          "data": {
            "text/plain": [
              "<Figure size 432x288 with 1 Axes>"
            ],
            "image/png": "[encoded data removed]"
          },
          "metadata": {
            "needs_background": "light"
          }
        },
        {
          "output_type": "stream",
          "name": "stdout",
          "text": [
            "--------------------------------------------------\n",
            "\n",
            "\n",
            "DEVICE_COST_MONTH_1 STANDARIZED AND SCALED HISTOGRAMS\n",
            "\n"
          ]
        },
        {
          "output_type": "display_data",
          "data": {
            "text/plain": [
              "<Figure size 432x288 with 1 Axes>"
            ],
            "image/png": "[encoded data removed]"
          },
          "metadata": {
            "needs_background": "light"
          }
        },
        {
          "output_type": "stream",
          "name": "stdout",
          "text": [
            "\n",
            "\n"
          ]
        },
        {
          "output_type": "display_data",
          "data": {
            "text/plain": [
              "<Figure size 432x288 with 1 Axes>"
            ],
            "image/png": "[encoded data removed]"
          },
          "metadata": {
            "needs_background": "light"
          }
        },
        {
          "output_type": "stream",
          "name": "stdout",
          "text": [
            "--------------------------------------------------\n",
            "\n",
            "\n"
          ]
        }
      ]
    },
    {
      "cell_type": "markdown",
      "metadata": {
        "id": "FWIxkFKM36pV"
      },
      "source": [
        "## 2.5. Convert categorical columns to dummy binary variables"
      ]
    },
    {
      "cell_type": "markdown",
      "metadata": {
        "id": "kLfhwnO_36pV"
      },
      "source": [
        "Categorical variables usually need to be transformed into numerical values to apply some machine learning methods.\n",
        "\n",
        "Use [LabelEncoder()](https://scikit-learn.org/stable/modules/generated/sklearn.preprocessing.LabelEncoder.html) to transform a categorical variable to integer values. Example:\n",
        "\n",
        "```python\n",
        "colors_data = [{'color': 'Blue'}, {'color': 'Red'}, {'color': 'Orange'},\n",
        "               {'color': 'Blue'}, {'color': 'Orange'}, {'color': 'Blue'}]\n",
        "colors_df = pd.DataFrame(colors_data, columns=['color'])\n",
        "\n",
        "colors_df['colors_int_encoded'] = LabelEncoder().fit_transform(colors_df['color'])\n",
        "display(colors_df)\n",
        "```\n",
        "\n",
        "<font size=\"-1\" color=\"gray\">(Remove this cell when delivering.)</font>"
      ]
    },
    {
      "cell_type": "markdown",
      "metadata": {
        "id": "FbTmxR7l36pW"
      },
      "source": [
        "<font size=\"+1\" color=\"red\">Create variable **PREVIOUS_DEVICE_MODEL_INT_ENCODED** containing an integer encoding of variable **PREVIOUS_DEVICE_MODEL**.</font>"
      ]
    },
    {
      "cell_type": "code",
      "source": [
        "clean_dataset6 = clean_dataset5\n",
        "\n",
        "clean_dataset6['PREVIOUS_DEVICE_MODEL_INT_ENCODED'] = LabelEncoder().fit_transform(clean_dataset6['PREVIOUS_DEVICE_MODEL'])\n"
      ],
      "metadata": {
        "id": "EzwiDzVWzK2N"
      },
      "execution_count": 2388,
      "outputs": []
    },
    {
      "cell_type": "markdown",
      "metadata": {
        "id": "4pSHPDdb36pW"
      },
      "source": [
        "You can use [get_dummies()](https://pandas.pydata.org/pandas-docs/stable/reference/api/pandas.get_dummies.html) to convert a categorical variable to multiple columns using one-hot encoding. Example:\n",
        "\n",
        "```\n",
        "colors_data = [{'color': 'Blue'}, {'color': 'Red'}, {'color': 'Orange'},\n",
        "               {'color': 'Blue'}, {'color': 'Orange'}, {'color': 'Blue'}]\n",
        "colors_df = pd.DataFrame(colors_data, columns=['color'])\n",
        "\n",
        "color_dummies = pd.get_dummies(colors_df['color'], prefix='color_')\n",
        "colors_df_with_dummies = colors_df.join(color_dummies)\n",
        "display(colors_df_with_dummies)\n",
        "```\n",
        "\n",
        "\n",
        "<font size=\"-1\" color=\"gray\">(Remove this cell when delivering.)</font>"
      ]
    },
    {
      "cell_type": "markdown",
      "metadata": {
        "id": "GY2JzHvY36pX"
      },
      "source": [
        "<font size=\"+1\" color=\"red\">Replace this cell with code to convert **PREVIOUS_DEVICE_BRAND** to dummy binary variables.</font>"
      ]
    },
    {
      "cell_type": "code",
      "source": [
        "device_dummies = pd.get_dummies(clean_dataset6['PREVIOUS_DEVICE_BRAND'], prefix='PREVIOUS_DEVICE_BRAND_')\n",
        "clean_dataset6 = clean_dataset6.join(device_dummies)"
      ],
      "metadata": {
        "id": "MYKadspw3Rn2"
      },
      "execution_count": 2389,
      "outputs": []
    },
    {
      "cell_type": "markdown",
      "metadata": {
        "id": "PHv-jX2Q36pY"
      },
      "source": [
        "## 2.6. Feature generation"
      ]
    },
    {
      "cell_type": "markdown",
      "metadata": {
        "id": "ntXG6dNa36pY"
      },
      "source": [
        "In the current dataset we have a historic of 6 months for data traffic, voice traffic, billing and device cost. Feature generation consists of creating new attributes from the current dataset that can help us to create, e.g., better predictive models.\n",
        "\n",
        "<font size=\"-1\" color=\"gray\">(Remove this cell when delivering.)</font>"
      ]
    },
    {
      "cell_type": "markdown",
      "metadata": {
        "id": "mISXob8u36pa"
      },
      "source": [
        "<font size=\"+1\" color=\"red\">Replace this cell with code to create from the 6 months of **DATA_TRAFFIC\\_MONTH\\_[1-6]**, **VOICE_TRAFFIC\\_MONTH\\_[1-6]**, **BILLING\\_MONTH\\_[1-6]** and **DEVICE_COST\\_MONTH\\_[1-6]**, new columns with the mean, maximum, minimum, range (i.e., difference between maximum and minimum) for each element. For instance, column **DATA_TRAFFIC_MEAN** should contain the average of these six numbers: **DATA_TRAFFIC_MONTH_1**, **DATA_TRAFFIC_MONTH_2**, ..., **DATA_TRAFFIC_MONTH_6**.</font>"
      ]
    },
    {
      "cell_type": "code",
      "source": [
        "clean_dataset7 = clean_dataset6\n",
        "variables = ['DATA_TRAFFIC_', 'VOICE_TRAFFIC_', 'BILLING_', 'DEVICE_COST_']\n",
        "\n",
        "for var in variables:\n",
        "  variable_months = [f'{var}MONTH_{month}' for month in range(1,7)]\n",
        "\n",
        "  clean_dataset7[f'{var}MEAN']  = clean_dataset7[variable_months].mean(axis=1)\n",
        "  clean_dataset7[f'{var}MAX']   = clean_dataset7[variable_months].max(axis=1)\n",
        "  clean_dataset7[f'{var}MIN']   = clean_dataset7[variable_months].min(axis=1)\n",
        "  clean_dataset7[f'{var}RANGE'] = clean_dataset7[f'{var}MAX'] - clean_dataset7[f'{var}MIN']\n",
        "\n"
      ],
      "metadata": {
        "id": "nYRMiJi75ilu"
      },
      "execution_count": 2390,
      "outputs": []
    },
    {
      "cell_type": "markdown",
      "metadata": {
        "id": "o6tW-wbv36pa"
      },
      "source": [
        "<font size=\"+1\" color=\"red\">Replace this cell with code create an additional column **DEVICE_COST_TO_BILLING_RATIO** containing the ratio between **DEVICE_COST_MEAN** and **BILLING_MEAN** and plot its distribution.</font>"
      ]
    },
    {
      "cell_type": "code",
      "source": [
        "clean_dataset7['DEVICE_COST_TO_BILLING_RATIO'] = clean_dataset7['DEVICE_COST_MEAN'] / clean_dataset7['BILLING_MEAN']\n",
        "\n",
        "plt.figure()\n",
        "plt.xlim(0, 6)\n",
        "sns.distplot(clean_dataset7['DEVICE_COST_TO_BILLING_RATIO'], kde=False, color = 'red')\n",
        "plt.title(\"Device Cost to Billing Ratio Histogram\")\n",
        "plt.show()"
      ],
      "metadata": {
        "colab": {
          "base_uri": "https://localhost:8080/",
          "height": 351
        },
        "id": "PubT93AC5jHU",
        "outputId": "7fcebb96-3b96-4741-f670-2e1c77c018dc"
      },
      "execution_count": 2391,
      "outputs": [
        {
          "output_type": "stream",
          "name": "stderr",
          "text": [
            "/usr/local/lib/python3.7/dist-packages/seaborn/distributions.py:2619: FutureWarning: `distplot` is a deprecated function and will be removed in a future version. Please adapt your code to use either `displot` (a figure-level function with similar flexibility) or `histplot` (an axes-level function for histograms).\n",
            "  warnings.warn(msg, FutureWarning)\n"
          ]
        },
        {
          "output_type": "display_data",
          "data": {
            "text/plain": [
              "<Figure size 432x288 with 1 Axes>"
            ],
            "image/png": "[encoded data removed]"
          },
          "metadata": {
            "needs_background": "light"
          }
        }
      ]
    },
    {
      "cell_type": "markdown",
      "metadata": {
        "id": "2cxjFOmT36pa"
      },
      "source": [
        "<font size=\"+1\" color=\"red\">Replace this cell with a brief commentary on the distribution of the variable **DEVICE_COST_TO_BILLING_RATIO**. Can you recognize its distribution?</font>"
      ]
    },
    {
      "cell_type": "markdown",
      "metadata": {
        "id": "d027lums36pa"
      },
      "source": [
        "## 2.7. Text parsing/processing"
      ]
    },
    {
      "cell_type": "markdown",
      "metadata": {
        "id": "UOZqAoO036pb"
      },
      "source": [
        "In machine learning, text processing is a very useful tool that can be used to improve datasets. In some use cases, for instance customer care applications using digital channels as Whatsapp, Facebook, etc..., data scientist teams mainly work with text data.\n",
        "\n",
        "One of the text processing technique is to extract concrete words or tokens from a sentence or documents. Regular expressions are a great tool to extract data trough these patterns.\n",
        "\n",
        "In this dataset, note that **PURCHASED_DEVICE** is a variable that is formed by a \"**device_code**\"+\"**_**\"+\"**manufacture name**\"+\"**  **\"+\"**device model**\". We want to split this variable into its components.\n",
        "\n",
        "Tip: use [str.split](https://pandas.pydata.org/pandas-docs/stable/reference/api/pandas.Series.str.split.html) to separate a string into several parts.\n",
        "\n",
        "<font size=\"-1\" color=\"gray\">(Remove this cell when delivering.)</font>"
      ]
    },
    {
      "cell_type": "markdown",
      "metadata": {
        "id": "XPgnk3AJ36pb"
      },
      "source": [
        "<font size=\"+1\" color=\"red\">Replace this cell with code to use the **PURCHASED_DEVICE** variable to create 3 new columns with the following variables names: **PURCHASED_DEVICE_CODE**, **PURCHASED_DEVICE_MANUFACTURER** and **PURCHASED_DEVICE_MODEL**.</font>"
      ]
    },
    {
      "cell_type": "code",
      "source": [
        "clean_dataset8 = clean_dataset7\n",
        "\n",
        "string = clean_dataset8['PURCHASED_DEVICE'].str.split('_')\n",
        "\n",
        "clean_dataset8['PURCHASED_DEVICE_CODE'] = string.str[0]\n",
        "\n",
        "\n",
        "others = string.str[1]\n",
        "\n",
        "others = others.str.split(' ')\n",
        "clean_dataset8['PURCHASED_DEVICE_MANUFACTURER'] = others.str[0]\n",
        "clean_dataset8['PURCHASED_DEVICE_MODEL'] = others.str[1]"
      ],
      "metadata": {
        "id": "ojReqQyABFC_"
      },
      "execution_count": 2392,
      "outputs": []
    },
    {
      "cell_type": "markdown",
      "metadata": {
        "id": "otJI9aKD36pc"
      },
      "source": [
        "<font size=\"+1\" color=\"red\">Replace this cell with code to create two tables: one with the number of devices per manufacturer in **PURCHASED_DEVICE_MANUFACTURER** and one with the number of devices per manufacturer in  **PREVIOUS_DEVICE_MANUF**."
      ]
    },
    {
      "cell_type": "code",
      "source": [
        "table1 = clean_dataset8.value_counts(clean_dataset8['PURCHASED_DEVICE_MANUFACTURER'])\n",
        "table2 = clean_dataset8.value_counts(clean_dataset8['PREVIOUS_DEVICE_MANUF'])\n",
        "\n",
        "display(table1)\n",
        "print('----')\n",
        "display(table2)"
      ],
      "metadata": {
        "colab": {
          "base_uri": "https://localhost:8080/",
          "height": 399
        },
        "id": "jseMhfJpBGUM",
        "outputId": "23ba2c73-df9d-4bb2-ff89-71a55943b2f2"
      },
      "execution_count": 2393,
      "outputs": [
        {
          "output_type": "display_data",
          "data": {
            "text/plain": [
              "PURCHASED_DEVICE_MANUFACTURER\n",
              "LG          3556\n",
              "SAMSUNG     1094\n",
              "MOTOROLA     630\n",
              "APPLE        448\n",
              "ALCATEL      258\n",
              "ASUS           2\n",
              "dtype: int64"
            ]
          },
          "metadata": {}
        },
        {
          "output_type": "stream",
          "name": "stdout",
          "text": [
            "----\n"
          ]
        },
        {
          "output_type": "display_data",
          "data": {
            "text/plain": [
              "PREVIOUS_DEVICE_MANUF\n",
              "Samsung Korea                              1879\n",
              "Apple Inc                                  1495\n",
              "Motorola Mobility LLC, a Lenovo Company     849\n",
              "LG Electronics Inc.                         506\n",
              "TCL Communication Ltd                       279\n",
              "                                           ... \n",
              "Longconn Electronics (Shenzhen) Co Ltd        1\n",
              "Meizu Technology Co Ltd                       1\n",
              "Motorola                                      1\n",
              "Mundo Reader S.L.                             1\n",
              "u-blox AG                                     1\n",
              "Length: 67, dtype: int64"
            ]
          },
          "metadata": {}
        }
      ]
    },
    {
      "cell_type": "markdown",
      "metadata": {
        "id": "jPKmlpbq36pd"
      },
      "source": [
        "## 2.8. Splitting and sampling a dataset"
      ]
    },
    {
      "cell_type": "markdown",
      "metadata": {
        "id": "bNdJwagc36pd"
      },
      "source": [
        "Splitting and sampling dataset are techniques that distribute the original dataset in n-parts. One of the most interesting application of these tools is to separate the dataset to train and test a machine learning model. Meanwhile sampling guarantees same type of data (i.e. distributions), splitting will separate the dataset with the ratio we need. Usually, 80%-20% or 70%-30% splitting ratios are the most common used.\n",
        "\n",
        "Once again, Sklearn library helps to us to cover this necessity through the function [sklearn.model_selection.train_test_split](https://scikit-learn.org/stable/modules/generated/sklearn.model_selection.train_test_split.html) which splits a dataset into two parts, which usually will be used for training and testing.\n",
        "\n",
        "<font size=\"-1\" color=\"gray\">(Remove this cell when delivering.)</font>"
      ]
    },
    {
      "cell_type": "markdown",
      "metadata": {
        "id": "9tuAFUN_36pe"
      },
      "source": [
        "<font size=\"+1\" color=\"red\">Replace this cell with code to split the dataset in two separate datasets: one with 70% of the rows and the other with 30% of rows</font>"
      ]
    },
    {
      "cell_type": "code",
      "source": [
        "train_dt, test_dt = train_test_split(clean_dataset8.iloc[:, :-1], test_size = 0.3)"
      ],
      "metadata": {
        "id": "8eFO_F0RM_k3"
      },
      "execution_count": 2394,
      "outputs": []
    },
    {
      "cell_type": "markdown",
      "metadata": {
        "id": "2F27QdB736pe"
      },
      "source": [
        "<font size=\"+1\" color=\"red\">Replace this cell with code to compute the main statistics (mean, standard deviation, min, max, 25%, 50%, 75%) for the variables **DATA_TRAFFIC_MONTH_1**, **VOICE_TRAFFIC_MONTH_1** and **BILLING_MONTH_1** in both training and testing parts of the dataset.</font>\n",
        "\n",
        "<font size=\"+1\" color=\"red\">Replace this cell with a brief commentary indicating if you find these statistics match between the two splits, or do not match between them.</font>"
      ]
    },
    {
      "cell_type": "code",
      "source": [
        "variables = ['DATA_TRAFFIC_MONTH_1', 'VOICE_TRAFFIC_MONTH_1' , 'BILLING_MONTH_1']\n",
        "\n",
        "train_stats = compute_stats(train_dt[variables], None)\n",
        "test_stats = compute_stats(test_dt[variables], None)\n",
        "print('\\n\\n----- Train main stats -----\\n')\n",
        "print(train_stats)\n",
        "print('\\n\\n----- Test main stats -----\\n')\n",
        "print(test_stats)"
      ],
      "metadata": {
        "colab": {
          "base_uri": "https://localhost:8080/"
        },
        "id": "QKcyLMHdNnnd",
        "outputId": "3a30d9b6-e57c-4c2f-93c5-3c625ffdeaee"
      },
      "execution_count": 2395,
      "outputs": [
        {
          "output_type": "stream",
          "name": "stdout",
          "text": [
            "\n",
            "\n",
            "----- Train main stats -----\n",
            "\n",
            "       DATA_TRAFFIC_MONTH_1  VOICE_TRAFFIC_MONTH_1  BILLING_MONTH_1\n",
            "count           4191.000000            4191.000000      4191.000000\n",
            "mean            2553.442583             127.791792       100.398812\n",
            "std             5802.594332             200.543396        66.169158\n",
            "min                0.000000               0.000000      -124.490000\n",
            "25%                0.000000               9.300000        64.985000\n",
            "50%              397.891690              61.400002        92.990000\n",
            "75%             2702.853400             165.349995       121.140000\n",
            "max           112421.170000            4113.000000       926.410000\n",
            "\n",
            "\n",
            "----- Test main stats -----\n",
            "\n",
            "       DATA_TRAFFIC_MONTH_1  VOICE_TRAFFIC_MONTH_1  BILLING_MONTH_1\n",
            "count            1797.00000            1797.000000      1797.000000\n",
            "mean             2558.26522             136.980133        97.565058\n",
            "std              5709.31951             199.267850        62.050167\n",
            "min                 0.00000               0.000000      -124.490000\n",
            "25%                 0.00000              11.200000        60.390000\n",
            "50%               326.16754              66.000000        92.950000\n",
            "75%              2715.39090             178.800000       120.990000\n",
            "max             79988.18000            2000.300000       789.400000\n"
          ]
        }
      ]
    },
    {
      "cell_type": "markdown",
      "metadata": {
        "id": "G7bP4iVD36pg"
      },
      "source": [
        "# 3. Comparing iPhone and Samsung J series users"
      ]
    },
    {
      "cell_type": "markdown",
      "metadata": {
        "id": "BKrbDTol36pg"
      },
      "source": [
        "Finally, find some features that are different between users of an Apple iPhone and users of a Samsung J series phone (this includes J410G, J610G, J415G, and all other models by Samsung that start with a *J*).\n",
        "\n",
        "<font size=\"-1\" color=\"gray\">(Remove this cell when delivering.)</font>"
      ]
    },
    {
      "cell_type": "markdown",
      "metadata": {
        "id": "6iuxWlGO36ph"
      },
      "source": [
        "<font size=\"+1\" color=\"red\">Replace this cell with code to create two dataframes: one with all the attributes of Apple iPhone users and one with all the attributes of Samsung J series users.</font>"
      ]
    },
    {
      "cell_type": "code",
      "source": [
        "mask_iphne = (clean_dataset8['PURCHASED_DEVICE_MODEL'] == 'IPHONE')\n",
        "iphone_dt = clean_dataset8.loc[mask_iphne]\n",
        "iphone_dt['target'] = 1\n",
        "\n",
        "mask_smsung = (clean_dataset8['PURCHASED_DEVICE_MANUFACTURER'] == 'SAMSUNG')\n",
        "samsung_dt = clean_dataset8.loc[mask_smsung]\n",
        "samsung_dt['target'] = 0"
      ],
      "metadata": {
        "colab": {
          "base_uri": "https://localhost:8080/"
        },
        "id": "QBjwxCPLPZfW",
        "outputId": "b65e7b61-c0bb-40a7-d078-870ff159a814"
      },
      "execution_count": 2396,
      "outputs": [
        {
          "output_type": "stream",
          "name": "stderr",
          "text": [
            "/usr/local/lib/python3.7/dist-packages/ipykernel_launcher.py:3: SettingWithCopyWarning: \n",
            "A value is trying to be set on a copy of a slice from a DataFrame.\n",
            "Try using .loc[row_indexer,col_indexer] = value instead\n",
            "\n",
            "See the caveats in the documentation: https://pandas.pydata.org/pandas-docs/stable/user_guide/indexing.html#returning-a-view-versus-a-copy\n",
            "  This is separate from the ipykernel package so we can avoid doing imports until\n",
            "/usr/local/lib/python3.7/dist-packages/ipykernel_launcher.py:7: SettingWithCopyWarning: \n",
            "A value is trying to be set on a copy of a slice from a DataFrame.\n",
            "Try using .loc[row_indexer,col_indexer] = value instead\n",
            "\n",
            "See the caveats in the documentation: https://pandas.pydata.org/pandas-docs/stable/user_guide/indexing.html#returning-a-view-versus-a-copy\n",
            "  import sys\n"
          ]
        }
      ]
    },
    {
      "cell_type": "markdown",
      "metadata": {
        "id": "v05q9s9L36pi"
      },
      "source": [
        "<font size=\"+1\" color=\"red\">Replace this cell with code to compare some variables between the two datasets. Consider 2 or 3 variables, plot together the histograms of each variable in both datasets (including a legend).</font>"
      ]
    },
    {
      "cell_type": "code",
      "source": [
        "final_df = pd.concat([iphone_dt, samsung_dt])\n",
        "final_df = final_df.reset_index(drop=True)\n",
        "\n",
        "correl_final = final_df.corr()\n",
        "correl_final = correl_final.sort_values(by=['target'])\n",
        "features_target = correl_final['target']\n",
        "\n",
        "interesting_features = features_target.loc[features_target > 0.18]\n",
        "display(interesting_features)"
      ],
      "metadata": {
        "colab": {
          "base_uri": "https://localhost:8080/",
          "height": 225
        },
        "id": "z8yRaZdhX6AH",
        "outputId": "1e4592ec-3bc7-4f03-f885-2c4596164072"
      },
      "execution_count": 2397,
      "outputs": [
        {
          "output_type": "display_data",
          "data": {
            "text/plain": [
              "DATA_TRAFFIC_MONTH_5                 0.180196\n",
              "BILLING_MIN                          0.185890\n",
              "DATA_TRAFFIC_MAX                     0.187686\n",
              "DATA_TRAFFIC_MONTH_2                 0.198318\n",
              "DATA_TRAFFIC_MIN                     0.199775\n",
              "DATA_TRAFFIC_MONTH_3                 0.201714\n",
              "DATA_TRAFFIC_MEAN                    0.206106\n",
              "PREVIOUS_DEVICE_MODEL_INT_ENCODED    0.284428\n",
              "PREVIOUS_DEVICE_BRAND__Apple         0.448729\n",
              "DEVICE_VALUE                         0.718475\n",
              "target                               1.000000\n",
              "Name: target, dtype: float64"
            ]
          },
          "metadata": {}
        }
      ]
    },
    {
      "cell_type": "code",
      "source": [
        "print('DEVICE VALUE IPHONE VS SAMSUNG\\n')\n",
        "plt.figure()\n",
        "plt.hist(iphone_dt['DEVICE_VALUE'], color= ['green'])\n",
        "plt.title('IPHONE DEVICE_VALUE')\n",
        "plt.show()\n",
        "\n",
        "print('\\n')\n",
        "plt.figure()\n",
        "plt.hist(samsung_dt['DEVICE_VALUE'], color= ['blue'])\n",
        "plt.title('SAMSUNG DEVICE_VALUE')\n",
        "plt.show()"
      ],
      "metadata": {
        "colab": {
          "base_uri": "https://localhost:8080/",
          "height": 614
        },
        "id": "Wi0r3YnRbzvj",
        "outputId": "d4857c84-6e80-4072-d69d-5450531c3275"
      },
      "execution_count": 2398,
      "outputs": [
        {
          "output_type": "stream",
          "name": "stdout",
          "text": [
            "DEVICE VALUE IPHONE VS SAMSUNG\n",
            "\n"
          ]
        },
        {
          "output_type": "display_data",
          "data": {
            "text/plain": [
              "<Figure size 432x288 with 1 Axes>"
            ],
            "image/png": "[encoded data removed]"
          },
          "metadata": {
            "needs_background": "light"
          }
        },
        {
          "output_type": "stream",
          "name": "stdout",
          "text": [
            "\n",
            "\n"
          ]
        },
        {
          "output_type": "display_data",
          "data": {
            "text/plain": [
              "<Figure size 432x288 with 1 Axes>"
            ],
            "image/png": "[encoded data removed]"
          },
          "metadata": {
            "needs_background": "light"
          }
        }
      ]
    },
    {
      "cell_type": "code",
      "source": [
        "print('DATA TRAFFIC MEAN IPHONE VS SAMSUNG\\n')\n",
        "plt.figure()\n",
        "plt.hist(iphone_dt['DATA_TRAFFIC_MEAN'], color= ['green'])\n",
        "plt.title('IPHONE DATA TRAFFIC MEAN')\n",
        "plt.show()\n",
        "\n",
        "print('\\n')\n",
        "plt.figure()\n",
        "plt.hist(samsung_dt['DATA_TRAFFIC_MEAN'], color= ['blue'])\n",
        "plt.title('SAMSUNG DATA TRAFFIC MEAN')\n",
        "plt.show()"
      ],
      "metadata": {
        "colab": {
          "base_uri": "https://localhost:8080/",
          "height": 614
        },
        "id": "nG75iqRGdtHw",
        "outputId": "bb36820c-3ec6-413e-b024-944d0403b9eb"
      },
      "execution_count": 2399,
      "outputs": [
        {
          "output_type": "stream",
          "name": "stdout",
          "text": [
            "DATA TRAFFIC MEAN IPHONE VS SAMSUNG\n",
            "\n"
          ]
        },
        {
          "output_type": "display_data",
          "data": {
            "text/plain": [
              "<Figure size 432x288 with 1 Axes>"
            ],
            "image/png": "[encoded data removed]"
          },
          "metadata": {
            "needs_background": "light"
          }
        },
        {
          "output_type": "stream",
          "name": "stdout",
          "text": [
            "\n",
            "\n"
          ]
        },
        {
          "output_type": "display_data",
          "data": {
            "text/plain": [
              "<Figure size 432x288 with 1 Axes>"
            ],
            "image/png": "[encoded data removed]"
          },
          "metadata": {
            "needs_background": "light"
          }
        }
      ]
    },
    {
      "cell_type": "markdown",
      "metadata": {
        "id": "pNnDMO3d36pi"
      },
      "source": [
        "<font size=\"+1\" color=\"red\">Replace this cell with a brief commentary on the differences you found between these two groups of users.</font>"
      ]
    },
    {
      "cell_type": "markdown",
      "metadata": {
        "id": "_dSEzfIg36pj"
      },
      "source": [
        "# DELIVER (individually)\n",
        "\n",
        "Remember to read the section on \"delivering your code\" in the [course evaluation guidelines](https://github.com/chatox/data-mining-course/blob/master/upf/upf-evaluation.md).\n",
        "\n",
        "Deliver a zip file containing:\n",
        "\n",
        "* This notebook\n",
        "\n",
        "## Extra points available\n",
        "\n",
        "For more learning and extra points, remember what you learned in machine learning and create a simple [decision tree model](https://scikit-learn.org/stable/modules/tree.html) having as input variables:\n",
        "\n",
        "1. PREVIOUS\\_DEVICE\\_MODEL\n",
        "1. PREVIOUS\\_DEVICE\\_BRAND\n",
        "1. MONTHS\\_LAST\\_DEVICE\n",
        "\n",
        "And as output variable `PURCHASED_DEVICE_MANUFACTURER`. Measure the accuracy of this 3-variables model. Then, add two more variables, of your own choice, that improve the classification accuracy. Measure the accuracy of this 5-variables model.\n",
        "\n",
        "\n",
        "**Note:** if you go for the extra points, add ``<font size=\"+2\" color=\"blue\">Additional results: model purchased device</font>`` at the top of your notebook.\n",
        "\n",
        "<font size=\"-1\" color=\"gray\">(Remove this cell when delivering.)</font>"
      ]
    },
    {
      "cell_type": "markdown",
      "metadata": {
        "id": "1YUfDql236pk"
      },
      "source": [
        "<font size=\"+2\" color=\"#003300\">I hereby declare that, except for the code provided by the course instructors, all of my code, report, and figures were produced by myself.</font>"
      ]
    }
  ],
  "metadata": {
    "kernelspec": {
      "display_name": "Python 3",
      "language": "python",
      "name": "python3"
    },
    "language_info": {
      "codemirror_mode": {
        "name": "ipython",
        "version": 3
      },
      "file_extension": ".py",
      "mimetype": "text/x-python",
      "name": "python",
      "nbconvert_exporter": "python",
      "pygments_lexer": "ipython3",
      "version": "3.8.10"
    },
    "colab": {
      "provenance": [],
      "collapsed_sections": [
        "6wZ5hRAW36pO",
        "memePa0336pS",
        "FWIxkFKM36pV",
        "PHv-jX2Q36pY",
        "d027lums36pa",
        "jPKmlpbq36pd"
      ]
    }
  },
  "nbformat": 4,
  "nbformat_minor": 0
}