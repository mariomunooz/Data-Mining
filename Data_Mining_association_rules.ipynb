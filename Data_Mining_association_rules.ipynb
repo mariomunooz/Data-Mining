{
  "cells": [
    {
      "cell_type": "markdown",
      "metadata": {
        "id": "p3VUD-fRI4Dt"
      },
      "source": [
        "# Practice Session 04: Basket analysis"
      ]
    },
    {
      "cell_type": "markdown",
      "metadata": {
        "id": "k-Dn2zJeI4Dv"
      },
      "source": [
        "Author: <font color=\"white\">Mario Muñoz Serrano</font>\n",
        "\n",
        "Date: <font color=\"white\">21/10/2022</font>"
      ]
    },
    {
      "cell_type": "code",
      "source": [
        "!pip install apyori"
      ],
      "metadata": {
        "colab": {
          "base_uri": "https://localhost:8080/"
        },
        "id": "xUP6wWn1BQLE",
        "outputId": "87f243ac-05cc-476e-bee5-71f3c4a95dfe"
      },
      "execution_count": null,
      "outputs": [
        {
          "output_type": "stream",
          "name": "stdout",
          "text": [
            "Looking in indexes: https://pypi.org/simple, https://us-python.pkg.dev/colab-wheels/public/simple/\n",
            "Requirement already satisfied: apyori in /usr/local/lib/python3.7/dist-packages (1.1.2)\n"
          ]
        }
      ]
    },
    {
      "cell_type": "code",
      "execution_count": null,
      "metadata": {
        "id": "o6_7r9hiI4Dw"
      },
      "outputs": [],
      "source": [
        "import numpy as np  \n",
        "import matplotlib.pyplot as plt  \n",
        "import pandas as pd  \n",
        "import csv\n",
        "import gzip\n",
        "from apyori import apriori"
      ]
    },
    {
      "cell_type": "markdown",
      "metadata": {
        "id": "2mSoUKInI4Dz"
      },
      "source": [
        "# 1. Playing with apyori"
      ]
    },
    {
      "cell_type": "code",
      "execution_count": null,
      "metadata": {
        "id": "_VODqbDtI4D0"
      },
      "outputs": [],
      "source": [
        "# LEAVE AS-IS\n",
        "\n",
        "def print_apyori_output (association_results, info=False, info_key=False):\n",
        "    for relation_record in association_results:\n",
        "        itemset = list(relation_record.items)\n",
        "        \n",
        "        # Consider only itemsets of two elements\n",
        "        if len(itemset) > 1: \n",
        "        \n",
        "            print(\"Rules involving itemset %s\" % itemset)\n",
        "            support = relation_record.support\n",
        "\n",
        "            for rules in relation_record.ordered_statistics:\n",
        "                antecedent = list(rules.items_base)\n",
        "                consequent = list(rules.items_add)\n",
        "                \n",
        "                if info_key:\n",
        "                    antecedent = [info.loc[x][info_key] for x in antecedent]\n",
        "                    consequent = [info.loc[x][info_key] for x in consequent]\n",
        "                \n",
        "                confidence = rules.confidence\n",
        "                lift = rules.lift\n",
        "\n",
        "                print(\"%s => %s (support=%.4f, confidence=%.2f, lift=%.2f)\" %\n",
        "                      (antecedent, consequent, support, confidence, lift))\n",
        "            print()"
      ]
    },
    {
      "cell_type": "code",
      "source": [
        "def get_transactions(url):\n",
        "    clean = pd.read_csv(url, sep=';')\n",
        "\n",
        "    clean.drop(clean.tail(1).index,inplace=True)\n",
        "\n",
        "\n",
        "    transactions = []\n",
        "\n",
        "    for index in clean.index:\n",
        "        row = clean.iloc[index,:]\n",
        "        private_num = row['Privat o concertat']\n",
        "        public_num = row['Public']\n",
        "\n",
        "        for student in range(private_num):\n",
        "            transaction = []\n",
        "            transaction.extend((row['Universitat'], row['Grau'], 'Private_School'))\n",
        "            \n",
        "\n",
        "\n",
        "            transactions.append(transaction)\n",
        "\n",
        "\n",
        "        for student in range(public_num):\n",
        "            transaction = []\n",
        "            transaction.extend((row['Universitat'], row['Grau'], 'Public_School'))\n",
        "            \n",
        "\n",
        "\n",
        "            transactions.append(transaction)\n",
        "            \n",
        "    return transactions"
      ],
      "metadata": {
        "id": "nWLgH-qktsxt"
      },
      "execution_count": null,
      "outputs": []
    },
    {
      "cell_type": "code",
      "source": [
        "# Data obtained from\n",
        "# La segregació invisible de les universitats. (s/f). Crític. Retrived 21 of octubre of 2022, \n",
        "# from https://www.elcritic.cat/dades/la-segregacio-invisible-de-les-universitats-112209\n",
        "\n",
        "\n",
        "transactions = get_transactions('https://raw.githubusercontent.com/mariomunooz/data/main/KW9FwtY9.csv')"
      ],
      "metadata": {
        "id": "0tCnnBJIuYwO"
      },
      "execution_count": null,
      "outputs": []
    },
    {
      "cell_type": "code",
      "source": [
        "results = list(apriori(transactions, min_support=(800/len(transactions)), min_confidence=0.75, min_lift=20.0))\n",
        "\n",
        "print_apyori_output(results)"
      ],
      "metadata": {
        "colab": {
          "base_uri": "https://localhost:8080/"
        },
        "id": "4X8MYZK6MUme",
        "outputId": "fd0524fc-dae2-487b-80bc-877d2b10970a"
      },
      "execution_count": null,
      "outputs": [
        {
          "output_type": "stream",
          "name": "stdout",
          "text": [
            "Rules involving itemset ['Criminologia i Polítiques Públiques de Prevenció', 'Public_School', 'UPF']\n",
            "['Criminologia i Polítiques Públiques de Prevenció'] => ['Public_School', 'UPF'] (support=0.0019, confidence=0.89, lift=23.55)\n",
            "\n",
            "Rules involving itemset ['Enginyeria Matemàtica en Ciència de Dades / Mathematical Engineering on Data Science', 'Public_School', 'UPF']\n",
            "['Enginyeria Matemàtica en Ciència de Dades / Mathematical Engineering on Data Science'] => ['Public_School', 'UPF'] (support=0.0016, confidence=0.98, lift=26.00)\n",
            "\n",
            "Rules involving itemset ['UPF', 'Private_School', 'Estudis Globals / Global Studies']\n",
            "['Estudis Globals / Global Studies'] => ['UPF', 'Private_School'] (support=0.0016, confidence=0.98, lift=20.46)\n",
            "\n"
          ]
        }
      ]
    },
    {
      "cell_type": "code",
      "source": [
        "def compute_suport(transactions, A, print_flag):\n",
        "  transactions_containing_A = 0\n",
        "  \n",
        "  for transaction in transactions:\n",
        "\n",
        "    if all(x in transaction for x in A):\n",
        "      transactions_containing_A += 1\n",
        "\n",
        "  support = round(transactions_containing_A/len(transactions), 4)\n",
        "\n",
        "  if print_flag:\n",
        "    print(f'Support({A}) = (Transactions containing ({A}))/(Total Transactions)')\n",
        "    print(f'Support({A}) = ({transactions_containing_A})/({len(transactions)}) = {support} \\n')\n",
        "\n",
        "  return support"
      ],
      "metadata": {
        "id": "eGI3EHOJZCrb"
      },
      "execution_count": null,
      "outputs": []
    },
    {
      "cell_type": "code",
      "source": [
        "def compute_confidence(transactions, A, B, print_flag):\n",
        "\n",
        "  transactions_containing_A_and_B = 0\n",
        "  transactions_containing_A = 0\n",
        "\n",
        "\n",
        "\n",
        "  for transaction in transactions:\n",
        "    if all(x in transaction for x in A) and all(y in transaction for y in B):\n",
        "        transactions_containing_A_and_B += 1\n",
        "    \n",
        "    if all(x in transaction for x in A):\n",
        "      transactions_containing_A += 1\n",
        "\n",
        "  confidence = round(transactions_containing_A_and_B/transactions_containing_A, 2)\n",
        "\n",
        "  if print_flag:\n",
        "    print(f'Confidence({A}-> {B}) = (Transactions containing ({A} and {B}))/Transactions containing ({A})')\n",
        "    print(f'Confidence({A}-> {B}) = ({transactions_containing_A_and_B})/({transactions_containing_A}) = {confidence} \\n')\n",
        "\n",
        "  return confidence\n"
      ],
      "metadata": {
        "id": "gmHza7Qy1UAx"
      },
      "execution_count": null,
      "outputs": []
    },
    {
      "cell_type": "code",
      "source": [
        "def computations(transactions, A, B):\n",
        "  print('SUPPORT')\n",
        "  supportA = compute_suport(transactions, A, True)\n",
        "  supportB = compute_suport(transactions, B, False)\n",
        "  print('CONFIDENCE')\n",
        "  confidence = compute_confidence(transactions, A, B, True)\n",
        "  print('LIFT')\n",
        "\n",
        "\n",
        "  print(f'Lift({A}->{B}) = (Confidence ({A}->{B}))/(Support ({B}))')\n",
        "  print(f'Lift({A}->{B}) = ( ({round(confidence/ supportB, 4)})\\n')"
      ],
      "metadata": {
        "id": "rR-UH06q8rPy"
      },
      "execution_count": null,
      "outputs": []
    },
    {
      "cell_type": "code",
      "source": [
        "computations(transactions, ['Enginyeria Matemàtica en Ciència de Dades / Mathematical Engineering on Data Science'], ['Public_School', 'UPF'])\n",
        "computations(transactions, ['Estudis Globals / Global Studies'], ['UPF', 'Private_School'])\n",
        "computations(transactions, ['Criminologia i Polítiques Públiques de Prevenció'], ['Public_School', 'UPF'])"
      ],
      "metadata": {
        "colab": {
          "base_uri": "https://localhost:8080/"
        },
        "id": "VJcFwn1vvuU2",
        "outputId": "9d7c11e9-36b6-42cf-f67e-edc0eca80d73"
      },
      "execution_count": null,
      "outputs": [
        {
          "output_type": "stream",
          "name": "stdout",
          "text": [
            "SUPPORT\n",
            "Support(['Enginyeria Matemàtica en Ciència de Dades / Mathematical Engineering on Data Science']) = (Transactions containing (['Enginyeria Matemàtica en Ciència de Dades / Mathematical Engineering on Data Science']))/(Total Transactions)\n",
            "Support(['Enginyeria Matemàtica en Ciència de Dades / Mathematical Engineering on Data Science']) = (3774)/(2309420) = 0.0016 \n",
            "\n",
            "CONFIDENCE\n",
            "Confidence(['Enginyeria Matemàtica en Ciència de Dades / Mathematical Engineering on Data Science']-> ['Public_School', 'UPF']) = (Transactions containing (['Enginyeria Matemàtica en Ciència de Dades / Mathematical Engineering on Data Science'] and ['Public_School', 'UPF']))/Transactions containing (['Enginyeria Matemàtica en Ciència de Dades / Mathematical Engineering on Data Science'])\n",
            "Confidence(['Enginyeria Matemàtica en Ciència de Dades / Mathematical Engineering on Data Science']-> ['Public_School', 'UPF']) = (3714)/(3774) = 0.98 \n",
            "\n",
            "LIFT\n",
            "Lift(['Enginyeria Matemàtica en Ciència de Dades / Mathematical Engineering on Data Science']->['Public_School', 'UPF']) = (Confidence (['Enginyeria Matemàtica en Ciència de Dades / Mathematical Engineering on Data Science']->['Public_School', 'UPF']))/(Support (['Public_School', 'UPF']))\n",
            "Lift(['Enginyeria Matemàtica en Ciència de Dades / Mathematical Engineering on Data Science']->['Public_School', 'UPF']) = (Confidence (25.9259)\n",
            "\n",
            "SUPPORT\n",
            "Support(['Estudis Globals / Global Studies']) = (Transactions containing (['Estudis Globals / Global Studies']))/(Total Transactions)\n",
            "Support(['Estudis Globals / Global Studies']) = (3774)/(2309420) = 0.0016 \n",
            "\n",
            "CONFIDENCE\n",
            "Confidence(['Estudis Globals / Global Studies']-> ['UPF', 'Private_School']) = (Transactions containing (['Estudis Globals / Global Studies'] and ['UPF', 'Private_School']))/Transactions containing (['Estudis Globals / Global Studies'])\n",
            "Confidence(['Estudis Globals / Global Studies']-> ['UPF', 'Private_School']) = (3714)/(3774) = 0.98 \n",
            "\n",
            "LIFT\n",
            "Lift(['Estudis Globals / Global Studies']->['UPF', 'Private_School']) = (Confidence (['Estudis Globals / Global Studies']->['UPF', 'Private_School']))/(Support (['UPF', 'Private_School']))\n",
            "Lift(['Estudis Globals / Global Studies']->['UPF', 'Private_School']) = (Confidence (20.3742)\n",
            "\n",
            "SUPPORT\n",
            "Support(['Criminologia i Polítiques Públiques de Prevenció']) = (Transactions containing (['Criminologia i Polítiques Públiques de Prevenció']))/(Total Transactions)\n",
            "Support(['Criminologia i Polítiques Públiques de Prevenció']) = (4851)/(2309420) = 0.0021 \n",
            "\n",
            "CONFIDENCE\n",
            "Confidence(['Criminologia i Polítiques Públiques de Prevenció']-> ['Public_School', 'UPF']) = (Transactions containing (['Criminologia i Polítiques Públiques de Prevenció'] and ['Public_School', 'UPF']))/Transactions containing (['Criminologia i Polítiques Públiques de Prevenció'])\n",
            "Confidence(['Criminologia i Polítiques Públiques de Prevenció']-> ['Public_School', 'UPF']) = (4324)/(4851) = 0.89 \n",
            "\n",
            "LIFT\n",
            "Lift(['Criminologia i Polítiques Públiques de Prevenció']->['Public_School', 'UPF']) = (Confidence (['Criminologia i Polítiques Públiques de Prevenció']->['Public_School', 'UPF']))/(Support (['Public_School', 'UPF']))\n",
            "Lift(['Criminologia i Polítiques Públiques de Prevenció']->['Public_School', 'UPF']) = (Confidence (23.545)\n",
            "\n"
          ]
        }
      ]
    },
    {
      "cell_type": "markdown",
      "metadata": {
        "id": "XrFyWAbNI4D2"
      },
      "source": [
        "# 2. Load and prepare the shopping baskets"
      ]
    },
    {
      "cell_type": "code",
      "execution_count": null,
      "metadata": {
        "id": "ntrFaq7qI4D3",
        "outputId": "bbdf1876-0085-4ffb-c0a9-e6d27800c71d",
        "colab": {
          "base_uri": "https://localhost:8080/",
          "height": 455
        }
      },
      "outputs": [
        {
          "output_type": "execute_result",
          "data": {
            "text/plain": [
              "                                                 product_name  department_id\n",
              "product_id                                                                  \n",
              "1                                  Chocolate Sandwich Cookies             19\n",
              "2                                            All-Seasons Salt             13\n",
              "3                        Robust Golden Unsweetened Oolong Tea              7\n",
              "4           Smart Ones Classic Favorites Mini Rigatoni Wit...              1\n",
              "5                                   Green Chile Anytime Sauce             13\n",
              "...                                                       ...            ...\n",
              "96                    Sprinklez Confetti Fun Organic Toppings             13\n",
              "97                                Organic Chamomile Lemon Tea              7\n",
              "98                                  2% Yellow American Cheese             16\n",
              "99                                Local Living Butter Lettuce              4\n",
              "100                   Peanut Butter & Strawberry Jam Sandwich              1\n",
              "\n",
              "[100 rows x 2 columns]"
            ],
            "text/html": [
              "\n",
              "  <div id=\"df-37093bbd-4e90-4ab5-af82-e52507191843\">\n",
              "    <div class=\"colab-df-container\">\n",
              "      <div>\n",
              "<style scoped>\n",
              "    .dataframe tbody tr th:only-of-type {\n",
              "        vertical-align: middle;\n",
              "    }\n",
              "\n",
              "    .dataframe tbody tr th {\n",
              "        vertical-align: top;\n",
              "    }\n",
              "\n",
              "    .dataframe thead th {\n",
              "        text-align: right;\n",
              "    }\n",
              "</style>\n",
              "<table border=\"1\" class=\"dataframe\">\n",
              "  <thead>\n",
              "    <tr style=\"text-align: right;\">\n",
              "      <th></th>\n",
              "      <th>product_name</th>\n",
              "      <th>department_id</th>\n",
              "    </tr>\n",
              "    <tr>\n",
              "      <th>product_id</th>\n",
              "      <th></th>\n",
              "      <th></th>\n",
              "    </tr>\n",
              "  </thead>\n",
              "  <tbody>\n",
              "    <tr>\n",
              "      <th>1</th>\n",
              "      <td>Chocolate Sandwich Cookies</td>\n",
              "      <td>19</td>\n",
              "    </tr>\n",
              "    <tr>\n",
              "      <th>2</th>\n",
              "      <td>All-Seasons Salt</td>\n",
              "      <td>13</td>\n",
              "    </tr>\n",
              "    <tr>\n",
              "      <th>3</th>\n",
              "      <td>Robust Golden Unsweetened Oolong Tea</td>\n",
              "      <td>7</td>\n",
              "    </tr>\n",
              "    <tr>\n",
              "      <th>4</th>\n",
              "      <td>Smart Ones Classic Favorites Mini Rigatoni Wit...</td>\n",
              "      <td>1</td>\n",
              "    </tr>\n",
              "    <tr>\n",
              "      <th>5</th>\n",
              "      <td>Green Chile Anytime Sauce</td>\n",
              "      <td>13</td>\n",
              "    </tr>\n",
              "    <tr>\n",
              "      <th>...</th>\n",
              "      <td>...</td>\n",
              "      <td>...</td>\n",
              "    </tr>\n",
              "    <tr>\n",
              "      <th>96</th>\n",
              "      <td>Sprinklez Confetti Fun Organic Toppings</td>\n",
              "      <td>13</td>\n",
              "    </tr>\n",
              "    <tr>\n",
              "      <th>97</th>\n",
              "      <td>Organic Chamomile Lemon Tea</td>\n",
              "      <td>7</td>\n",
              "    </tr>\n",
              "    <tr>\n",
              "      <th>98</th>\n",
              "      <td>2% Yellow American Cheese</td>\n",
              "      <td>16</td>\n",
              "    </tr>\n",
              "    <tr>\n",
              "      <th>99</th>\n",
              "      <td>Local Living Butter Lettuce</td>\n",
              "      <td>4</td>\n",
              "    </tr>\n",
              "    <tr>\n",
              "      <th>100</th>\n",
              "      <td>Peanut Butter &amp; Strawberry Jam Sandwich</td>\n",
              "      <td>1</td>\n",
              "    </tr>\n",
              "  </tbody>\n",
              "</table>\n",
              "<p>100 rows × 2 columns</p>\n",
              "</div>\n",
              "      <button class=\"colab-df-convert\" onclick=\"convertToInteractive('df-37093bbd-4e90-4ab5-af82-e52507191843')\"\n",
              "              title=\"Convert this dataframe to an interactive table.\"\n",
              "              style=\"display:none;\">\n",
              "        \n",
              "  <svg xmlns=\"http://www.w3.org/2000/svg\" height=\"24px\"viewBox=\"0 0 24 24\"\n",
              "       width=\"24px\">\n",
              "    <path d=\"M0 0h24v24H0V0z\" fill=\"none\"/>\n",
              "    <path d=\"M18.56 5.44l.94 2.06.94-2.06 2.06-.94-2.06-.94-.94-2.06-.94 2.06-2.06.94zm-11 1L8.5 8.5l.94-2.06 2.06-.94-2.06-.94L8.5 2.5l-.94 2.06-2.06.94zm10 10l.94 2.06.94-2.06 2.06-.94-2.06-.94-.94-2.06-.94 2.06-2.06.94z\"/><path d=\"M17.41 7.96l-1.37-1.37c-.4-.4-.92-.59-1.43-.59-.52 0-1.04.2-1.43.59L10.3 9.45l-7.72 7.72c-.78.78-.78 2.05 0 2.83L4 21.41c.39.39.9.59 1.41.59.51 0 1.02-.2 1.41-.59l7.78-7.78 2.81-2.81c.8-.78.8-2.07 0-2.86zM5.41 20L4 18.59l7.72-7.72 1.47 1.35L5.41 20z\"/>\n",
              "  </svg>\n",
              "      </button>\n",
              "      \n",
              "  <style>\n",
              "    .colab-df-container {\n",
              "      display:flex;\n",
              "      flex-wrap:wrap;\n",
              "      gap: 12px;\n",
              "    }\n",
              "\n",
              "    .colab-df-convert {\n",
              "      background-color: #E8F0FE;\n",
              "      border: none;\n",
              "      border-radius: 50%;\n",
              "      cursor: pointer;\n",
              "      display: none;\n",
              "      fill: #1967D2;\n",
              "      height: 32px;\n",
              "      padding: 0 0 0 0;\n",
              "      width: 32px;\n",
              "    }\n",
              "\n",
              "    .colab-df-convert:hover {\n",
              "      background-color: #E2EBFA;\n",
              "      box-shadow: 0px 1px 2px rgba(60, 64, 67, 0.3), 0px 1px 3px 1px rgba(60, 64, 67, 0.15);\n",
              "      fill: #174EA6;\n",
              "    }\n",
              "\n",
              "    [theme=dark] .colab-df-convert {\n",
              "      background-color: #3B4455;\n",
              "      fill: #D2E3FC;\n",
              "    }\n",
              "\n",
              "    [theme=dark] .colab-df-convert:hover {\n",
              "      background-color: #434B5C;\n",
              "      box-shadow: 0px 1px 3px 1px rgba(0, 0, 0, 0.15);\n",
              "      filter: drop-shadow(0px 1px 2px rgba(0, 0, 0, 0.3));\n",
              "      fill: #FFFFFF;\n",
              "    }\n",
              "  </style>\n",
              "\n",
              "      <script>\n",
              "        const buttonEl =\n",
              "          document.querySelector('#df-37093bbd-4e90-4ab5-af82-e52507191843 button.colab-df-convert');\n",
              "        buttonEl.style.display =\n",
              "          google.colab.kernel.accessAllowed ? 'block' : 'none';\n",
              "\n",
              "        async function convertToInteractive(key) {\n",
              "          const element = document.querySelector('#df-37093bbd-4e90-4ab5-af82-e52507191843');\n",
              "          const dataTable =\n",
              "            await google.colab.kernel.invokeFunction('convertToInteractive',\n",
              "                                                     [key], {});\n",
              "          if (!dataTable) return;\n",
              "\n",
              "          const docLinkHtml = 'Like what you see? Visit the ' +\n",
              "            '<a target=\"_blank\" href=https://colab.research.google.com/notebooks/data_table.ipynb>data table notebook</a>'\n",
              "            + ' to learn more about interactive tables.';\n",
              "          element.innerHTML = '';\n",
              "          dataTable['output_type'] = 'display_data';\n",
              "          await google.colab.output.renderOutput(dataTable, element);\n",
              "          const docLink = document.createElement('div');\n",
              "          docLink.innerHTML = docLinkHtml;\n",
              "          element.appendChild(docLink);\n",
              "        }\n",
              "      </script>\n",
              "    </div>\n",
              "  </div>\n",
              "  "
            ]
          },
          "metadata": {},
          "execution_count": 60
        }
      ],
      "source": [
        "# LEAVE AS-IS\n",
        "\n",
        "# File names\n",
        "# Products data in https://github.com/chatox/data-mining-course/tree/master/practicum/data/instacart\n",
        "INPUT_PRODUCTS = \"instacart-products.csv\"\n",
        "INPUT_TRANSACTIONS = \"instacart-transactions.csv.gz\"\n",
        "\n",
        "# Read into a dataframe\n",
        "products = pd.read_csv(INPUT_PRODUCTS, delimiter=\",\")\n",
        "\n",
        "# Set product_id as index, and drop column aisle_id\n",
        "products = products.set_index('product_id').drop(columns=['aisle_id'])\n",
        "\n",
        "products.head(100)"
      ]
    },
    {
      "cell_type": "markdown",
      "metadata": {
        "id": "ZmOl83yGI4D3"
      },
      "source": [
        "## 2.1. Select by department"
      ]
    },
    {
      "cell_type": "code",
      "execution_count": null,
      "metadata": {
        "id": "OON5fLVrI4D4"
      },
      "outputs": [],
      "source": [
        "# LEAVE AS-IS\n",
        "\n",
        "DEPT_BAKERY = 3\n",
        "DEPT_VEGGIES = 4\n",
        "DEPT_ALCOHOL = 5\n",
        "DEPT_WORLD = 6\n",
        "DEPT_DRINKS = 7\n",
        "DEPT_PETS = 8\n",
        "DEPT_PHARMACY = 11\n",
        "DEPT_CLEANING = 17\n",
        "DEPT_BABIES = 18"
      ]
    },
    {
      "cell_type": "code",
      "source": [
        "# select_from_departments that takes as input:\n",
        "# \n",
        "#     A dataframe containing product information, which will be the products dataframe we just loaded.\n",
        "#     A list of product ids\n",
        "#     A list of department ids\n",
        "# \n",
        "# It should return a list containing only the product ids that belong to one of the listed departments. \n",
        "# This may return an empty list if no product belongs to any of the specified departments.\n",
        "\n",
        "def select_from_departments(products_df, product_ids_list, deparment_ids_list, print_flag):\n",
        "  input_products = products_df.loc[product_ids_list]\n",
        "  selected_products = input_products[input_products.department_id.isin(deparment_ids_list)]\n",
        "\n",
        "  selected_products_list = selected_products.index.values.tolist()\n",
        "\n",
        "  if (print_flag):\n",
        "    print(f'Test case:\\n{product_ids_list}\\n\\n\\nInput products:')\n",
        "\n",
        "    for i in input_products.index.values.tolist():\n",
        "      row = input_products.loc[i]\n",
        "      print(f'{i} {row[\"product_name\"]} (dept {row[\"department_id\"]})')\n",
        "\n",
        "\n",
        "    print(f'\\n\\nSelcted products:\\n\\n')\n",
        "\n",
        "    for i in selected_products.index.values.tolist():\n",
        "      row = selected_products.loc[i]\n",
        "      print(f'{i} {row[\"product_name\"]} (dept {row[\"department_id\"]})')\n",
        "\n",
        "\n",
        "  return selected_products_list\n"
      ],
      "metadata": {
        "id": "83ibCyeMBqdu"
      },
      "execution_count": null,
      "outputs": []
    },
    {
      "cell_type": "code",
      "source": [
        "b = select_from_departments(products, [21, 26, 45, 54, 57, 71, 111, 112], [8,17], True)"
      ],
      "metadata": {
        "colab": {
          "base_uri": "https://localhost:8080/"
        },
        "id": "hxmHB5IYIJgR",
        "outputId": "9a1a8b14-abc4-4eca-d315-77b30e78ee86"
      },
      "execution_count": null,
      "outputs": [
        {
          "output_type": "stream",
          "name": "stdout",
          "text": [
            "Test case:\n",
            "[21, 26, 45, 54, 57, 71, 111, 112]\n",
            "\n",
            "\n",
            "Input products:\n",
            "21 Small & Medium Dental Dog Treats (dept 8)\n",
            "26 Fancy Feast Trout Feast Flaked Wet Cat Food (dept 8)\n",
            "45 European Cucumber (dept 4)\n",
            "54 24/7 Performance Cat Litter (dept 8)\n",
            "57 Flat Toothpicks (dept 17)\n",
            "71 Ultra 7 Inch Polypropylene Traditional Plates (dept 17)\n",
            "111 Fabric Softener, Geranium Scent (dept 17)\n",
            "112 Hot Tomatillo Salsa (dept 13)\n",
            "\n",
            "\n",
            "Selcted products:\n",
            "\n",
            "\n",
            "21 Small & Medium Dental Dog Treats (dept 8)\n",
            "26 Fancy Feast Trout Feast Flaked Wet Cat Food (dept 8)\n",
            "54 24/7 Performance Cat Litter (dept 8)\n",
            "57 Flat Toothpicks (dept 17)\n",
            "71 Ultra 7 Inch Polypropylene Traditional Plates (dept 17)\n",
            "111 Fabric Softener, Geranium Scent (dept 17)\n"
          ]
        }
      ]
    },
    {
      "cell_type": "markdown",
      "metadata": {
        "id": "81DTSZgXI4D6"
      },
      "source": [
        "## 2.2. Read and filter transactions"
      ]
    },
    {
      "cell_type": "code",
      "source": [
        "from IPython.core.interactiveshell import traceback\n",
        "th = 5000\n",
        "\n",
        "transactions = []\n",
        "c = 0\n",
        "# Open a compressed file\n",
        "with gzip.open(INPUT_TRANSACTIONS, \"rt\") as inputfile:\n",
        "\n",
        "    # Create a CSV reader\n",
        "    reader = csv.reader(inputfile, delimiter=\",\")\n",
        "\n",
        "    # Iterate through the CSV file\n",
        "    for row in reader:\n",
        "\n",
        "        # Convert to integers\n",
        "        items = [int(x) for x in row]\n",
        "\n",
        "        filtered_t = select_from_departments(products, items, [DEPT_CLEANING], False)\n",
        "        if filtered_t:\n",
        "          transactions.append(filtered_t)\n",
        "          \n",
        "\n",
        "        \n",
        "        c += 1\n",
        "        if(c % 1000 == 0): print(f'{c} transactions readed {len(transactions)} of transactions stored')\n",
        "\n",
        "        if len(transactions) > th:\n",
        "          break\n"
      ],
      "metadata": {
        "colab": {
          "base_uri": "https://localhost:8080/"
        },
        "id": "KfXpD5ZEMl4q",
        "outputId": "5e492473-21dc-4cfc-8157-3adb305990ee"
      },
      "execution_count": null,
      "outputs": [
        {
          "output_type": "stream",
          "name": "stdout",
          "text": [
            "1000 transactions readed 158 of transactions stored\n",
            "2000 transactions readed 311 of transactions stored\n",
            "3000 transactions readed 460 of transactions stored\n",
            "4000 transactions readed 598 of transactions stored\n",
            "5000 transactions readed 745 of transactions stored\n",
            "6000 transactions readed 902 of transactions stored\n",
            "7000 transactions readed 1067 of transactions stored\n",
            "8000 transactions readed 1206 of transactions stored\n",
            "9000 transactions readed 1373 of transactions stored\n",
            "10000 transactions readed 1515 of transactions stored\n",
            "11000 transactions readed 1670 of transactions stored\n",
            "12000 transactions readed 1807 of transactions stored\n",
            "13000 transactions readed 1951 of transactions stored\n",
            "14000 transactions readed 2102 of transactions stored\n",
            "15000 transactions readed 2245 of transactions stored\n",
            "16000 transactions readed 2384 of transactions stored\n",
            "17000 transactions readed 2543 of transactions stored\n",
            "18000 transactions readed 2692 of transactions stored\n",
            "19000 transactions readed 2840 of transactions stored\n",
            "20000 transactions readed 2974 of transactions stored\n",
            "21000 transactions readed 3125 of transactions stored\n",
            "22000 transactions readed 3267 of transactions stored\n",
            "23000 transactions readed 3407 of transactions stored\n",
            "24000 transactions readed 3578 of transactions stored\n",
            "25000 transactions readed 3748 of transactions stored\n",
            "26000 transactions readed 3891 of transactions stored\n",
            "27000 transactions readed 4028 of transactions stored\n",
            "28000 transactions readed 4164 of transactions stored\n",
            "29000 transactions readed 4304 of transactions stored\n",
            "30000 transactions readed 4421 of transactions stored\n",
            "31000 transactions readed 4560 of transactions stored\n",
            "32000 transactions readed 4700 of transactions stored\n",
            "33000 transactions readed 4837 of transactions stored\n",
            "34000 transactions readed 4974 of transactions stored\n"
          ]
        }
      ]
    },
    {
      "cell_type": "markdown",
      "metadata": {
        "id": "sVEZl_ANI4D6"
      },
      "source": [
        "## 2.3. Extract association rules and comment on them (DEPT_CLEANING)"
      ]
    },
    {
      "cell_type": "code",
      "source": [
        "total_number_of_transactions = th\n",
        "results = list(apriori(transactions, min_support= 3/total_number_of_transactions, min_confidence=0.5, min_lift=10.0))\n",
        "print_apyori_output(results, products, 'product_name')"
      ],
      "metadata": {
        "colab": {
          "base_uri": "https://localhost:8080/"
        },
        "id": "TO_C9GB7_-j2",
        "outputId": "f4439c9d-8ba1-42ce-c7c1-be00c285f5b8"
      },
      "execution_count": null,
      "outputs": [
        {
          "output_type": "stream",
          "name": "stdout",
          "text": [
            "Rules involving itemset [15341, 717]\n",
            "['Sweeper Dry Sweeping Refills'] => ['Sweeper Open Window Fresh Scent Wet Mopping Cloths Refill'] (support=0.0008, confidence=0.50, lift=192.35)\n",
            "\n",
            "Rules involving itemset [37835, 13516]\n",
            "['Chlorine Free Versatile Stain Remover'] => ['Laundry Stain Remover Spray'] (support=0.0008, confidence=0.57, lift=317.52)\n",
            "\n",
            "Rules involving itemset [18229, 21653]\n",
            "['Plastic Knives'] => ['Compostable Forks'] (support=0.0008, confidence=1.00, lift=250.05)\n",
            "\n"
          ]
        }
      ]
    },
    {
      "cell_type": "markdown",
      "source": [
        "I would make the following recomendations to the users, if someone buys:\n",
        "\n",
        " \n",
        "\n",
        "*   Sweeper Dry Sweeping Refills. Do you want also: Sweeper Open Window Fresh Scent Wet Mopping Cloths Refill?\n",
        "*   Chlorine Free Versatile Stain Remover. Do you want also: Laundry Stain Remover Spray?\n",
        "*   Plastic Knives. Do you want also: Compostable Forks?\n",
        "\n"
      ],
      "metadata": {
        "id": "S-HMxUKwCFCF"
      }
    },
    {
      "cell_type": "markdown",
      "metadata": {
        "id": "Hbi1SbMfI4D8"
      },
      "source": [
        "## 2.4. Extract association rules and comment on them (other departments)"
      ]
    },
    {
      "cell_type": "code",
      "source": [
        "transactions = []\n",
        "c = 0\n",
        "# Open a compressed file\n",
        "with gzip.open(INPUT_TRANSACTIONS, \"rt\") as inputfile:\n",
        "\n",
        "    # Create a CSV reader\n",
        "    reader = csv.reader(inputfile, delimiter=\",\")\n",
        "\n",
        "    # Iterate through the CSV file\n",
        "    for row in reader:\n",
        "\n",
        "        # Convert to integers\n",
        "        items = [int(x) for x in row]\n",
        "\n",
        "        filtered_t = select_from_departments(products, items, [DEPT_PHARMACY, DEPT_BABIES], False)\n",
        "        if filtered_t:\n",
        "          transactions.append(filtered_t)\n",
        "          \n",
        "\n",
        "        \n",
        "        c += 1\n",
        "        if(c % 1000 == 0): print(f'{c} transactions readed {len(transactions)} of transactions stored')\n",
        "\n",
        "        if len(transactions) > th:\n",
        "          break"
      ],
      "metadata": {
        "colab": {
          "base_uri": "https://localhost:8080/"
        },
        "id": "OZbySeWzNSSZ",
        "outputId": "b3e68abc-7dd2-4093-8471-4aad5212ed7b"
      },
      "execution_count": null,
      "outputs": [
        {
          "output_type": "stream",
          "name": "stdout",
          "text": [
            "1000 transactions readed 149 of transactions stored\n",
            "2000 transactions readed 316 of transactions stored\n",
            "3000 transactions readed 467 of transactions stored\n",
            "4000 transactions readed 619 of transactions stored\n",
            "5000 transactions readed 774 of transactions stored\n",
            "6000 transactions readed 911 of transactions stored\n",
            "7000 transactions readed 1065 of transactions stored\n",
            "8000 transactions readed 1195 of transactions stored\n",
            "9000 transactions readed 1348 of transactions stored\n",
            "10000 transactions readed 1530 of transactions stored\n",
            "11000 transactions readed 1688 of transactions stored\n",
            "12000 transactions readed 1824 of transactions stored\n",
            "13000 transactions readed 1983 of transactions stored\n",
            "14000 transactions readed 2149 of transactions stored\n",
            "15000 transactions readed 2306 of transactions stored\n",
            "16000 transactions readed 2457 of transactions stored\n",
            "17000 transactions readed 2588 of transactions stored\n",
            "18000 transactions readed 2734 of transactions stored\n",
            "19000 transactions readed 2862 of transactions stored\n",
            "20000 transactions readed 3039 of transactions stored\n",
            "21000 transactions readed 3207 of transactions stored\n",
            "22000 transactions readed 3349 of transactions stored\n",
            "23000 transactions readed 3479 of transactions stored\n",
            "24000 transactions readed 3639 of transactions stored\n",
            "25000 transactions readed 3794 of transactions stored\n",
            "26000 transactions readed 3967 of transactions stored\n",
            "27000 transactions readed 4113 of transactions stored\n",
            "28000 transactions readed 4259 of transactions stored\n",
            "29000 transactions readed 4413 of transactions stored\n",
            "30000 transactions readed 4562 of transactions stored\n",
            "31000 transactions readed 4711 of transactions stored\n",
            "32000 transactions readed 4864 of transactions stored\n"
          ]
        }
      ]
    },
    {
      "cell_type": "code",
      "source": [
        "results = list(apriori(transactions, min_support= 10/total_number_of_transactions, min_confidence=0.6, min_lift=10.0))\n",
        "print_apyori_output(results, products, 'product_name')"
      ],
      "metadata": {
        "colab": {
          "base_uri": "https://localhost:8080/"
        },
        "id": "jQw81wVcRs0l",
        "outputId": "3932b843-accf-4e55-de35-08bca1589081"
      },
      "execution_count": null,
      "outputs": [
        {
          "output_type": "stream",
          "name": "stdout",
          "text": [
            "Rules involving itemset [32018, 38141]\n",
            "['Fiber & Protein Organic Pears, Raspberries, Butternut Squash & Carrots Snack'] => ['Organic Fiber & Protein Pear Blueberry & Spinach Baby Food'] (support=0.0034, confidence=0.77, lift=107.34)\n",
            "\n",
            "Rules involving itemset [32018, 45495]\n",
            "['Pear Kiwi & Kale Baby Food'] => ['Organic Fiber & Protein Pear Blueberry & Spinach Baby Food'] (support=0.0034, confidence=0.71, lift=98.40)\n",
            "\n",
            "Rules involving itemset [32018, 38141, 45495]\n",
            "['Organic Fiber & Protein Pear Blueberry & Spinach Baby Food', 'Fiber & Protein Organic Pears, Raspberries, Butternut Squash & Carrots Snack'] => ['Pear Kiwi & Kale Baby Food'] (support=0.0022, confidence=0.65, lift=134.83)\n",
            "['Organic Fiber & Protein Pear Blueberry & Spinach Baby Food', 'Pear Kiwi & Kale Baby Food'] => ['Fiber & Protein Organic Pears, Raspberries, Butternut Squash & Carrots Snack'] (support=0.0022, confidence=0.65, lift=147.09)\n",
            "['Fiber & Protein Organic Pears, Raspberries, Butternut Squash & Carrots Snack', 'Pear Kiwi & Kale Baby Food'] => ['Organic Fiber & Protein Pear Blueberry & Spinach Baby Food'] (support=0.0022, confidence=1.00, lift=138.92)\n",
            "\n"
          ]
        }
      ]
    },
    {
      "cell_type": "markdown",
      "source": [
        "I would make the following recomendations to the users, if someone buys:\n",
        "*    ['Fiber & Protein Organic Pears, Raspberries, Butternut Squash & Carrots Snack']. Do you want also: ['Organic Fiber & Protein Pear Blueberry & Spinach Baby Food']\n",
        "*    ['Pear Kiwi & Kale Baby Food']. Do you want also: ['Organic Fiber & Protein Pear Blueberry & Spinach Baby Food']\n",
        "*    ['Organic Fiber & Protein Pear Blueberry & Spinach Baby Food', 'Fiber & Protein Organic Pears, Raspberries, Butternut Squash & Carrots Snack']. Do you want also: ['Pear Kiwi & Kale Baby Food']\n",
        "*    ['Organic Fiber & Protein Pear Blueberry & Spinach Baby Food', 'Pear Kiwi & Kale Baby Food']. Do you want also: ['Fiber & Protein Organic Pears, Raspberries, Butternut Squash & Carrots Snack']"
      ],
      "metadata": {
        "id": "v3RtPWKHFlJd"
      }
    }
  ],
  "metadata": {
    "kernelspec": {
      "display_name": "Python 3",
      "language": "python",
      "name": "python3"
    },
    "language_info": {
      "codemirror_mode": {
        "name": "ipython",
        "version": 3
      },
      "file_extension": ".py",
      "mimetype": "text/x-python",
      "name": "python",
      "nbconvert_exporter": "python",
      "pygments_lexer": "ipython3",
      "version": "3.8.10"
    },
    "colab": {
      "provenance": []
    }
  },
  "nbformat": 4,
  "nbformat_minor": 0
}