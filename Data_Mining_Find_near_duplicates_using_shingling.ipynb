{
  "cells": [
    {
      "cell_type": "markdown",
      "metadata": {
        "id": "J78pEDkLHnnJ"
      },
      "source": [
        "# Practice Session 03: Find near-duplicates using shingling"
      ]
    },
    {
      "cell_type": "markdown",
      "metadata": {
        "id": "wnTfRJvAHnnM"
      },
      "source": [
        "Author: <font color=\"white\">Mario Muñoz Serrano</font>\n",
        "\n",
        "Date: <font color=\"white\">03/10/2022</font>"
      ]
    },
    {
      "cell_type": "code",
      "execution_count": null,
      "metadata": {
        "id": "czTD2-nWHnnO"
      },
      "outputs": [],
      "source": [
        "import io\n",
        "import json\n",
        "import gzip\n",
        "import re\n",
        "import random\n",
        "import numpy as np\n",
        "import matplotlib.pyplot as plt\n",
        "from timeit import default_timer as timer\n",
        "import datetime"
      ]
    },
    {
      "cell_type": "code",
      "execution_count": null,
      "metadata": {
        "colab": {
          "base_uri": "https://localhost:8080/"
        },
        "id": "R5atDY8DHnnO",
        "outputId": "1017652b-29d6-4c09-cd24-8163843be760"
      },
      "outputs": [
        {
          "output_type": "stream",
          "name": "stdout",
          "text": [
            "Read 10000 documents\n"
          ]
        }
      ],
      "source": [
        "# Input file (Can be found in https://github.com/chatox/data-mining-course/blob/master/practicum/data/covid-lockdown-catalonia/CovidLockdownCatalonia.json.gz?raw=true)\n",
        "INPUT_FILENAME = \"CovidLockdownCatalonia.json.gz\"\n",
        "\n",
        "# Array for storing messages\n",
        "messages = []\n",
        "MAX_MESSAGES = 10000\n",
        "\n",
        "with gzip.open(INPUT_FILENAME, \"rt\", encoding=\"utf-8\") as input_file:\n",
        "    \n",
        "    messages_read = 0\n",
        "    for line in input_file:\n",
        "            \n",
        "        # Read message\n",
        "        tweet = json.loads(line)\n",
        "\n",
        "        # Keep only messages in Catalan\n",
        "        if tweet[\"lang\"] == \"ca\":\n",
        "            \n",
        "            messages_read += 1\n",
        "            \n",
        "            if messages_read <= MAX_MESSAGES:\n",
        "                author = tweet[\"user\"][\"screen_name\"]\n",
        "                message = tweet[\"full_text\"]\n",
        "                messages.append(message)\n",
        "\n",
        "print(\"Read %d documents\" % len(messages))"
      ]
    },
    {
      "cell_type": "markdown",
      "metadata": {
        "id": "r4mEGsAWHnnP"
      },
      "source": [
        "# 1. Auxiliary functions"
      ]
    },
    {
      "cell_type": "code",
      "source": [
        "# Jaccard similarity between two lists: the size of the intersection of two sets, divided by the size of their union\n",
        "def jaccard_similarity(array1, array2):\n",
        "\n",
        "  set1 = set(array1)\n",
        "  set2 = set(array2)\n",
        "\n",
        "  union = set2.union(set1)\n",
        "  intersection = set2.intersection(set1)\n",
        "\n",
        "  empty = (len(union) == 0) & (len(intersection) == 0)\n",
        "\n",
        "  if not empty:\n",
        "    jaccard_index = len(intersection)/len(union)\n",
        "\n",
        "    return jaccard_index\n",
        "  \n",
        "  return 0"
      ],
      "metadata": {
        "id": "8FrZDAmBdGqi"
      },
      "execution_count": null,
      "outputs": []
    },
    {
      "cell_type": "code",
      "source": [
        "#code to test our function. Our tests cases should be:\n",
        "#\n",
        "#    Two arrays for which the jaccard similarity is 0.6666...\n",
        "#    Two arrays for which the jaccard similarity is 0.75\n",
        "#    Two arrays for which the jaccard similarity is 1.0\n",
        "#    Two empty arrays should have jaccard similarity 0.0\n",
        "\n",
        "def test_jaccard():\n",
        "  a = [1, 2, 3, 4]\n",
        "  b = [1, 2, 3, 5]\n",
        "  c = [1, 2, 3]\n",
        "  d = []\n",
        "\n",
        "  pairs = [[a, a], [a, b], [b, c], [d,d]]\n",
        "\n",
        "  for pair in pairs:\n",
        "    print(f'For arrays a = {pair[0]} and b = {pair[1]} their jaccard similarity is: {jaccard_similarity(pair[0], pair[1])}')\n",
        "\n",
        "\n",
        "test_jaccard()"
      ],
      "metadata": {
        "colab": {
          "base_uri": "https://localhost:8080/"
        },
        "id": "X49RZX1xf1-Q",
        "outputId": "74a4fc20-9709-474f-8ad4-21f4d78f3686"
      },
      "execution_count": null,
      "outputs": [
        {
          "output_type": "stream",
          "name": "stdout",
          "text": [
            "For arrays a = [1, 2, 3, 4] and b = [1, 2, 3, 4] their jaccard similarity is: 1.0\n",
            "For arrays a = [1, 2, 3, 4] and b = [1, 2, 3, 5] their jaccard similarity is: 0.6\n",
            "For arrays a = [1, 2, 3, 5] and b = [1, 2, 3] their jaccard similarity is: 0.75\n",
            "For arrays a = [] and b = [] their jaccard similarity is: 0\n"
          ]
        }
      ]
    },
    {
      "cell_type": "code",
      "source": [
        "#clean: cleans-up text according to this specification:\n",
        "#\n",
        "#    Removing \"RT \" prefixes\n",
        "#    Converting to lowercase\n",
        "#    Romanizing text, replacing \"Ñ\" by \"n\", \"ñ\" by \"n\", \"ó\" by \"o\", \"à\" by \"a\", \"l·l\" by \"ll\", and so on.\n",
        "#    Removing URLs, both \"http\" and \"https\" ones.\n",
        "#    Removing spaces at the beginning and spaces at the end with the strip() function.\n",
        "#    Removing anything that remains that is not a letter or digit\n",
        "#    Changing double spaces to single spaces.\n",
        "\n",
        "def clean(string):\n",
        "\n",
        "  if 'RT @' in string: \n",
        "    string = string.split('RT @')\n",
        "    string = string[1]\n",
        "  \n",
        "  string = string.lower()\n",
        "\n",
        "  string = re.sub('(https?://[^\\s]+)', '', string)\n",
        "  string = re.sub('https', '', string)\n",
        "  string = re.sub('http', '', string)\n",
        "\n",
        "  romanizing_mapping = [ [u'[áàâäãå]', 'a'], [u'[éèêë]', 'e'], [u'[íìîï]', 'i'], [u'[óòôöõ]', 'o'], [u'[úùûü]', 'u'], [u'[ñ]', 'n'], [u'[çčć]', 'c'], [u'[ýÿ]', 'y'] ]\n",
        "\n",
        "  for mapping in romanizing_mapping:\n",
        "    string = re.sub(mapping[0], mapping[1], string)\n",
        "\n",
        "  string = re.sub(r'[^a-zA-Z0-9 ]', '', string)\n",
        "\n",
        "  string = \" \".join(string.split())\n",
        "  \n",
        "  return string.strip()"
      ],
      "metadata": {
        "id": "pmJOX8Gtr82c"
      },
      "execution_count": null,
      "outputs": []
    },
    {
      "cell_type": "code",
      "source": [
        "# Test oour function by passing it five different texts including punctuation, non-Roman characters, URLs, etc. \n",
        "\n",
        "sample = [messages[i] for i in range(10)]\n",
        "c = 1\n",
        "for i in sample:\n",
        "  print(f'TWEET {c}\\n-NOT CLEANED:\\n\\t{i}\\n-CLEANED:\\n\\t{clean(i)}\\n-------------------------')\n",
        "  c += 1"
      ],
      "metadata": {
        "colab": {
          "base_uri": "https://localhost:8080/"
        },
        "id": "CIr-4GMEkU8n",
        "outputId": "f4fa265f-1c3e-4cf6-df57-e09cf2dc2eeb"
      },
      "execution_count": null,
      "outputs": [
        {
          "output_type": "stream",
          "name": "stdout",
          "text": [
            "TWEET 1\n",
            "-NOT CLEANED:\n",
            "\tRT @aramateix: La gestió del telèfon d'atenció 061 depèn de Ferrovial. La decisió del @govern NO modifica això. La gent no pagarà de manera…\n",
            "-CLEANED:\n",
            "\taramateix la gestio del telefon datencio 061 depen de ferrovial la decisio del govern no modifica aixo la gent no pagara de manera\n",
            "-------------------------\n",
            "TWEET 2\n",
            "-NOT CLEANED:\n",
            "\tRT @Totbadalona: 🦠Els restaurants han de reduir el seu aforament en un 66% per garantir la seguretat davant del coronavirus #Badalona https…\n",
            "-CLEANED:\n",
            "\ttotbadalona els restaurants han de reduir el seu aforament en un 66 per garantir la seguretat davant del coronavirus badalona\n",
            "-------------------------\n",
            "TWEET 3\n",
            "-NOT CLEANED:\n",
            "\tRT @XSalaimartin: Fa temps que sabem que aquest tal Garcia-Page és un miserable. Però amb això se supera fins i tot a sí mateix. https://t.…\n",
            "-CLEANED:\n",
            "\txsalaimartin fa temps que sabem que aquest tal garciapage es un miserable pero amb aixo se supera fins i tot a si mateix\n",
            "-------------------------\n",
            "TWEET 4\n",
            "-NOT CLEANED:\n",
            "\tRT @marctarinmarti: 2. La transmissió de la #COVID19 és per gotes. Per tant, raó de més de recloure's a casa si presenteu tos, febre, mucos…\n",
            "-CLEANED:\n",
            "\tmarctarinmarti 2 la transmissio de la covid19 es per gotes per tant rao de mes de recloures a casa si presenteu tos febre mucos\n",
            "-------------------------\n",
            "TWEET 5\n",
            "-NOT CLEANED:\n",
            "\tRT @MACanadell: Heu vist algun ministre danès, corea, itàlia o xinès plorant en roda de premsa pel #COVID19 ?\n",
            "\n",
            "No. Perquè els ministres no…\n",
            "-CLEANED:\n",
            "\tmacanadell heu vist algun ministre danes corea italia o xines plorant en roda de premsa pel covid19 no perque els ministres no\n",
            "-------------------------\n",
            "TWEET 6\n",
            "-NOT CLEANED:\n",
            "\tRT @angeliufus: Test #COVID19 a TOTA la població ja i AÏLLAMENT, som a dies de 2248 casos i q morin 150 pers AL DIA com AHIR a Itàlia. “Acc…\n",
            "-CLEANED:\n",
            "\tangeliufus test covid19 a tota la poblacio ja i aillament som a dies de 2248 casos i q morin 150 pers al dia com ahir a italia acc\n",
            "-------------------------\n",
            "TWEET 7\n",
            "-NOT CLEANED:\n",
            "\tRT @FincaSantaMarga: Sou uns irresponsables i uns fanàtics. En uns moments així... i només pensant en collonades. Perquè aquest tall ara ma…\n",
            "-CLEANED:\n",
            "\tfincasantamarga sou uns irresponsables i uns fanatics en uns moments aixi i nomes pensant en collonades perque aquest tall ara ma\n",
            "-------------------------\n",
            "TWEET 8\n",
            "-NOT CLEANED:\n",
            "\tRT @VilaWeb: [EN DIRECTE] Comença el confinament d’Igualada i tres municipis més pel brot de la Covid-19  https://t.co/AaRxRc0Wwp\n",
            "-CLEANED:\n",
            "\tvilaweb en directe comenca el confinament digualada i tres municipis mes pel brot de la covid19\n",
            "-------------------------\n",
            "TWEET 9\n",
            "-NOT CLEANED:\n",
            "\tRT @VilaWeb: Coronavirus: és l’hora de treure la part millor de nosaltres I Editorial de @vpartal https://t.co/BitMIGtRJY\n",
            "-CLEANED:\n",
            "\tvilaweb coronavirus es lhora de treure la part millor de nosaltres i editorial de vpartal\n",
            "-------------------------\n",
            "TWEET 10\n",
            "-NOT CLEANED:\n",
            "\tRT @elsquissos: Ens en sortirem! #COVID19. Però tenim un dubte! 🤔\n",
            "En cas de confinament, podríeu informar-nos dels permisos o del què cal f…\n",
            "-CLEANED:\n",
            "\telsquissos ens en sortirem covid19 pero tenim un dubte en cas de confinament podrieu informarnos dels permisos o del que cal f\n",
            "-------------------------\n"
          ]
        }
      ]
    },
    {
      "cell_type": "markdown",
      "metadata": {
        "id": "iBdugHbgHnnV"
      },
      "source": [
        "# 2. Implement an n-gram extractor"
      ]
    },
    {
      "cell_type": "code",
      "source": [
        "# The only words you must consider in a ngram are words having at least MIN_TOKEN_LENGTH characters.\n",
        "\n",
        "MIN_TOKEN_LENGTH = 2\n",
        "\n",
        "\n",
        "# ngrams(text,size), which should produce all sub-sequences of size words present in the text\n",
        "def ngrams(text, size):\n",
        "    tokens = clean(text).split()\n",
        "\n",
        "    # your code here\n",
        "    tokens = [token for token in tokens if len(token) >= MIN_TOKEN_LENGTH]\n",
        "    ngrams = [\" \".join(tokens[i:i+size]) for i in range(len(tokens)-(size-1))]\n",
        "      \n",
        "    return ngrams"
      ],
      "metadata": {
        "id": "OzYOhWZgEcOc"
      },
      "execution_count": null,
      "outputs": []
    },
    {
      "cell_type": "code",
      "source": [
        "# code testing function \"ngrams\"\n",
        "print(messages[9780])\n",
        "print(ngrams(messages[9780], 2))"
      ],
      "metadata": {
        "colab": {
          "base_uri": "https://localhost:8080/"
        },
        "id": "UD5I5j34JkT7",
        "outputId": "1fcfe2ab-22ae-4072-f5bc-94650e190206"
      },
      "execution_count": null,
      "outputs": [
        {
          "output_type": "stream",
          "name": "stdout",
          "text": [
            "RT @diariARA: Comerciants xinesos donen mascaretes i gel antisèptic a Badalona per lluitar contra el coronavirus https://t.co/ybYXFxphIu\n",
            "['diariara comerciants', 'comerciants xinesos', 'xinesos donen', 'donen mascaretes', 'mascaretes gel', 'gel antiseptic', 'antiseptic badalona', 'badalona per', 'per lluitar', 'lluitar contra', 'contra el', 'el coronavirus']\n"
          ]
        }
      ]
    },
    {
      "cell_type": "markdown",
      "metadata": {
        "id": "zqXneF6iHnnW"
      },
      "source": [
        "# 3. Estimation for brute force method"
      ]
    },
    {
      "cell_type": "code",
      "execution_count": null,
      "metadata": {
        "id": "wQnlS-XfHnnX"
      },
      "outputs": [],
      "source": [
        "# computes the time it takes to compare all first limit messages against all first limit messages in the array.\n",
        "\n",
        "# LEAVE AS-IS\n",
        "\n",
        "def time_brute_force_similarities(messages, limit, ngram_size):\n",
        "    if limit > len(messages):\n",
        "        raise ValueError(\"Limit should be less than or equal than the number of messages\")\n",
        "        \n",
        "    # Start a timer\n",
        "    start = timer()\n",
        "\n",
        "    # Iterate through document identifiers\n",
        "    for docid1 in range(np.min([len(messages), limit])):\n",
        "\n",
        "        # Clean document 1 and extract ngrams\n",
        "        doc1 = clean(messages[docid1])\n",
        "        ngrams1 = ngrams(doc1, ngram_size)\n",
        "\n",
        "        # Iterate through document identifiers larger than doc2\n",
        "        for docid2 in range(docid1+1, np.min([len(messages), limit])):\n",
        "                         \n",
        "            # Clean document 2 and extract ngrams\n",
        "            doc2 = clean(messages[docid2])\n",
        "            ngrams2 = ngrams(doc2, ngram_size)\n",
        "\n",
        "            # Compute similarity\n",
        "            similarity = jaccard_similarity(ngrams1, ngrams2)\n",
        "\n",
        "    end = timer()\n",
        "    return(end - start)"
      ]
    },
    {
      "cell_type": "code",
      "source": [
        "# Use the function above to create a plot in which you have in the x axis the number of messages to check, \n",
        "# and in the y axis the time it takes to check that many messages if we use ngrams of size 3. \n",
        "# Try with x from 1 to 2001 in increments of 150 (use the range function).\n",
        "\n",
        "\n",
        "m_num = []\n",
        "time = []\n",
        "\n",
        "for i in range(1, 2001, 150):\n",
        "  m_num.append(i)\n",
        "  time.append(time_brute_force_similarities(messages, i, 3))\n",
        "    \n",
        "\n",
        "plt.plot(m_num, time)\n",
        "plt.title('Brute force similarities performance\\n')\n",
        "plt.xlabel('Number of messages to check')\n",
        "plt.ylabel('time spent (seconds)')\n",
        "plt.show()"
      ],
      "metadata": {
        "colab": {
          "base_uri": "https://localhost:8080/",
          "height": 310
        },
        "id": "kf1cmNq4TgmX",
        "outputId": "9d2fb21c-2515-4b61-ae6f-1be3d1ceda9b"
      },
      "execution_count": null,
      "outputs": [
        {
          "output_type": "display_data",
          "data": {
            "text/plain": [
              "<Figure size 432x288 with 1 Axes>"
            ],
            "image/png": "[encoded data removed]"
          },
          "metadata": {
            "needs_background": "light"
          }
        }
      ]
    },
    {
      "cell_type": "markdown",
      "source": [
        "In the plot we can see that the time runs exponentially as the number of messages grow. So the time it takes to check all the messages is.\n",
        "\n",
        "- seconds: e^((log(20)/3)*40)\n",
        "- minutes: (e^((log(20)/3)*40)) / 60\n",
        "- hours: (e^((log(20)/3)*40)) / 60^2"
      ],
      "metadata": {
        "id": "qiijzNsV5yOf"
      }
    },
    {
      "cell_type": "markdown",
      "metadata": {
        "id": "p382-EHOHnnY"
      },
      "source": [
        "# 4. Computing the doc-ngram matrix"
      ]
    },
    {
      "cell_type": "markdown",
      "metadata": {
        "id": "bUyi5nX6HnnZ"
      },
      "source": [
        "## 4.1 Create list of all ngrams"
      ]
    },
    {
      "cell_type": "code",
      "source": [
        "# Implement code to create:\n",
        "# \n",
        "#     the dictionary ngram_to_index, which should convert an ngram to an index (a row number),\n",
        "#     the dictionary index_to_ngram, which should convert an index to an ngram, and\n",
        "#     the variable num_distinct_ngrams which should contain the number of distinct ngrams.\n",
        "\n",
        "NGRAM_SIZE = 3\n",
        "\n",
        "ngram_to_index = {}\n",
        "index_to_ngram = {}\n",
        "next_index = 0\n",
        "stored = set()\n",
        "\n",
        "\n",
        "for message in messages:\n",
        "    all_ngrams = ngrams(message, NGRAM_SIZE)\n",
        "\n",
        "    if len(clean(message).split()) > NGRAM_SIZE:\n",
        "        for ngram in all_ngrams:\n",
        "            \n",
        "            if not ngram in stored:\n",
        "              \n",
        "              stored.add(ngram)\n",
        "              ngram_to_index[ngram] = next_index\n",
        "              index_to_ngram[next_index] = ngram\n",
        "              next_index += 1\n",
        "\n",
        "\n",
        "        \n",
        "\n",
        "num_distinct_ngrams = next_index\n",
        "\n",
        "print(\"There are %d distinct ngrams in the %d documents\" % (num_distinct_ngrams, len(messages)))"
      ],
      "metadata": {
        "colab": {
          "base_uri": "https://localhost:8080/"
        },
        "id": "a2yc1yEYf5uv",
        "outputId": "7a7a07ac-2fc5-43d4-d173-c414dfa9c1fe"
      },
      "execution_count": null,
      "outputs": [
        {
          "output_type": "stream",
          "name": "stdout",
          "text": [
            "There are 67013 distinct ngrams in the 10000 documents\n"
          ]
        }
      ]
    },
    {
      "cell_type": "code",
      "source": [
        "# Test your function by printing the ngram_to_index of the strings \"tancat escoles fins\" and \"garantir la seguretat\". \n",
        "# The exact index varies, depending on how you clean() text. Then, print the index_to_ngram of the returned index, \n",
        "# and should give you the same string.\n",
        "\n",
        "strings = ['tancat escoles fins', 'garantir la seguretat']\n",
        "\n",
        "for string in strings:\n",
        "  index = ngram_to_index[string]\n",
        "\n",
        "  print(f\"The index of {string} is: {ngram_to_index[string]}\")\n",
        "  print(f\"The ngram in index {index} is: {index_to_ngram[index]}\")\n",
        "  print('--')"
      ],
      "metadata": {
        "colab": {
          "base_uri": "https://localhost:8080/"
        },
        "id": "c_poUG8dNoxw",
        "outputId": "7ff03b7f-2372-49af-816d-86c9cf3399c2"
      },
      "execution_count": null,
      "outputs": [
        {
          "output_type": "stream",
          "name": "stdout",
          "text": [
            "The index of tancat escoles fins is: 938\n",
            "The ngram in index 938 is: tancat escoles fins\n",
            "--\n",
            "The index of garantir la seguretat is: 34\n",
            "The ngram in index 34 is: garantir la seguretat\n",
            "--\n"
          ]
        }
      ]
    },
    {
      "cell_type": "markdown",
      "metadata": {
        "id": "xbc-s8NLHnna"
      },
      "source": [
        "## 4.2 Create table ngrams x documents"
      ]
    },
    {
      "cell_type": "code",
      "execution_count": null,
      "metadata": {
        "colab": {
          "base_uri": "https://localhost:8080/"
        },
        "id": "2ysl9Lw5Hnna",
        "outputId": "9983facd-de02-4ba7-f75d-a093cf175439"
      },
      "outputs": [
        {
          "output_type": "stream",
          "name": "stdout",
          "text": [
            "Matrix dimensions: 67013 rows (distinct shingles) x 10000 columns (distinct documents)\n"
          ]
        }
      ],
      "source": [
        "# The next code creates an empty matrix. Leave as-is. If you run out of memory, limit the number of documents \n",
        "# you read at the beginning of this file, for instance, read only the first 10,000 or the first 7,000 documents, \n",
        "# and then try again.\n",
        "\n",
        "\n",
        "# LEAVE AS-IS\n",
        "\n",
        "# Create dense matrix in which every cell contains the value \"False\"\n",
        "M_ngram_doc = np.full((num_distinct_ngrams, len(messages)), False)\n",
        "\n",
        "# Print the number of rows and columns of this matrix\n",
        "# numpy.matrix.shape is a tuple, shape[0] is the number of rows, shape[1] the number of columns\n",
        "print(\"Matrix dimensions: %d rows (distinct shingles) x %d columns (distinct documents)\" % M_ngram_doc.shape)"
      ]
    },
    {
      "cell_type": "code",
      "source": [
        "# Complete the matrix M_ngram_doc so that position i, j (row, column) holds a True if document j contains ngram i, otherwise holds False\n",
        "\n",
        "for docid in range(len(messages)):\n",
        "    message = messages[docid]\n",
        "    all_ngrams = ngrams(message, NGRAM_SIZE)\n",
        "    if len(clean(message).split()) > NGRAM_SIZE:\n",
        "        for ngram in all_ngrams:\n",
        "            # replace this comment with your code\n",
        "            \n",
        "            index = ngram_to_index[ngram]\n",
        "            M_ngram_doc[index][docid] = True"
      ],
      "metadata": {
        "id": "y702gvuNPEwi"
      },
      "execution_count": null,
      "outputs": []
    },
    {
      "cell_type": "code",
      "source": [
        "# Measure the density of this matrix, as a percentage. \n",
        "# This is the number of non-zeroes in the matrix as a percentage of the number of cells of the matrix.\n",
        "print(f'The density of the matrix is {round((M_ngram_doc.sum()/M_ngram_doc.size)*100, 3)}%')"
      ],
      "metadata": {
        "colab": {
          "base_uri": "https://localhost:8080/"
        },
        "id": "7ayGkcjUbIYr",
        "outputId": "f13c3d68-8051-4f20-c356-965be8063712"
      },
      "execution_count": null,
      "outputs": [
        {
          "output_type": "stream",
          "name": "stdout",
          "text": [
            "The density of the matrix is 0.023%\n"
          ]
        }
      ]
    },
    {
      "cell_type": "code",
      "source": [
        "# printing rows 9602 and 941 of the M_ngram_doc matrix\n",
        "\n",
        "docids = [9602, 941]\n",
        "\n",
        "for docid in docids:\n",
        "    print(f'Positions of non-zeros in column of docid {docid} of M_ngram_doc\\n')\n",
        "    print(f'Clean message:\\n  {clean(messages[docid])}\\n')\n",
        "    print('Non-zeros in corresponding row:\\n')\n",
        "    ngr = [f'{i} ({index_to_ngram[i]})' for i in range(num_distinct_ngrams) if M_ngram_doc[i][docid] == True]\n",
        "    print(ngr)\n",
        "    print('\\n-------------------------------------\\n')"
      ],
      "metadata": {
        "colab": {
          "base_uri": "https://localhost:8080/"
        },
        "id": "0njBvi6Yd7u_",
        "outputId": "9b2e31f7-b211-4f9d-ff48-969aea28d19b"
      },
      "execution_count": null,
      "outputs": [
        {
          "output_type": "stream",
          "name": "stdout",
          "text": [
            "Positions of non-zeros in column of docid 9602 of M_ngram_doc\n",
            "\n",
            "Clean message:\n",
            "  emergenciescat que puc fer i que no faqs del coronavirus a 14 de marc si us plau demanem difusio\n",
            "\n",
            "Non-zeros in corresponding row:\n",
            "\n",
            "['910 (si us plau)', '1221 (emergenciescat que puc)', '1222 (que puc fer)', '1223 (puc fer que)', '1224 (fer que no)', '2573 (14 de marc)', '39115 (que no faqs)', '39116 (no faqs del)', '39117 (faqs del coronavirus)', '39118 (del coronavirus 14)', '39119 (coronavirus 14 de)', '39120 (de marc si)', '39121 (marc si us)', '39122 (us plau demanem)', '39123 (plau demanem difusio)']\n",
            "\n",
            "-------------------------------------\n",
            "\n",
            "Positions of non-zeros in column of docid 941 of M_ngram_doc\n",
            "\n",
            "Clean message:\n",
            "  hospiolot usem de forma responsable els recursos sanitaris061 urgencies per coronavirus i sanitaries012 consultes general\n",
            "\n",
            "Non-zeros in corresponding row:\n",
            "\n",
            "['1474 (usem de forma)', '1475 (de forma responsable)', '1476 (forma responsable els)', '1477 (responsable els recursos)', '1478 (els recursos sanitaris061)', '1479 (recursos sanitaris061 urgencies)', '1480 (sanitaris061 urgencies per)', '1481 (urgencies per coronavirus)', '1482 (per coronavirus sanitaries012)', '1483 (coronavirus sanitaries012 consultes)', '10257 (hospiolot usem de)', '10258 (sanitaries012 consultes general)']\n",
            "\n",
            "-------------------------------------\n",
            "\n"
          ]
        }
      ]
    },
    {
      "cell_type": "markdown",
      "metadata": {
        "id": "NP8wgsMYHnnc"
      },
      "source": [
        "# 5. Implement a permutation generator"
      ]
    },
    {
      "cell_type": "code",
      "source": [
        "# Implement the function random_permutation(k), which should generate a random permutation of the array [0, 2, 3, ..., k-1]\n",
        "def random_permutation(k):\n",
        "  return list(np.random.permutation(k))\n"
      ],
      "metadata": {
        "id": "B8Ap-HmwamE8"
      },
      "execution_count": null,
      "outputs": []
    },
    {
      "cell_type": "code",
      "execution_count": null,
      "metadata": {
        "colab": {
          "base_uri": "https://localhost:8080/"
        },
        "id": "-t9cHVy-Hnnd",
        "outputId": "a67a4e32-7078-4aed-a352-48a9e73f6a6e"
      },
      "outputs": [
        {
          "output_type": "stream",
          "name": "stdout",
          "text": [
            "Test one permutation:\n",
            "['2 (do)', '3 (tīn)', '5 (pāṅc)', '4 (chār)', '1 (ek)']\n",
            "['2 (dva)', '3 (tri)', '5 (pet)', '4 (četiri)', '1 (jedan)']\n",
            "\n",
            "Test another permutation\n",
            "['2 (do)', '3 (tīn)', '5 (pāṅc)', '4 (chār)', '1 (ek)']\n",
            "['2 (dva)', '3 (tri)', '5 (pet)', '4 (četiri)', '1 (jedan)']\n"
          ]
        }
      ],
      "source": [
        "# Further test this by applying the same permutation on two lists. The code below, which you must leave as-is, \n",
        "# should print both lists in the same ordering, so that alpha is in the same position of a, beta in the same \n",
        "# position as b, and so on.\n",
        "\n",
        "\n",
        "\n",
        "# LEAVE AS-IS\n",
        "\n",
        "# Permute a list according to a permutation\n",
        "def permuter(original_list, permutation):\n",
        "    permuted_list = []\n",
        "    for index in permutation:\n",
        "        permuted_list.append(original_list[index])\n",
        "    return permuted_list\n",
        "\n",
        "# Code for testing permutations\n",
        "original_list_1 = [\"1 (ek)\", \"2 (do)\", \"3 (tīn)\", \"4 (chār)\", \"5 (pāṅc)\"]\n",
        "original_list_2 = [\"1 (jedan)\", \"2 (dva)\", \"3 (tri)\", \"4 (četiri)\", \"5 (pet)\"]\n",
        "\n",
        "print(\"Test one permutation:\")\n",
        "permutation_1 = random_permutation(5)\n",
        "print(permuter(original_list_1, permutation_1))\n",
        "print(permuter(original_list_2, permutation_1))\n",
        "\n",
        "print()\n",
        "\n",
        "print(\"Test another permutation\")\n",
        "permutation_2 = random_permutation(5)\n",
        "print(permuter(original_list_1, permutation_2))\n",
        "print(permuter(original_list_2, permutation_2))"
      ]
    },
    {
      "cell_type": "markdown",
      "metadata": {
        "id": "8ntQ5T_0Hnne"
      },
      "source": [
        "# 6. Compute the signature of each document"
      ]
    },
    {
      "cell_type": "code",
      "execution_count": null,
      "metadata": {
        "colab": {
          "base_uri": "https://localhost:8080/"
        },
        "id": "NSdW4qxuHnne",
        "outputId": "22f12afd-5a61-4306-8500-47271e032c06"
      },
      "outputs": [
        {
          "output_type": "stream",
          "name": "stdout",
          "text": [
            "Permutation 0: 49833, 52572, 36935, ...\n",
            "Permutation 1: 373, 33965, 18267, ...\n",
            "Permutation 2: 5271, 56791, 47800, ...\n",
            "Permutation 3: 31377, 23835, 2861, ...\n",
            "Permutation 4: 57832, 14634, 65821, ...\n"
          ]
        }
      ],
      "source": [
        "# Leave this code as-is\n",
        "\n",
        "NUM_PERMUTATIONS = 5\n",
        "\n",
        "permutations = []\n",
        "\n",
        "# Create the permutations\n",
        "for i in range(NUM_PERMUTATIONS):\n",
        "    permutation = random_permutation(num_distinct_ngrams)\n",
        "    permutations.append(random_permutation(num_distinct_ngrams))\n",
        "    \n",
        "# Visualize the permutations by printing their first 3 elements\n",
        "for i in range(len(permutations)):\n",
        "    permutation = permutations[i]\n",
        "    print(\"Permutation %d: %d, %d, %d, ...\" % (i, permutation[0], permutation[1], permutation[2] ))"
      ]
    },
    {
      "cell_type": "code",
      "source": [
        "# Now, you implement the signature construction. The matrix M_signature_doc should contain in row i, column j, \n",
        "# the first ngram (the \"minimum\" one) that is present in a column (document), according to the order given \n",
        "# by a permutation.\n",
        "# This process may take a few minutes to be completed.\n",
        "\n",
        "\n",
        "\n",
        "M_signature_doc = np.full((NUM_PERMUTATIONS, len(messages)), np.nan)\n",
        "\n",
        "# Find the first ngram in a document, according to a permutation\n",
        "def find_first_one(docid, permutation):\n",
        "    for shingle_id in permutation:\n",
        "        if M_ngram_doc[shingle_id, docid] == True:\n",
        "            return shingle_id\n",
        "    return -1\n",
        "\n",
        "# Create permutations\n",
        "for permutation_num in range(NUM_PERMUTATIONS):\n",
        "    print(\"Creating signatures for permutation %d/%d\" % (permutation_num+1, NUM_PERMUTATIONS))\n",
        "    permutation = permutations[permutation_num]\n",
        "    for docid in range(len(messages)):\n",
        "        if docid % 1000 == 0:\n",
        "            print(\"- Scanning document %d of %d\" % (docid, len(messages)))\n",
        "        # replace this comment with your code\n",
        "        M_signature_doc[permutation_num][docid] = find_first_one(docid, permutation)"
      ],
      "metadata": {
        "colab": {
          "base_uri": "https://localhost:8080/"
        },
        "id": "QqkMtV8Mz3-S",
        "outputId": "d633e183-811e-499a-82c1-ad9e37737509"
      },
      "execution_count": null,
      "outputs": [
        {
          "output_type": "stream",
          "name": "stdout",
          "text": [
            "Creating signatures for permutation 1/5\n",
            "- Scanning document 0 of 10000\n",
            "- Scanning document 1000 of 10000\n",
            "- Scanning document 2000 of 10000\n",
            "- Scanning document 3000 of 10000\n",
            "- Scanning document 4000 of 10000\n",
            "- Scanning document 5000 of 10000\n",
            "- Scanning document 6000 of 10000\n",
            "- Scanning document 7000 of 10000\n",
            "- Scanning document 8000 of 10000\n",
            "- Scanning document 9000 of 10000\n",
            "Creating signatures for permutation 2/5\n",
            "- Scanning document 0 of 10000\n",
            "- Scanning document 1000 of 10000\n",
            "- Scanning document 2000 of 10000\n",
            "- Scanning document 3000 of 10000\n",
            "- Scanning document 4000 of 10000\n",
            "- Scanning document 5000 of 10000\n",
            "- Scanning document 6000 of 10000\n",
            "- Scanning document 7000 of 10000\n",
            "- Scanning document 8000 of 10000\n",
            "- Scanning document 9000 of 10000\n",
            "Creating signatures for permutation 3/5\n",
            "- Scanning document 0 of 10000\n",
            "- Scanning document 1000 of 10000\n",
            "- Scanning document 2000 of 10000\n",
            "- Scanning document 3000 of 10000\n",
            "- Scanning document 4000 of 10000\n",
            "- Scanning document 5000 of 10000\n",
            "- Scanning document 6000 of 10000\n",
            "- Scanning document 7000 of 10000\n",
            "- Scanning document 8000 of 10000\n",
            "- Scanning document 9000 of 10000\n",
            "Creating signatures for permutation 4/5\n",
            "- Scanning document 0 of 10000\n",
            "- Scanning document 1000 of 10000\n",
            "- Scanning document 2000 of 10000\n",
            "- Scanning document 3000 of 10000\n",
            "- Scanning document 4000 of 10000\n",
            "- Scanning document 5000 of 10000\n",
            "- Scanning document 6000 of 10000\n",
            "- Scanning document 7000 of 10000\n",
            "- Scanning document 8000 of 10000\n",
            "- Scanning document 9000 of 10000\n",
            "Creating signatures for permutation 5/5\n",
            "- Scanning document 0 of 10000\n",
            "- Scanning document 1000 of 10000\n",
            "- Scanning document 2000 of 10000\n",
            "- Scanning document 3000 of 10000\n",
            "- Scanning document 4000 of 10000\n",
            "- Scanning document 5000 of 10000\n",
            "- Scanning document 6000 of 10000\n",
            "- Scanning document 7000 of 10000\n",
            "- Scanning document 8000 of 10000\n",
            "- Scanning document 9000 of 10000\n"
          ]
        }
      ]
    },
    {
      "cell_type": "code",
      "execution_count": null,
      "metadata": {
        "colab": {
          "base_uri": "https://localhost:8080/"
        },
        "id": "LgsWYZLgHnng",
        "outputId": "99d95471-320a-4c4d-c558-cde1d4f61d32"
      },
      "outputs": [
        {
          "output_type": "stream",
          "name": "stdout",
          "text": [
            "Document #385\n",
            "Message       : RT @gencat: 🔴 El @govern de la @gencat anuncia el #confinament de tot Catalunya.\n",
            "\n",
            "Davant l’emergència de la #COVID19, el missatge és clau:…\n",
            "Clean message : gencat el govern de la gencat anuncia el confinament de tot catalunyadavant lemergencia de la covid19 el missatge es clau\n",
            "Ngrams        : [61, 3332, 3458, 4102, 4908, 4909, 4910, 4911, 4912, 4913, 4914, 4915, 4916, 4917, 4918, 4919, 4920, 4921]\n",
            "Signature     : [4917.0, 4912.0, 3332.0, 4908.0, 4909.0]\n",
            "\n",
            "Document #627\n",
            "Message       : PROCICAT_CORONAVIRUS. El @govern de la @gencat anuncia el #confinament de tot Catalunya. Davant l’emergència de la #COVID19, el missatge és clau: limitar la mobilitat ajudarà a evitar la propagació del #coronavirus. Evitem desplaçaments i reduïm la vida social #JoEmQuedoACasa\n",
            "Clean message : procicatcoronavirus el govern de la gencat anuncia el confinament de tot catalunya davant lemergencia de la covid19 el missatge es clau limitar la mobilitat ajudara a evitar la propagacio del coronavirus evitem desplacaments i reduim la vida social joemquedoacasa\n",
            "Ngrams        : [61, 3332, 3458, 4102, 4908, 4909, 4910, 4911, 4912, 4913, 4914, 4915, 4916, 4917, 4918, 4919, 4920, 4921]\n",
            "Signature     : [7251.0, 7247.0, 7249.0, 7249.0, 5671.0]\n"
          ]
        }
      ],
      "source": [
        "# Leave this code as-is\n",
        "\n",
        "def extract_ngrams(docid):\n",
        "    return [x for x in range(num_distinct_ngrams) if M_ngram_doc[x, i] == True]\n",
        "\n",
        "def extract_signature(docid):\n",
        "    return [M_signature_doc[x, docid] for x in range(NUM_PERMUTATIONS)]\n",
        "\n",
        "def print_sig(messages, M_ngram_doc, M_signature_doc, i):\n",
        "    print(\"Document #%d\" % i)\n",
        "    print(\"Message       : %s\" % messages[i])\n",
        "    print(\"Clean message : %s\" % clean(messages[i]))\n",
        "    print(\"Ngrams        : %s\" % extract_ngrams(i))\n",
        "    print(\"Signature     : %s\" % extract_signature(i))\n",
        "\n",
        "        \n",
        "i = 385\n",
        "j = 627\n",
        "\n",
        "print_sig(messages, M_ngram_doc, M_signature_doc, i )\n",
        "\n",
        "print()\n",
        "\n",
        "print_sig(messages, M_ngram_doc, M_signature_doc, j )"
      ]
    },
    {
      "cell_type": "markdown",
      "metadata": {
        "id": "EbOtS3IuHnnh"
      },
      "source": [
        "# 7. Compare all pairs of signatures"
      ]
    },
    {
      "cell_type": "code",
      "source": [
        "# code for comparing all signatures; print all documents that have at least 50 signature matches, considering both full matches and partial matches.\n",
        "\n",
        "is_possible_duplicate = {}\n",
        "\n",
        "thereshold = 50\n",
        "documents_thereshold = 0\n",
        "\n",
        "selected = {'difference': -500, 'docid': 0, 'full_matches': 0, 'partial_matches': 0}\n",
        "\n",
        "# Iterate through all documents\n",
        "for docid1 in range(len(messages)):\n",
        "\n",
        "     # Do not examine again a document that is a possible duplicate\n",
        "    if docid not in is_possible_duplicate:\n",
        "\n",
        "        # Counters for full and partial signature matches\n",
        "        count_sig_full_matches = 0\n",
        "        count_sig_partial_matches = 0\n",
        "\n",
        "        # Extract the signature of the doc1\n",
        "        signature1 = extract_signature(docid1)\n",
        "        if docid1 % 500 == 0:\n",
        "            print(\"%d/%d documents scanned\" % (docid1, len(messages)))\n",
        "\n",
        "        # Iterate through documents with docid larger than doc1\n",
        "        for docid2 in range(docid1+1, len(messages)):\n",
        "\n",
        "            # If this has not already been marked as duplicate of another document\n",
        "            if docid2 not in is_possible_duplicate:\n",
        "\n",
        "                # Extract signature of doc2\n",
        "                signature2 = extract_signature(docid2)\n",
        "\n",
        "                # REPLACE THIS COMMENT WITH YOUR CODE:\n",
        "                # - Increase count_sig_full_matches and count_sig_partial_matches as needed\n",
        "                # - Include docid2 in is_possible_duplicate if needed\n",
        "                jaccard_sim = jaccard_similarity(signature1, signature2)\n",
        "\n",
        "                if jaccard_sim > 0.2  and  jaccard_sim <= 1:\n",
        "\n",
        "                  if jaccard_sim == 1: count_sig_full_matches += 1\n",
        "                  else: count_sig_partial_matches += 1\n",
        "\n",
        "                  is_possible_duplicate[docid1]= docid2\n",
        "\n",
        "\n",
        "        # REPLACE THIS COMMENT WITH YOUR CODE\n",
        "        # - If the number of partial matches plus full matches exceeds a threshold\n",
        "        #   print the document doc1 and indicate how many matches of each type it has\n",
        "        \n",
        "        if count_sig_full_matches + count_sig_partial_matches > thereshold:\n",
        "          print(f'Document with id {docid1} has {count_sig_full_matches} full and {count_sig_partial_matches} partial matches')\n",
        "          documents_thereshold += 1\n",
        "          m = count_sig_full_matches - count_sig_partial_matches\n",
        "          if m > selected['difference']:\n",
        "            selected['difference'] = m\n",
        "            selected['docid'] = docid1\n",
        "            selected['full_matches'] = count_sig_full_matches\n",
        "            selected['partial_matches'] = count_sig_partial_matches\n"
      ],
      "metadata": {
        "colab": {
          "base_uri": "https://localhost:8080/"
        },
        "id": "benlVcM_2lgm",
        "outputId": "6ca14996-893d-4d32-fe05-01182033f533"
      },
      "execution_count": null,
      "outputs": [
        {
          "output_type": "stream",
          "name": "stdout",
          "text": [
            "0/10000 documents scanned\n",
            "Document with id 16 has 71 full and 18 partial matches\n",
            "Document with id 42 has 18 full and 34 partial matches\n",
            "Document with id 53 has 57 full and 0 partial matches\n",
            "Document with id 83 has 63 full and 0 partial matches\n",
            "Document with id 84 has 70 full and 18 partial matches\n",
            "Document with id 85 has 27 full and 24 partial matches\n",
            "Document with id 166 has 56 full and 0 partial matches\n",
            "Document with id 167 has 55 full and 0 partial matches\n",
            "Document with id 168 has 54 full and 0 partial matches\n",
            "Document with id 172 has 53 full and 0 partial matches\n",
            "Document with id 174 has 52 full and 0 partial matches\n",
            "Document with id 176 has 51 full and 0 partial matches\n",
            "Document with id 192 has 62 full and 0 partial matches\n",
            "Document with id 221 has 61 full and 0 partial matches\n",
            "Document with id 280 has 60 full and 0 partial matches\n",
            "Document with id 307 has 17 full and 70 partial matches\n",
            "Document with id 328 has 65 full and 0 partial matches\n",
            "Document with id 331 has 64 full and 0 partial matches\n",
            "Document with id 412 has 63 full and 0 partial matches\n",
            "Document with id 425 has 69 full and 17 partial matches\n",
            "Document with id 438 has 59 full and 0 partial matches\n",
            "Document with id 448 has 62 full and 0 partial matches\n",
            "Document with id 457 has 0 full and 74 partial matches\n",
            "Document with id 470 has 58 full and 0 partial matches\n",
            "Document with id 484 has 57 full and 0 partial matches\n",
            "500/10000 documents scanned\n",
            "Document with id 557 has 56 full and 0 partial matches\n",
            "Document with id 578 has 56 full and 0 partial matches\n",
            "Document with id 587 has 55 full and 0 partial matches\n",
            "Document with id 620 has 68 full and 17 partial matches\n",
            "Document with id 688 has 67 full and 17 partial matches\n",
            "Document with id 730 has 55 full and 0 partial matches\n",
            "Document with id 743 has 54 full and 0 partial matches\n",
            "Document with id 759 has 2 full and 71 partial matches\n",
            "Document with id 793 has 61 full and 0 partial matches\n",
            "Document with id 851 has 66 full and 17 partial matches\n",
            "Document with id 881 has 54 full and 0 partial matches\n",
            "Document with id 939 has 65 full and 17 partial matches\n",
            "Document with id 964 has 53 full and 0 partial matches\n",
            "Document with id 982 has 60 full and 0 partial matches\n",
            "Document with id 991 has 59 full and 0 partial matches\n",
            "Document with id 992 has 58 full and 0 partial matches\n",
            "Document with id 998 has 52 full and 0 partial matches\n",
            "1000/10000 documents scanned\n",
            "Document with id 1009 has 57 full and 0 partial matches\n",
            "Document with id 1030 has 64 full and 17 partial matches\n",
            "Document with id 1035 has 16 full and 64 partial matches\n",
            "Document with id 1069 has 63 full and 16 partial matches\n",
            "Document with id 1109 has 53 full and 0 partial matches\n",
            "Document with id 1119 has 62 full and 16 partial matches\n",
            "Document with id 1174 has 61 full and 16 partial matches\n",
            "Document with id 1213 has 60 full and 16 partial matches\n",
            "Document with id 1221 has 59 full and 16 partial matches\n",
            "Document with id 1231 has 51 full and 0 partial matches\n",
            "Document with id 1355 has 2 full and 70 partial matches\n",
            "Document with id 1401 has 58 full and 16 partial matches\n",
            "Document with id 1432 has 57 full and 16 partial matches\n",
            "Document with id 1474 has 56 full and 0 partial matches\n",
            "Document with id 1491 has 52 full and 0 partial matches\n",
            "1500/10000 documents scanned\n",
            "Document with id 1504 has 55 full and 0 partial matches\n",
            "Document with id 1510 has 15 full and 57 partial matches\n",
            "Document with id 1644 has 54 full and 0 partial matches\n",
            "Document with id 1698 has 51 full and 0 partial matches\n",
            "Document with id 1772 has 56 full and 15 partial matches\n",
            "Document with id 1849 has 55 full and 15 partial matches\n",
            "Document with id 1859 has 54 full and 15 partial matches\n",
            "Document with id 1901 has 53 full and 15 partial matches\n",
            "Document with id 1907 has 52 full and 15 partial matches\n",
            "Document with id 1923 has 51 full and 15 partial matches\n",
            "Document with id 1971 has 50 full and 15 partial matches\n",
            "Document with id 1975 has 49 full and 15 partial matches\n",
            "2000/10000 documents scanned\n",
            "Document with id 2051 has 48 full and 15 partial matches\n",
            "Document with id 2059 has 47 full and 15 partial matches\n",
            "Document with id 2062 has 46 full and 15 partial matches\n",
            "Document with id 2103 has 45 full and 15 partial matches\n",
            "Document with id 2148 has 44 full and 15 partial matches\n",
            "Document with id 2180 has 53 full and 0 partial matches\n",
            "Document with id 2181 has 52 full and 0 partial matches\n",
            "Document with id 2183 has 51 full and 0 partial matches\n",
            "Document with id 2199 has 14 full and 44 partial matches\n",
            "Document with id 2205 has 13 full and 44 partial matches\n",
            "Document with id 2206 has 43 full and 13 partial matches\n",
            "Document with id 2209 has 42 full and 13 partial matches\n",
            "Document with id 2359 has 41 full and 13 partial matches\n",
            "Document with id 2427 has 40 full and 13 partial matches\n",
            "2500/10000 documents scanned\n",
            "Document with id 2514 has 39 full and 13 partial matches\n",
            "Document with id 2517 has 38 full and 13 partial matches\n",
            "Document with id 2663 has 1 full and 70 partial matches\n",
            "Document with id 2706 has 1 full and 69 partial matches\n",
            "Document with id 2976 has 0 full and 69 partial matches\n",
            "3000/10000 documents scanned\n",
            "3500/10000 documents scanned\n",
            "4000/10000 documents scanned\n",
            "Document with id 4308 has 0 full and 68 partial matches\n",
            "Document with id 4399 has 0 full and 67 partial matches\n",
            "4500/10000 documents scanned\n",
            "5000/10000 documents scanned\n",
            "Document with id 5077 has 176 full and 3 partial matches\n",
            "Document with id 5080 has 175 full and 3 partial matches\n",
            "Document with id 5081 has 174 full and 3 partial matches\n",
            "Document with id 5083 has 173 full and 3 partial matches\n",
            "Document with id 5109 has 66 full and 0 partial matches\n",
            "Document with id 5117 has 71 full and 0 partial matches\n",
            "Document with id 5129 has 54 full and 0 partial matches\n",
            "Document with id 5146 has 65 full and 0 partial matches\n",
            "Document with id 5155 has 64 full and 0 partial matches\n",
            "Document with id 5200 has 172 full and 3 partial matches\n",
            "Document with id 5211 has 63 full and 0 partial matches\n",
            "Document with id 5225 has 62 full and 0 partial matches\n",
            "Document with id 5248 has 171 full and 3 partial matches\n",
            "Document with id 5250 has 170 full and 3 partial matches\n",
            "Document with id 5252 has 169 full and 3 partial matches\n",
            "Document with id 5257 has 168 full and 3 partial matches\n",
            "Document with id 5262 has 167 full and 3 partial matches\n",
            "Document with id 5267 has 166 full and 3 partial matches\n",
            "Document with id 5271 has 54 full and 0 partial matches\n",
            "Document with id 5273 has 165 full and 3 partial matches\n",
            "Document with id 5282 has 61 full and 0 partial matches\n",
            "Document with id 5316 has 53 full and 0 partial matches\n",
            "Document with id 5319 has 52 full and 0 partial matches\n",
            "Document with id 5334 has 164 full and 3 partial matches\n",
            "Document with id 5339 has 163 full and 3 partial matches\n",
            "Document with id 5343 has 162 full and 3 partial matches\n",
            "Document with id 5349 has 161 full and 3 partial matches\n",
            "Document with id 5372 has 160 full and 3 partial matches\n",
            "Document with id 5393 has 159 full and 3 partial matches\n",
            "Document with id 5394 has 158 full and 3 partial matches\n",
            "Document with id 5400 has 60 full and 0 partial matches\n",
            "Document with id 5403 has 70 full and 0 partial matches\n",
            "Document with id 5404 has 69 full and 0 partial matches\n",
            "Document with id 5426 has 157 full and 3 partial matches\n",
            "Document with id 5428 has 53 full and 0 partial matches\n",
            "Document with id 5429 has 156 full and 3 partial matches\n",
            "Document with id 5430 has 52 full and 0 partial matches\n",
            "Document with id 5437 has 155 full and 3 partial matches\n",
            "Document with id 5440 has 154 full and 3 partial matches\n",
            "Document with id 5445 has 51 full and 0 partial matches\n",
            "Document with id 5459 has 68 full and 0 partial matches\n",
            "Document with id 5475 has 153 full and 3 partial matches\n",
            "Document with id 5484 has 152 full and 3 partial matches\n",
            "5500/10000 documents scanned\n",
            "Document with id 5509 has 151 full and 3 partial matches\n",
            "Document with id 5515 has 150 full and 3 partial matches\n",
            "Document with id 5517 has 149 full and 3 partial matches\n",
            "Document with id 5520 has 148 full and 3 partial matches\n",
            "Document with id 5522 has 59 full and 0 partial matches\n",
            "Document with id 5525 has 58 full and 0 partial matches\n",
            "Document with id 5532 has 57 full and 0 partial matches\n",
            "Document with id 5539 has 56 full and 0 partial matches\n",
            "Document with id 5542 has 67 full and 0 partial matches\n",
            "Document with id 5558 has 55 full and 0 partial matches\n",
            "Document with id 5561 has 147 full and 3 partial matches\n",
            "Document with id 5564 has 54 full and 0 partial matches\n",
            "Document with id 5579 has 53 full and 0 partial matches\n",
            "Document with id 5583 has 51 full and 0 partial matches\n",
            "Document with id 5589 has 52 full and 0 partial matches\n",
            "Document with id 5592 has 66 full and 0 partial matches\n",
            "Document with id 5612 has 51 full and 0 partial matches\n",
            "Document with id 5619 has 65 full and 0 partial matches\n",
            "Document with id 5636 has 80 full and 0 partial matches\n",
            "Document with id 5642 has 64 full and 0 partial matches\n",
            "Document with id 5646 has 63 full and 0 partial matches\n",
            "Document with id 5648 has 62 full and 0 partial matches\n",
            "Document with id 5662 has 61 full and 0 partial matches\n",
            "Document with id 5664 has 60 full and 0 partial matches\n",
            "Document with id 5698 has 79 full and 0 partial matches\n",
            "Document with id 5700 has 78 full and 0 partial matches\n",
            "Document with id 5725 has 77 full and 0 partial matches\n",
            "Document with id 5733 has 76 full and 0 partial matches\n",
            "Document with id 5740 has 75 full and 0 partial matches\n",
            "Document with id 5751 has 146 full and 3 partial matches\n",
            "Document with id 5762 has 74 full and 0 partial matches\n",
            "Document with id 5784 has 145 full and 3 partial matches\n",
            "Document with id 5787 has 144 full and 3 partial matches\n",
            "Document with id 5818 has 59 full and 0 partial matches\n",
            "Document with id 5822 has 143 full and 3 partial matches\n",
            "Document with id 5858 has 142 full and 3 partial matches\n",
            "Document with id 5885 has 141 full and 3 partial matches\n",
            "Document with id 5891 has 140 full and 3 partial matches\n",
            "Document with id 5892 has 139 full and 3 partial matches\n",
            "Document with id 5901 has 138 full and 3 partial matches\n",
            "Document with id 5902 has 137 full and 3 partial matches\n",
            "Document with id 5917 has 136 full and 3 partial matches\n",
            "Document with id 5918 has 58 full and 0 partial matches\n",
            "Document with id 5957 has 57 full and 0 partial matches\n",
            "Document with id 5960 has 56 full and 0 partial matches\n",
            "Document with id 5968 has 73 full and 0 partial matches\n",
            "Document with id 5998 has 55 full and 0 partial matches\n",
            "6000/10000 documents scanned\n",
            "Document with id 6005 has 72 full and 0 partial matches\n",
            "Document with id 6010 has 71 full and 0 partial matches\n",
            "Document with id 6024 has 135 full and 3 partial matches\n",
            "Document with id 6026 has 134 full and 3 partial matches\n",
            "Document with id 6055 has 133 full and 3 partial matches\n",
            "Document with id 6063 has 132 full and 3 partial matches\n",
            "Document with id 6069 has 131 full and 3 partial matches\n",
            "Document with id 6118 has 54 full and 0 partial matches\n",
            "Document with id 6130 has 70 full and 0 partial matches\n",
            "Document with id 6157 has 130 full and 3 partial matches\n",
            "Document with id 6160 has 129 full and 3 partial matches\n",
            "Document with id 6164 has 128 full and 3 partial matches\n",
            "Document with id 6165 has 127 full and 3 partial matches\n",
            "Document with id 6169 has 126 full and 3 partial matches\n",
            "Document with id 6171 has 125 full and 3 partial matches\n",
            "Document with id 6189 has 124 full and 3 partial matches\n",
            "Document with id 6212 has 123 full and 3 partial matches\n",
            "Document with id 6213 has 122 full and 3 partial matches\n",
            "Document with id 6215 has 121 full and 3 partial matches\n",
            "Document with id 6219 has 120 full and 3 partial matches\n",
            "Document with id 6237 has 119 full and 3 partial matches\n",
            "Document with id 6268 has 118 full and 3 partial matches\n",
            "Document with id 6312 has 53 full and 0 partial matches\n",
            "Document with id 6315 has 52 full and 0 partial matches\n",
            "Document with id 6324 has 51 full and 0 partial matches\n",
            "Document with id 6369 has 69 full and 0 partial matches\n",
            "Document with id 6374 has 68 full and 0 partial matches\n",
            "Document with id 6391 has 67 full and 0 partial matches\n",
            "Document with id 6393 has 66 full and 0 partial matches\n",
            "Document with id 6405 has 65 full and 0 partial matches\n",
            "Document with id 6408 has 64 full and 0 partial matches\n",
            "Document with id 6452 has 117 full and 3 partial matches\n",
            "Document with id 6466 has 63 full and 0 partial matches\n",
            "Document with id 6496 has 62 full and 0 partial matches\n",
            "6500/10000 documents scanned\n",
            "Document with id 6510 has 61 full and 0 partial matches\n",
            "Document with id 6511 has 60 full and 0 partial matches\n",
            "Document with id 6517 has 59 full and 0 partial matches\n",
            "Document with id 6636 has 116 full and 3 partial matches\n",
            "Document with id 6698 has 115 full and 3 partial matches\n",
            "Document with id 6734 has 114 full and 3 partial matches\n",
            "Document with id 6738 has 113 full and 3 partial matches\n",
            "Document with id 6739 has 112 full and 3 partial matches\n",
            "Document with id 6760 has 111 full and 3 partial matches\n",
            "Document with id 6761 has 110 full and 3 partial matches\n",
            "Document with id 6770 has 109 full and 3 partial matches\n",
            "Document with id 6774 has 108 full and 3 partial matches\n",
            "Document with id 6780 has 107 full and 3 partial matches\n",
            "Document with id 6786 has 106 full and 3 partial matches\n",
            "Document with id 6787 has 105 full and 3 partial matches\n",
            "Document with id 6824 has 104 full and 3 partial matches\n",
            "Document with id 6854 has 103 full and 3 partial matches\n",
            "Document with id 6909 has 102 full and 3 partial matches\n",
            "Document with id 6943 has 101 full and 3 partial matches\n",
            "Document with id 6996 has 58 full and 0 partial matches\n",
            "Document with id 6997 has 57 full and 0 partial matches\n",
            "7000/10000 documents scanned\n",
            "Document with id 7012 has 56 full and 0 partial matches\n",
            "Document with id 7027 has 55 full and 0 partial matches\n",
            "Document with id 7045 has 100 full and 3 partial matches\n",
            "Document with id 7046 has 54 full and 0 partial matches\n",
            "Document with id 7048 has 53 full and 0 partial matches\n",
            "Document with id 7066 has 52 full and 0 partial matches\n",
            "Document with id 7067 has 51 full and 0 partial matches\n",
            "Document with id 7189 has 99 full and 3 partial matches\n",
            "Document with id 7242 has 98 full and 3 partial matches\n",
            "Document with id 7249 has 97 full and 3 partial matches\n",
            "Document with id 7254 has 96 full and 3 partial matches\n",
            "Document with id 7258 has 95 full and 3 partial matches\n",
            "Document with id 7316 has 94 full and 3 partial matches\n",
            "Document with id 7320 has 93 full and 3 partial matches\n",
            "Document with id 7328 has 92 full and 3 partial matches\n",
            "Document with id 7376 has 91 full and 3 partial matches\n",
            "Document with id 7390 has 90 full and 3 partial matches\n",
            "7500/10000 documents scanned\n",
            "Document with id 7511 has 89 full and 3 partial matches\n",
            "Document with id 7530 has 88 full and 3 partial matches\n",
            "Document with id 7531 has 87 full and 3 partial matches\n",
            "Document with id 7532 has 86 full and 3 partial matches\n",
            "Document with id 7533 has 85 full and 3 partial matches\n",
            "Document with id 7539 has 84 full and 3 partial matches\n",
            "Document with id 7554 has 83 full and 3 partial matches\n",
            "Document with id 7600 has 82 full and 3 partial matches\n",
            "Document with id 7672 has 81 full and 3 partial matches\n",
            "Document with id 7702 has 80 full and 3 partial matches\n",
            "Document with id 7711 has 79 full and 3 partial matches\n",
            "Document with id 7763 has 2 full and 79 partial matches\n",
            "Document with id 7838 has 78 full and 2 partial matches\n",
            "Document with id 7884 has 77 full and 2 partial matches\n",
            "Document with id 7929 has 76 full and 2 partial matches\n",
            "Document with id 7931 has 75 full and 2 partial matches\n",
            "Document with id 7958 has 74 full and 2 partial matches\n",
            "8000/10000 documents scanned\n",
            "Document with id 8000 has 73 full and 2 partial matches\n",
            "Document with id 8013 has 72 full and 2 partial matches\n",
            "Document with id 8016 has 71 full and 2 partial matches\n",
            "Document with id 8025 has 70 full and 2 partial matches\n",
            "Document with id 8050 has 69 full and 2 partial matches\n",
            "Document with id 8160 has 68 full and 2 partial matches\n",
            "Document with id 8165 has 67 full and 2 partial matches\n",
            "Document with id 8174 has 66 full and 2 partial matches\n",
            "Document with id 8176 has 65 full and 2 partial matches\n",
            "Document with id 8179 has 64 full and 2 partial matches\n",
            "Document with id 8184 has 63 full and 2 partial matches\n",
            "Document with id 8186 has 62 full and 2 partial matches\n",
            "Document with id 8189 has 61 full and 2 partial matches\n",
            "Document with id 8268 has 60 full and 2 partial matches\n",
            "Document with id 8276 has 59 full and 2 partial matches\n",
            "Document with id 8297 has 58 full and 2 partial matches\n",
            "Document with id 8308 has 57 full and 2 partial matches\n",
            "Document with id 8347 has 1 full and 57 partial matches\n",
            "Document with id 8383 has 56 full and 1 partial matches\n",
            "8500/10000 documents scanned\n",
            "Document with id 8513 has 55 full and 1 partial matches\n",
            "Document with id 8560 has 54 full and 1 partial matches\n",
            "Document with id 8585 has 53 full and 1 partial matches\n",
            "Document with id 8662 has 52 full and 1 partial matches\n",
            "Document with id 8664 has 51 full and 1 partial matches\n",
            "Document with id 8672 has 50 full and 1 partial matches\n",
            "9000/10000 documents scanned\n",
            "9500/10000 documents scanned\n"
          ]
        }
      ]
    },
    {
      "cell_type": "code",
      "source": [
        "print(f'In total {documents_thereshold} documents have at least {thereshold} signature matches, considering both full matches and partial matches.')"
      ],
      "metadata": {
        "colab": {
          "base_uri": "https://localhost:8080/"
        },
        "id": "u3TZEGY37Tjq",
        "outputId": "9230b6e4-60a0-4a1b-bc7f-b03c66ff068d"
      },
      "execution_count": null,
      "outputs": [
        {
          "output_type": "stream",
          "name": "stdout",
          "text": [
            "In total 294 documents have at least 50 signature matches, considering both full matches and partial matches.\n"
          ]
        }
      ]
    },
    {
      "cell_type": "markdown",
      "source": [
        "Below we can see the tweet with largest difference between full matches and partial matches. I think that the reason why this tweet is not being changed is because it comes from an official chanel, it has important information about covid in times where the information was limited (14 march) and the tweet itself request difusion."
      ],
      "metadata": {
        "id": "UtVbM0eRwegx"
      }
    },
    {
      "cell_type": "code",
      "source": [
        "print(f'The tweet with largest difference between full matches and partial matches is:\\n{messages[selected[\"docid\"]]}\\n\\n With:\\n\\t- {selected[\"full_matches\"]} full matches\\n\\t- {selected[\"partial_matches\"]} partial matches')"
      ],
      "metadata": {
        "colab": {
          "base_uri": "https://localhost:8080/"
        },
        "id": "3pU3TkeKMVxX",
        "outputId": "b9c16b5d-1722-42be-d4d0-a9f0206407bc"
      },
      "execution_count": null,
      "outputs": [
        {
          "output_type": "stream",
          "name": "stdout",
          "text": [
            "The tweet with largest difference between full matches and partial matches is:\n",
            "RT @emergenciescat: Què puc fer i que no? FAQs del #coronavirus a 14 de març. si us plau, demanem difusió. https://t.co/D5HNxwYjwK\n",
            "\n",
            " With:\n",
            "\t- 176 full matches\n",
            "\t- 3 partial matches\n"
          ]
        }
      ]
    }
  ],
  "metadata": {
    "kernelspec": {
      "display_name": "Python 3",
      "language": "python",
      "name": "python3"
    },
    "language_info": {
      "codemirror_mode": {
        "name": "ipython",
        "version": 3
      },
      "file_extension": ".py",
      "mimetype": "text/x-python",
      "name": "python",
      "nbconvert_exporter": "python",
      "pygments_lexer": "ipython3",
      "version": "3.8.10"
    },
    "colab": {
      "provenance": []
    }
  },
  "nbformat": 4,
  "nbformat_minor": 0
}